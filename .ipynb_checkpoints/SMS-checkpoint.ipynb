{
 "cells": [
  {
   "cell_type": "code",
   "execution_count": 9,
   "metadata": {},
   "outputs": [
    {
     "ename": "TwilioRestException",
     "evalue": "HTTP 400 error: Unable to create record: The number +4917621404003 is unverified. Trial accounts cannot send messages to unverified numbers; verify +4917621404003 at twilio.com/user/account/phone-numbers/verified, or purchase a Twilio number to send messages to unverified numbers.",
     "output_type": "error",
     "traceback": [
      "\u001b[0;31m---------------------------------------------------------------------------\u001b[0m",
      "\u001b[0;31mTwilioRestException\u001b[0m                       Traceback (most recent call last)",
      "\u001b[0;32m<ipython-input-9-1fdabd170c47>\u001b[0m in \u001b[0;36m<module>\u001b[0;34m()\u001b[0m\n\u001b[1;32m     10\u001b[0m     \u001b[0mto\u001b[0m\u001b[0;34m=\u001b[0m\u001b[0;34m\"+4917621404003\"\u001b[0m\u001b[0;34m,\u001b[0m\u001b[0;34m\u001b[0m\u001b[0m\n\u001b[1;32m     11\u001b[0m     \u001b[0mfrom_\u001b[0m\u001b[0;34m=\u001b[0m\u001b[0;34m\"+4915735986975\"\u001b[0m\u001b[0;34m,\u001b[0m\u001b[0;34m\u001b[0m\u001b[0m\n\u001b[0;32m---> 12\u001b[0;31m     body=\"Madeleine ist die coolste auf der ganzen Welt?\")\n\u001b[0m\u001b[1;32m     13\u001b[0m     \u001b[0;31m#media_url=\"https://c1.staticflickr.com/3/2899/14341091933_1e92e62d12_b.jpg\")\u001b[0m\u001b[0;34m\u001b[0m\u001b[0;34m\u001b[0m\u001b[0m\n",
      "\u001b[0;32m/Users/matthiaszech/anaconda/lib/python2.7/site-packages/twilio/rest/api/v2010/account/message/__init__.pyc\u001b[0m in \u001b[0;36mcreate\u001b[0;34m(self, to, status_callback, application_sid, max_price, provide_feedback, validity_period, from_, messaging_service_sid, body, media_url)\u001b[0m\n\u001b[1;32m     76\u001b[0m             \u001b[0;34m'POST'\u001b[0m\u001b[0;34m,\u001b[0m\u001b[0;34m\u001b[0m\u001b[0m\n\u001b[1;32m     77\u001b[0m             \u001b[0mself\u001b[0m\u001b[0;34m.\u001b[0m\u001b[0m_uri\u001b[0m\u001b[0;34m,\u001b[0m\u001b[0;34m\u001b[0m\u001b[0m\n\u001b[0;32m---> 78\u001b[0;31m             \u001b[0mdata\u001b[0m\u001b[0;34m=\u001b[0m\u001b[0mdata\u001b[0m\u001b[0;34m,\u001b[0m\u001b[0;34m\u001b[0m\u001b[0m\n\u001b[0m\u001b[1;32m     79\u001b[0m         )\n\u001b[1;32m     80\u001b[0m \u001b[0;34m\u001b[0m\u001b[0m\n",
      "\u001b[0;32m/Users/matthiaszech/anaconda/lib/python2.7/site-packages/twilio/base/version.pyc\u001b[0m in \u001b[0;36mcreate\u001b[0;34m(self, method, uri, params, data, headers, auth, timeout, allow_redirects)\u001b[0m\n\u001b[1;32m    207\u001b[0m \u001b[0;34m\u001b[0m\u001b[0m\n\u001b[1;32m    208\u001b[0m         \u001b[0;32mif\u001b[0m \u001b[0mresponse\u001b[0m\u001b[0;34m.\u001b[0m\u001b[0mstatus_code\u001b[0m \u001b[0;34m<\u001b[0m \u001b[0;36m200\u001b[0m \u001b[0;32mor\u001b[0m \u001b[0mresponse\u001b[0m\u001b[0;34m.\u001b[0m\u001b[0mstatus_code\u001b[0m \u001b[0;34m>=\u001b[0m \u001b[0;36m300\u001b[0m\u001b[0;34m:\u001b[0m\u001b[0;34m\u001b[0m\u001b[0m\n\u001b[0;32m--> 209\u001b[0;31m             \u001b[0;32mraise\u001b[0m \u001b[0mself\u001b[0m\u001b[0;34m.\u001b[0m\u001b[0mexception\u001b[0m\u001b[0;34m(\u001b[0m\u001b[0mmethod\u001b[0m\u001b[0;34m,\u001b[0m \u001b[0muri\u001b[0m\u001b[0;34m,\u001b[0m \u001b[0mresponse\u001b[0m\u001b[0;34m,\u001b[0m \u001b[0;34m'Unable to create record'\u001b[0m\u001b[0;34m)\u001b[0m\u001b[0;34m\u001b[0m\u001b[0m\n\u001b[0m\u001b[1;32m    210\u001b[0m \u001b[0;34m\u001b[0m\u001b[0m\n\u001b[1;32m    211\u001b[0m         \u001b[0;32mreturn\u001b[0m \u001b[0mjson\u001b[0m\u001b[0;34m.\u001b[0m\u001b[0mloads\u001b[0m\u001b[0;34m(\u001b[0m\u001b[0mresponse\u001b[0m\u001b[0;34m.\u001b[0m\u001b[0mcontent\u001b[0m\u001b[0;34m)\u001b[0m\u001b[0;34m\u001b[0m\u001b[0m\n",
      "\u001b[0;31mTwilioRestException\u001b[0m: HTTP 400 error: Unable to create record: The number +4917621404003 is unverified. Trial accounts cannot send messages to unverified numbers; verify +4917621404003 at twilio.com/user/account/phone-numbers/verified, or purchase a Twilio number to send messages to unverified numbers."
     ]
    }
   ],
   "source": [
    "from twilio.rest import Client\n",
    "\n",
    "# put your own credentials here\n",
    "account_sid = \"AC0eccc8a2cb33d6275f929b04d50ffdde\"\n",
    "auth_token = \"2b65cadbbd8e425b951837e8acb2642a\"\n",
    "\n",
    "client = Client(account_sid, auth_token)\n",
    "\n",
    "client.messages.create(\n",
    "    to=\"+4917621404003\",\n",
    "    from_=\"+4915735986975\",\n",
    "    body=\"Madeleine ist die coolste auf der ganzen Welt?\")\n",
    "    #media_url=\"https://c1.staticflickr.com/3/2899/14341091933_1e92e62d12_b.jpg\")"
   ]
  },
  {
   "cell_type": "code",
   "execution_count": 11,
   "metadata": {},
   "outputs": [
    {
     "ename": "ImportError",
     "evalue": "No module named apns",
     "output_type": "error",
     "traceback": [
      "\u001b[0;31m---------------------------------------------------------------------------\u001b[0m",
      "\u001b[0;31mImportError\u001b[0m                               Traceback (most recent call last)",
      "\u001b[0;32m<ipython-input-11-632ccd374d50>\u001b[0m in \u001b[0;36m<module>\u001b[0;34m()\u001b[0m\n\u001b[1;32m      1\u001b[0m \u001b[0;32mimport\u001b[0m \u001b[0mtime\u001b[0m\u001b[0;34m\u001b[0m\u001b[0m\n\u001b[0;32m----> 2\u001b[0;31m \u001b[0;32mfrom\u001b[0m \u001b[0mapns\u001b[0m \u001b[0;32mimport\u001b[0m \u001b[0mAPNs\u001b[0m\u001b[0;34m,\u001b[0m \u001b[0mFrame\u001b[0m\u001b[0;34m,\u001b[0m \u001b[0mPayload\u001b[0m\u001b[0;34m\u001b[0m\u001b[0m\n\u001b[0m\u001b[1;32m      3\u001b[0m \u001b[0;34m\u001b[0m\u001b[0m\n\u001b[1;32m      4\u001b[0m \u001b[0mapns\u001b[0m \u001b[0;34m=\u001b[0m \u001b[0mAPNs\u001b[0m\u001b[0;34m(\u001b[0m\u001b[0muse_sandbox\u001b[0m\u001b[0;34m=\u001b[0m\u001b[0mTrue\u001b[0m\u001b[0;34m,\u001b[0m \u001b[0mcert_file\u001b[0m\u001b[0;34m=\u001b[0m\u001b[0;34m'cert.pem'\u001b[0m\u001b[0;34m,\u001b[0m \u001b[0mkey_file\u001b[0m\u001b[0;34m=\u001b[0m\u001b[0;34m'key.pem'\u001b[0m\u001b[0;34m)\u001b[0m\u001b[0;34m\u001b[0m\u001b[0m\n\u001b[1;32m      5\u001b[0m \u001b[0;34m\u001b[0m\u001b[0m\n",
      "\u001b[0;31mImportError\u001b[0m: No module named apns"
     ]
    }
   ],
   "source": [
    "import time\n",
    "from apns import APNs, Frame, Payload\n",
    "\n",
    "apns = APNs(use_sandbox=True, cert_file='cert.pem', key_file='key.pem')\n",
    "\n",
    "# Send a notification\n",
    "token_hex = 'b5bb9d8014a0f9b1d61e21e796d78dccdf1352f23cd32812f4850b87'\n",
    "payload = Payload(alert=\"Hello World!\", sound=\"default\", badge=1)\n",
    "apns.gateway_server.send_notification(token_hex, payload)\n"
   ]
  },
  {
   "cell_type": "code",
   "execution_count": null,
   "metadata": {
    "collapsed": true
   },
   "outputs": [],
   "source": []
  }
 ],
 "metadata": {
  "kernelspec": {
   "display_name": "Python 2",
   "language": "python",
   "name": "python2"
  },
  "language_info": {
   "codemirror_mode": {
    "name": "ipython",
    "version": 2
   },
   "file_extension": ".py",
   "mimetype": "text/x-python",
   "name": "python",
   "nbconvert_exporter": "python",
   "pygments_lexer": "ipython2",
   "version": "2.7.13"
  }
 },
 "nbformat": 4,
 "nbformat_minor": 2
}
