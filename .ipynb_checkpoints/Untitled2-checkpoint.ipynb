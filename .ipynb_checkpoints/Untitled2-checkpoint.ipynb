{
 "cells": [
  {
   "cell_type": "code",
   "execution_count": 4,
   "metadata": {},
   "outputs": [
    {
     "name": "stderr",
     "output_type": "stream",
     "text": [
      "\u001b[1m\u001b[36mINFO: \u001b[39m\u001b[22m\u001b[36mPrecompiling module JuMP.\n",
      "\u001b[39m"
     ]
    }
   ],
   "source": [
    "using JuMP"
   ]
  },
  {
   "cell_type": "code",
   "execution_count": 12,
   "metadata": {},
   "outputs": [
    {
     "name": "stderr",
     "output_type": "stream",
     "text": [
      "\u001b[1m\u001b[36mINFO: \u001b[39m\u001b[22m\u001b[36mPrecompiling module Gurobi.\n",
      "\u001b[39m"
     ]
    }
   ],
   "source": [
    "using Gurobi"
   ]
  },
  {
   "cell_type": "code",
   "execution_count": 5,
   "metadata": {},
   "outputs": [
    {
     "data": {
      "text/plain": [
       "5-element Array{Int64,1}:\n",
       " 22\n",
       " 42\n",
       " 52\n",
       " 53\n",
       " 78"
      ]
     },
     "execution_count": 5,
     "metadata": {},
     "output_type": "execute_result"
    }
   ],
   "source": [
    "# Input preliminary data for starting the problem\n",
    "# -----------------------------------------------\n",
    "\n",
    "W=100\n",
    "cardinalityM=5\n",
    "M=collect(1:cardinalityM)\n",
    "A=eye(cardinalityM)\n",
    "p=zeros(5)\n",
    "b=[45; 38; 25; 11; 12]\n",
    "w=[22; 42; 52; 53; 78]\n"
   ]
  },
  {
   "cell_type": "code",
   "execution_count": 14,
   "metadata": {},
   "outputs": [
    {
     "name": "stdout",
     "output_type": "stream",
     "text": [
      "Min x[1] + x[2] + x[3] + x[4] + x[5]\n",
      "Subject to\n",
      " x[1] = 45\n",
      " x[2] = 38\n",
      " x[3] = 25\n",
      " x[4] = 11\n",
      " x[5] = 12\n",
      " 0 ≤ x[i] ≤ 1.0e6 ∀ i ∈ {1,2,3,4,5}\n"
     ]
    }
   ],
   "source": [
    "# Description of the master problem with the initial data\n",
    "#----------------------\n",
    "\n",
    "cutstockMain = Model(solver=GurobiSolver(Presolve=0)) # Model for the master problem\n",
    "Jprime=collect(1:size(A,2)) # Initial number of variables\n",
    "@variable(cutstockMain, 0 <= x[Jprime] <= 1000000) # Defining the variables\n",
    "@objective(cutstockMain, Min, sum(1*x[j] for j in Jprime)) # Setting the objective\n",
    "@constraint(cutstockMain, consRef[i=1:cardinalityM], sum(A[i,j]*x[j] for j in Jprime)==b[i]) \n",
    "# Here the second argument consRef[i=1:cardinalityM] means that the i-th constraint aᵢᵀx = bᵢ has the corresponding constraint reference\n",
    "# consRef[i]\n",
    "print(cutstockMain)"
   ]
  },
  {
   "cell_type": "code",
   "execution_count": 15,
   "metadata": {},
   "outputs": [
    {
     "name": "stdout",
     "output_type": "stream",
     "text": [
      "Optimize a model with 5 rows, 5 columns and 5 nonzeros\n",
      "Coefficient statistics:\n",
      "  Matrix range     [1e+00, 1e+00]\n",
      "  Objective range  [1e+00, 1e+00]\n",
      "  Bounds range     [1e+06, 1e+06]\n",
      "  RHS range        [1e+01, 4e+01]\n",
      "Iteration    Objective       Primal Inf.    Dual Inf.      Time\n",
      "       0    1.3100000e+02   0.000000e+00   0.000000e+00      0s\n",
      "\n",
      "Solved in 0 iterations and 0.01 seconds\n",
      "Optimal objective  1.310000000e+02\n",
      "Current solution of the master problem is x: 1 dimensions:\n",
      "[1] = 45.0\n",
      "[2] = 38.0\n",
      "[3] = 25.0\n",
      "[4] = 11.0\n",
      "[5] = 12.0\n",
      "Current objective value of the master problem is 131.0\n"
     ]
    }
   ],
   "source": [
    "# Solving the master problem with the initial data\n",
    "# ------------------------------------------------\n",
    "solve(cutstockMain)\n",
    "println(\"Current solution of the master problem is \", getvalue(x))\n",
    "println(\"Current objective value of the master problem is \", getobjectivevalue(cutstockMain))"
   ]
  },
  {
   "cell_type": "code",
   "execution_count": 16,
   "metadata": {},
   "outputs": [
    {
     "name": "stdout",
     "output_type": "stream",
     "text": [
      "The array storing the dual variables is [1.0, 1.0, 1.0, 1.0, 1.0]\n"
     ]
    }
   ],
   "source": [
    "#Collect the dual variables for the equality constraints and store them in an array p\n",
    "for i in M\n",
    "    p[i] = getdual(consRef[i]) # These p[i] are the input data for the subproblem\n",
    "end \n",
    "println(\"The array storing the dual variables is \", p)"
   ]
  },
  {
   "cell_type": "code",
   "execution_count": 19,
   "metadata": {},
   "outputs": [
    {
     "name": "stdout",
     "output_type": "stream",
     "text": [
      "Min -Ajstar[1] - Ajstar[2] - Ajstar[3] - Ajstar[4] - Ajstar[5] + 1\n",
      "Subject to\n",
      " 22 Ajstar[1] + 42 Ajstar[2] + 52 Ajstar[3] + 53 Ajstar[4] + 78 Ajstar[5] ≤ 100\n",
      " 0 ≤ Ajstar[i] ≤ 1.0e6, integer, ∀ i ∈ {1,2,3,4,5}\n"
     ]
    }
   ],
   "source": [
    "# Describe the sub problem\n",
    "# ------------------------\n",
    "cutstockSub=Model(solver=GurobiSolver(Presolve=0)) # Model for the subproblem\n",
    "@variable(cutstockSub, 0 <= Ajstar[M] <= 1000000, Int )\n",
    "@objective(cutstockSub, Min, 1-sum(p[i]*Ajstar[i] for i in M))\n",
    "@constraint(cutstockSub, sum(w[i]*Ajstar[i] for i in M) <= W)\n",
    "print(cutstockSub)"
   ]
  },
  {
   "cell_type": "code",
   "execution_count": 20,
   "metadata": {},
   "outputs": [
    {
     "name": "stdout",
     "output_type": "stream",
     "text": [
      "Optimize a model with 1 rows, 5 columns and 5 nonzeros\n",
      "Variable types: 0 continuous, 5 integer (0 binary)\n",
      "Coefficient statistics:\n",
      "  Matrix range     [2e+01, 8e+01]\n",
      "  Objective range  [1e+00, 1e+00]\n",
      "  Bounds range     [1e+06, 1e+06]\n",
      "  RHS range        [1e+02, 1e+02]\n",
      "Found heuristic solution: objective -4\n",
      "Variable types: 0 continuous, 5 integer (0 binary)\n",
      "\n",
      "Root relaxation: cutoff, 0 iterations, 0.00 seconds\n",
      "\n",
      "Explored 0 nodes (0 simplex iterations) in 0.01 seconds\n",
      "Thread count was 4 (of 4 available processors)\n",
      "\n",
      "Solution count 1: -4 \n",
      "\n",
      "Optimal solution found (tolerance 1.00e-04)\n",
      "Best objective -4.000000000000e+00, best bound -4.000000000000e+00, gap 0.0000%\n",
      "The minimum component of the reduced cost vector is -3.0\n"
     ]
    }
   ],
   "source": [
    "# Solve the sub problem\n",
    "# ---------------------\n",
    "solve(cutstockSub)\n",
    "minreducedCost=getobjectivevalue(cutstockSub)\n",
    "println(\"The minimum component of the reduced cost vector is \", minreducedCost)\n"
   ]
  },
  {
   "cell_type": "code",
   "execution_count": 22,
   "metadata": {},
   "outputs": [
    {
     "name": "stdout",
     "output_type": "stream",
     "text": [
      "We have a cost reducing column Ajstar: 1 dimensions:\n",
      "[1] = 4.0\n",
      "[2] = -0.0\n",
      "[3] = -0.0\n",
      "[4] = -0.0\n",
      "[5] = -0.0\n"
     ]
    }
   ],
   "source": [
    "if minreducedCost >= 0\n",
    "    println(\"We are done, current solution of the master problem is optimal\")\n",
    "else\n",
    "    println(\"We have a cost reducing column \", getvalue(Ajstar))\n",
    "end"
   ]
  },
  {
   "cell_type": "code",
   "execution_count": 23,
   "metadata": {},
   "outputs": [
    {
     "data": {
      "text/plain": [
       "JuMP.JuMPArray{JuMP.Variable,1,Tuple{Array{Int64,1}}}"
      ]
     },
     "execution_count": 23,
     "metadata": {},
     "output_type": "execute_result"
    }
   ],
   "source": [
    "typeof(Ajstar)\n"
   ]
  },
  {
   "cell_type": "code",
   "execution_count": 24,
   "metadata": {
    "collapsed": true
   },
   "outputs": [],
   "source": [
    "Anew=Float64[] # This Anew correspond to the newly added column to the A matrix\n",
    "for i in 1:cardinalityM\n",
    "    push!(Anew, getvalue(Ajstar)[i])\n",
    "end\n"
   ]
  },
  {
   "cell_type": "code",
   "execution_count": 25,
   "metadata": {},
   "outputs": [
    {
     "data": {
      "text/latex": [
       "$$ Empty Array{Variable} (no indices) $$"
      ],
      "text/plain": [
       "0-element Array{JuMP.Variable,1}"
      ]
     },
     "execution_count": 25,
     "metadata": {},
     "output_type": "execute_result"
    }
   ],
   "source": [
    "xNewArray=Variable[] # The newly added variables by flow control will be\n",
    "# pushed to the new array of variables xNewArray"
   ]
  },
  {
   "cell_type": "code",
   "execution_count": 26,
   "metadata": {},
   "outputs": [
    {
     "name": "stdout",
     "output_type": "stream",
     "text": [
      "Warning for adding variables: zero or small (< 1e-13) coefficients, ignored\n",
      "Min x[1] + x[2] + x[3] + x[4] + x[5] + xNew\n",
      "Subject to\n",
      " x[1] + 4 xNew = 45\n",
      " x[2] = 38\n",
      " x[3] = 25\n",
      " x[4] = 11\n",
      " x[5] = 12\n",
      " 0 ≤ x[i] ≤ 1.0e6 ∀ i ∈ {1,2,3,4,5}\n",
      " 0 ≤ xNew ≤ 1.0e6\n"
     ]
    }
   ],
   "source": [
    "# Modify the master problem by adding the new column Anew to the old A matrix\n",
    "@variable(\n",
    "cutstockMain, # Model to be modified\n",
    "0 <= xNew <= 1000000, # New variable to be added\n",
    "objective=1, # cost coefficient of new variable in the objective\n",
    "inconstraints=consRef,  # constraints to be modified\n",
    "coefficients=Anew # the coefficients of the variable in those constraints\n",
    ") \n",
    "\n",
    "# The line above adds the column (aᵢⱼ*)ᵢ=Aⱼ* to A <br>\n",
    "# and add a corresponding new variable xⱼ* to the list of variable\n",
    "\n",
    "push!(xNewArray, xNew) # Pushing the new variable in the array of new variables\n",
    "print(cutstockMain)\n"
   ]
  },
  {
   "cell_type": "code",
   "execution_count": 32,
   "metadata": {},
   "outputs": [
    {
     "name": "stdout",
     "output_type": "stream",
     "text": [
      "Optimize a model with 5 rows, 5 columns and 5 nonzeros\n",
      "Coefficient statistics:\n",
      "  Matrix range     [1e+00, 1e+00]\n",
      "  Objective range  [1e+00, 1e+00]\n",
      "  Bounds range     [1e+06, 1e+06]\n",
      "  RHS range        [1e+01, 4e+01]\n",
      "Iteration    Objective       Primal Inf.    Dual Inf.      Time\n",
      "       0    1.3100000e+02   0.000000e+00   0.000000e+00      0s\n",
      "\n",
      "Solved in 0 iterations and 0.00 seconds\n",
      "Optimal objective  1.310000000e+02\n",
      "Optimize a model with 1 rows, 5 columns and 5 nonzeros\n",
      "Variable types: 0 continuous, 5 integer (0 binary)\n",
      "Coefficient statistics:\n",
      "  Matrix range     [2e+01, 8e+01]\n",
      "  Objective range  [1e+00, 1e+00]\n",
      "  Bounds range     [1e+06, 1e+06]\n",
      "  RHS range        [1e+02, 1e+02]\n",
      "Found heuristic solution: objective -4\n",
      "Variable types: 0 continuous, 5 integer (0 binary)\n",
      "\n",
      "Root relaxation: cutoff, 0 iterations, 0.00 seconds\n",
      "\n",
      "Explored 0 nodes (0 simplex iterations) in 0.00 seconds\n",
      "Thread count was 4 (of 4 available processors)\n",
      "\n",
      "Solution count 1: -4 \n",
      "\n",
      "Optimal solution found (tolerance 1.00e-04)\n",
      "Best objective -4.000000000000e+00, best bound -4.000000000000e+00, gap 0.0000%\n",
      "Warning for adding variables: zero or small (< 1e-13) coefficients, ignored\n",
      "Optimize a model with 5 rows, 6 columns and 6 nonzeros\n",
      "Coefficient statistics:\n",
      "  Matrix range     [1e+00, 4e+00]\n",
      "  Objective range  [1e+00, 1e+00]\n",
      "  Bounds range     [1e+06, 1e+06]\n",
      "  RHS range        [1e+01, 4e+01]\n",
      "Iteration    Objective       Primal Inf.    Dual Inf.      Time\n",
      "       0   -2.9998690e+06   2.499972e+05   0.000000e+00      0s\n",
      "       1    9.7250000e+01   0.000000e+00   0.000000e+00      0s\n",
      "\n",
      "Solved in 1 iterations and 0.00 seconds\n",
      "Optimal objective  9.725000000e+01\n",
      "Optimize a model with 2 rows, 10 columns and 10 nonzeros\n",
      "Variable types: 0 continuous, 10 integer (0 binary)\n",
      "Coefficient statistics:\n",
      "  Matrix range     [2e+01, 8e+01]\n",
      "  Objective range  [2e-01, 1e+00]\n",
      "  Bounds range     [1e+06, 1e+06]\n",
      "  RHS range        [1e+02, 1e+02]\n",
      "\n",
      "Loaded MIP start with objective -1 (0.00s)\n",
      "Loaded MIP start with objective -2 (0.01s)\n",
      "MIP start did not produce a new incumbent solution\n",
      "MIP start did not produce a new incumbent solution\n",
      "\n",
      "Variable types: 0 continuous, 10 integer (0 binary)\n",
      "\n",
      "Root relaxation: objective -2.307692e+00, 1 iterations, 0.00 seconds\n",
      "\n",
      "    Nodes    |    Current Node    |     Objective Bounds      |     Work\n",
      " Expl Unexpl |  Obj  Depth IntInf | Incumbent    BestBd   Gap | It/Node Time\n",
      "\n",
      "     0     0   -2.30769    0    1   -2.00000   -2.30769  15.4%     -    0s\n",
      "\n",
      "Explored 1 nodes (1 simplex iterations) in 0.01 seconds\n",
      "Thread count was 4 (of 4 available processors)\n",
      "\n",
      "Solution count 2: -2 -1 \n",
      "\n",
      "Optimal solution found (tolerance 1.00e-04)\n",
      "Best objective -2.000000000000e+00, best bound -2.000000000000e+00, gap 0.0000%\n",
      "Optimize a model with 5 rows, 7 columns and 7 nonzeros\n",
      "Coefficient statistics:\n",
      "  Matrix range     [1e+00, 4e+00]\n",
      "  Objective range  [1e+00, 1e+00]\n",
      "  Bounds range     [1e+06, 1e+06]\n",
      "  RHS range        [1e+01, 4e+01]\n",
      "Iteration    Objective       Primal Inf.    Dual Inf.      Time\n",
      "       0   -9.9990275e+05   2.499952e+05   0.000000e+00      0s\n",
      "       1    7.8250000e+01   0.000000e+00   0.000000e+00      0s\n",
      "\n",
      "Solved in 1 iterations and 0.00 seconds\n",
      "Optimal objective  7.825000000e+01\n",
      "Optimize a model with 3 rows, 15 columns and 15 nonzeros\n",
      "Variable types: 0 continuous, 15 integer (0 binary)\n",
      "Coefficient statistics:\n",
      "  Matrix range     [2e+01, 8e+01]\n",
      "  Objective range  [2e-01, 1e+00]\n",
      "  Bounds range     [1e+06, 1e+06]\n",
      "  RHS range        [1e+02, 1e+02]\n",
      "\n",
      "Loaded MIP start with objective -1 (0.00s)\n",
      "Loaded MIP start with objective -1.5 (0.00s)\n",
      "MIP start did not produce a new incumbent solution\n",
      "Loaded MIP start with objective -1.5 (0.00s)\n",
      "MIP start did not produce a new incumbent solution\n",
      "\n",
      "Variable types: 0 continuous, 15 integer (0 binary)\n",
      "\n",
      "Root relaxation: objective -1.905660e+00, 1 iterations, 0.00 seconds\n",
      "\n",
      "    Nodes    |    Current Node    |     Objective Bounds      |     Work\n",
      " Expl Unexpl |  Obj  Depth IntInf | Incumbent    BestBd   Gap | It/Node Time\n",
      "\n",
      "     0     0   -1.90566    0    1   -1.50000   -1.90566  27.0%     -    0s\n",
      "\n",
      "Explored 0 nodes (1 simplex iterations) in 0.00 seconds\n",
      "Thread count was 4 (of 4 available processors)\n",
      "\n",
      "Solution count 3: -1.5 -1.5 -1 \n",
      "\n",
      "Optimal solution found (tolerance 1.00e-04)\n",
      "Best objective -1.500000000000e+00, best bound -1.500000000000e+00, gap 0.0000%\n",
      "Optimize a model with 5 rows, 8 columns and 9 nonzeros\n",
      "Coefficient statistics:\n",
      "  Matrix range     [1e+00, 4e+00]\n",
      "  Objective range  [1e+00, 1e+00]\n",
      "  Bounds range     [1e+06, 1e+06]\n",
      "  RHS range        [1e+01, 4e+01]\n",
      "Iteration    Objective       Primal Inf.    Dual Inf.      Time\n",
      "       0   -4.9992175e+05   2.499939e+05   0.000000e+00      0s\n",
      "       1    7.2750000e+01   0.000000e+00   0.000000e+00      0s\n",
      "\n",
      "Solved in 1 iterations and 0.00 seconds\n",
      "Optimal objective  7.275000000e+01\n",
      "Optimize a model with 4 rows, 20 columns and 20 nonzeros\n",
      "Variable types: 0 continuous, 20 integer (0 binary)\n",
      "Coefficient statistics:\n",
      "  Matrix range     [2e+01, 8e+01]\n",
      "  Objective range  [2e-01, 1e+00]\n",
      "  Bounds range     [1e+06, 1e+06]\n",
      "  RHS range        [1e+02, 1e+02]\n",
      "\n",
      "Loaded MIP start with objective -1 (0.00s)\n",
      "Loaded MIP start with objective -1.5 (0.00s)\n",
      "MIP start did not produce a new incumbent solution\n",
      "MIP start did not produce a new incumbent solution\n",
      "\n",
      "Variable types: 0 continuous, 20 integer (0 binary)\n",
      "\n",
      "Root relaxation: cutoff, 0 iterations, 0.00 seconds\n",
      "\n",
      "Explored 0 nodes (0 simplex iterations) in 0.00 seconds\n",
      "Thread count was 4 (of 4 available processors)\n",
      "\n",
      "Solution count 2: -1.5 -1 \n",
      "\n",
      "Optimal solution found (tolerance 1.00e-04)\n",
      "Best objective -1.500000000000e+00, best bound -1.500000000000e+00, gap 0.0000%\n",
      "Optimize a model with 5 rows, 9 columns and 11 nonzeros\n",
      "Coefficient statistics:\n",
      "  Matrix range     [1e+00, 4e+00]\n",
      "  Objective range  [1e+00, 1e+00]\n",
      "  Bounds range     [1e+06, 1e+06]\n",
      "  RHS range        [1e+01, 4e+01]\n",
      "Iteration    Objective       Primal Inf.    Dual Inf.      Time\n",
      "       0   -4.9992725e+05   2.499935e+05   0.000000e+00      0s\n",
      "       1    6.0250000e+01   0.000000e+00   0.000000e+00      0s\n",
      "\n",
      "Solved in 1 iterations and 0.00 seconds\n",
      "Optimal objective  6.025000000e+01\n",
      "Optimize a model with 5 rows, 25 columns and 25 nonzeros\n",
      "Variable types: 0 continuous, 25 integer (0 binary)\n",
      "Coefficient statistics:\n",
      "  Matrix range     [2e+01, 8e+01]\n",
      "  Objective range  [2e-01, 1e+00]\n",
      "  Bounds range     [1e+06, 1e+06]\n",
      "  RHS range        [1e+02, 1e+02]\n",
      "\n",
      "Loaded MIP start with objective -1 (0.00s)\n",
      "Loaded MIP start with objective -1.25 (0.00s)\n",
      "MIP start did not produce a new incumbent solution\n",
      "MIP start did not produce a new incumbent solution\n",
      "\n",
      "Variable types: 0 continuous, 25 integer (0 binary)\n",
      "\n",
      "Root relaxation: cutoff, 0 iterations, 0.00 seconds\n",
      "\n",
      "Explored 0 nodes (0 simplex iterations) in 0.00 seconds\n",
      "Thread count was 4 (of 4 available processors)\n",
      "\n",
      "Solution count 2: -1.25 -1 \n",
      "\n",
      "Optimal solution found (tolerance 1.00e-04)\n",
      "Best objective -1.250000000000e+00, best bound -1.250000000000e+00, gap 0.0000%\n",
      "Optimize a model with 5 rows, 10 columns and 13 nonzeros\n",
      "Coefficient statistics:\n",
      "  Matrix range     [1e+00, 4e+00]\n",
      "  Objective range  [1e+00, 1e+00]\n",
      "  Bounds range     [1e+06, 1e+06]\n",
      "  RHS range        [1e+01, 4e+01]\n",
      "Iteration    Objective       Primal Inf.    Dual Inf.      Time\n",
      "       0   -2.4993975e+05   1.874957e+05   0.000000e+00      0s\n",
      "       1    5.7250000e+01   0.000000e+00   0.000000e+00      0s\n",
      "\n",
      "Solved in 1 iterations and 0.00 seconds\n",
      "Optimal objective  5.725000000e+01\n",
      "Optimize a model with 6 rows, 30 columns and 30 nonzeros\n",
      "Variable types: 0 continuous, 30 integer (0 binary)\n",
      "Coefficient statistics:\n",
      "  Matrix range     [2e+01, 8e+01]\n",
      "  Objective range  [2e-01, 8e-01]\n",
      "  Bounds range     [1e+06, 1e+06]\n",
      "  RHS range        [1e+02, 1e+02]\n",
      "\n",
      "Loaded MIP start with objective -0.75 (0.00s)\n",
      "Loaded MIP start with objective -1 (0.00s)\n",
      "MIP start did not produce a new incumbent solution\n",
      "MIP start did not produce a new incumbent solution\n",
      "\n",
      "Variable types: 0 continuous, 30 integer (0 binary)\n",
      "\n",
      "Root relaxation: cutoff, 0 iterations, 0.00 seconds\n",
      "\n",
      "Explored 0 nodes (0 simplex iterations) in 0.00 seconds\n",
      "Thread count was 4 (of 4 available processors)\n",
      "\n",
      "Solution count 2: -1 -0.75 \n",
      "\n",
      "Optimal solution found (tolerance 1.00e-04)\n",
      "Best objective -1.000000000000e+00, best bound -1.000000000000e+00, gap 0.0000%\n",
      "  0.268989 seconds"
     ]
    },
    {
     "name": "stderr",
     "output_type": "stream",
     "text": [
      "\u001b[1m\u001b[33mWARNING: \u001b[39m\u001b[22m\u001b[33mA variable or constraint named Ajstar is already attached to this model. If creating variables programmatically, use the anonymous variable syntax x = @variable(m, [1:N], ...).\u001b[39m\n",
      "\u001b[1m\u001b[33mWARNING: \u001b[39m\u001b[22m\u001b[33mA variable or constraint named Ajstar is already attached to this model. If creating variables programmatically, use the anonymous variable syntax x = @variable(m, [1:N], ...).\u001b[39m\n",
      "\u001b[1m\u001b[33mWARNING: \u001b[39m\u001b[22m\u001b[33mA variable or constraint named Ajstar is already attached to this model. If creating variables programmatically, use the anonymous variable syntax x = @variable(m, [1:N], ...).\u001b[39m\n",
      "\u001b[1m\u001b[33mWARNING: \u001b[39m\u001b[22m\u001b[33mA variable or constraint named Ajstar is already attached to this model. If creating variables programmatically, use the anonymous variable syntax x = @variable(m, [1:N], ...).\u001b[39m\n",
      "\u001b[1m\u001b[33mWARNING: \u001b[39m\u001b[22m\u001b[33mA variable or constraint named Ajstar is already attached to this model. If creating variables programmatically, use the anonymous variable syntax x = @variable(m, [1:N], ...).\u001b[39m\n"
     ]
    },
    {
     "name": "stdout",
     "output_type": "stream",
     "text": [
      " (52.22 k allocations: 2.844 MiB)\n",
      "Objective value: 57.25\n",
      "Current Solution is: x: 1 dimensions:\n",
      "[1] = 0.0\n",
      "[2] = 0.0\n",
      "[3] = 0.0\n",
      "[4] = 0.0\n",
      "[5] = 0.0\n",
      "With 5 variables added by flow control:\n",
      "[6] = 8.25\n",
      "[7] = 1.0\n",
      "[8] = 11.0\n",
      "[9] = 25.0\n",
      "[10] = 12.0\n",
      "Reduced cost of the current solution is 0.0\n"
     ]
    }
   ],
   "source": [
    "# Verfied to be working:\n",
    "\n",
    "# Uploading the packages:\n",
    "# -----------------------\n",
    "\n",
    "using JuMP\n",
    "using GLPKMathProgInterface\n",
    "\n",
    "# Input preliminary data for starting the problem\n",
    "# -----------------------------------------------\n",
    "\n",
    "W=100\n",
    "cardinalityM=5\n",
    "M=collect(1:cardinalityM)\n",
    "A=eye(cardinalityM)\n",
    "p=zeros(5)\n",
    "b=[45; 38; 25; 11; 12]\n",
    "w=[22; 42; 52; 53; 78]\n",
    "\n",
    "@time begin # time measurement begins\n",
    "\n",
    "# Solve the master problem with the initial data\n",
    "#-----------------------------------------------\n",
    "\n",
    "cutstockMain = Model(solver=GurobiSolver(Presolve=0)) # Model for the master problem\n",
    "Jprime=collect(1:size(A,2)) # Intial number of variables\n",
    "@variable(cutstockMain, 0 <= x[Jprime] <= 1000000) # Defining the variables\n",
    "    \n",
    "@objective(cutstockMain, Min, sum(1*x[j] for j in Jprime)) # Setting the objective\n",
    "    \n",
    "@constraint(cutstockMain, consRef[i=1:cardinalityM], sum(A[i,j]*x[j] for j in Jprime)==b[i]) # Adding the constraints\n",
    "# Here the second argument consRef[i=1:cardinalityM] means that the i-th constraint aᵢᵀx = bᵢ has \n",
    "# the corresponding constraint reference consRef[i]\n",
    "\n",
    "solve(cutstockMain)\n",
    " \n",
    "#Collect the dual variables for the equality constraints and store them in an array p\n",
    "getdual(consRef)\n",
    "for i in M\n",
    "    p[i] = getdual(consRef)[i] # These p[i] are the input data for the subproblem\n",
    "end \n",
    "\n",
    "# Solve the sub problem\n",
    "# -------------------\n",
    "\n",
    "cutstockSub=Model(solver=GurobiSolver(Presolve=0)) # Model for the subproblem\n",
    "@variable(cutstockSub, 0 <= Ajstar[M] <= 1000000, Int )\n",
    "@objective(cutstockSub, Min, 1-sum(p[i]*Ajstar[i] for i in M))\n",
    "@constraint(cutstockSub, sum(w[i]*Ajstar[i] for i in M) <= W)\n",
    "solve(cutstockSub)\n",
    "minReducedCost=getobjectivevalue(cutstockSub)\n",
    "\n",
    "Anew=Float64[] # This Anew correspond to the newly added column to the A matrix\n",
    "for i in 1:cardinalityM\n",
    "    push!(Anew, getvalue(Ajstar)[i])\n",
    "end\n",
    "\n",
    "xNewArray=Variable[] # The newly added variables by flow control will be pushed to the new array of variables xNewArray\n",
    "\n",
    "k=1 # Counter for the while loop\n",
    "\n",
    "                                                # Flow control\n",
    "                                                # ------------\n",
    "\n",
    "while minReducedCost < 0 #while (current solution of the master problem is suboptimal, i.e., subproblem objective value < 0)\n",
    "    # Solve the master problem by adding the new column Anew to the old A matrix\n",
    "     @variable(\n",
    "             cutstockMain, # Model to be modified\n",
    "             0 <= xNew <= 1000000, # New variable to be added\n",
    "             objective=1, # cost coefficient of new varaible in the objective\n",
    "             inconstraints=consRef,  # constraints to be modified\n",
    "             coefficients=Anew # the coefficients of the variable in those constraints\n",
    "            ) \n",
    "        # The line above adds the column (aᵢⱼ*)ᵢ=Aⱼ* to A <br>\n",
    "        # and add a corresponding new variable xⱼ* to the list of variable\n",
    "        push!(xNewArray, xNew) # Pushing the new variable in the array of new variables\n",
    "        setname(xNew, string(\"x[\",size(A,2)+k,\"]\")) # Changing the name of the variable \n",
    "                                               # otherwise all the newly added variables will have name xNew!\n",
    "        k=k+1 # Increasing k by 1\n",
    "        statusControlFlow=solve(cutstockMain)\n",
    "\n",
    "        #Collect the dual variables for the equality constraints and store them in an array p\n",
    "        getdual(consRef)\n",
    "        for i in M\n",
    "            p[i] = getdual(consRef)[i] \n",
    "        end \n",
    "\n",
    "        # Solving the modified sub problem        \n",
    "        @variable(cutstockSub, 0 <= Ajstar[M] <= 1000000, Int )\n",
    "        @objective(cutstockSub, Min, 1-sum{p[i]*Ajstar[i],i in M})\n",
    "        @constraint(cutstockSub, sum{w[i]*Ajstar[i], i in M} <= W)\n",
    "        solve(cutstockSub)\n",
    "        minReducedCost=getobjectivevalue(cutstockSub)\n",
    "\n",
    "        #Store the components of the solution of current subproblem into the column Anew    \n",
    "        Anew=Float64[]\n",
    "        for i in 1:cardinalityM\n",
    "            push!(Anew, getvalue(Ajstar)[i])\n",
    "        end\n",
    "    end # While loop ends\n",
    "    \n",
    "end # time measurement ends\n",
    "\n",
    "# Print the results\n",
    "# -----------------\n",
    "\n",
    "println(\"Objective value: \", getobjectivevalue(cutstockMain))\n",
    "println(\"Current Solution is: \", getvalue(x))\n",
    "println(\"With \", length(xNewArray), \" variables added by flow control:\")\n",
    "for i in 1:length(xNewArray)\n",
    "    println(\"[\",size(A,2)+i,\"] = \",getvalue(xNewArray[i]))\n",
    "end\n",
    "println(\"Reduced cost of the current solution is \", getobjectivevalue(cutstockSub))"
   ]
  },
  {
   "cell_type": "code",
   "execution_count": 29,
   "metadata": {},
   "outputs": [
    {
     "name": "stderr",
     "output_type": "stream",
     "text": [
      "\u001b[1m\u001b[36mINFO: \u001b[39m\u001b[22m\u001b[36mCloning cache of GLPK from https://github.com/JuliaOpt/GLPK.jl.git\n",
      "\u001b[39m\u001b[1m\u001b[36mINFO: \u001b[39m\u001b[22m\u001b[36mCloning cache of GLPKMathProgInterface from https://github.com/JuliaOpt/GLPKMathProgInterface.jl.git\n",
      "\u001b[39m\u001b[1m\u001b[36mINFO: \u001b[39m\u001b[22m\u001b[36mInstalling GLPK v0.4.2\n",
      "\u001b[39m\u001b[1m\u001b[36mINFO: \u001b[39m\u001b[22m\u001b[36mInstalling GLPKMathProgInterface v0.3.4\n",
      "\u001b[39m\u001b[1m\u001b[36mINFO: \u001b[39m\u001b[22m\u001b[36mBuilding Homebrew\n",
      "\u001b[39m\u001b[1m\u001b[36mINFO: \u001b[39m\u001b[22m\u001b[36mBuilding GLPK\n",
      "\u001b[39mWARNING: Compat.KERNEL is deprecated.\n",
      "  likely near /Users/matthiaszech/.julia/v0.6/GLPK/deps/build.jl:47\n",
      "WARNING: Compat.KERNEL is deprecated.\n",
      "  likely near /Users/matthiaszech/.julia/v0.6/GLPK/deps/build.jl:47\n",
      "in can_use at /Users/matthiaszech/.julia/v0.6/Homebrew/src/bindeps_integration.jl\n",
      "WARNING: Compat.KERNEL is deprecated.\n",
      "  likely near /Users/matthiaszech/.julia/v0.6/GLPK/deps/build.jl:47\n",
      "in package_available at /Users/matthiaszech/.julia/v0.6/Homebrew/src/bindeps_integration.jl\n",
      "Warning: Already linked: /Users/matthiaszech/.julia/v0.6/Homebrew/deps/usr/Cellar/glpk452/4.52\n",
      "\u001b[1m\u001b[36mINFO: \u001b[39m\u001b[22m\u001b[36mPackage database updated\n",
      "\u001b[39m\u001b[1m\u001b[36mINFO: \u001b[39m\u001b[22m\u001b[36mMETADATA is out-of-date — you may not have the latest version of GLPKMathProgInterface\n",
      "\u001b[39m\u001b[1m\u001b[36mINFO: \u001b[39m\u001b[22m\u001b[36mUse `Pkg.update()` to get the latest versions of your packages\n",
      "\u001b[39m"
     ]
    }
   ],
   "source": [
    "Pkg.add(\"GLPKMathProgInterface\")"
   ]
  },
  {
   "cell_type": "code",
   "execution_count": null,
   "metadata": {
    "collapsed": true
   },
   "outputs": [],
   "source": []
  }
 ],
 "metadata": {
  "kernelspec": {
   "display_name": "Julia 0.6.0",
   "language": "julia",
   "name": "julia-0.6"
  },
  "language_info": {
   "file_extension": ".jl",
   "mimetype": "application/julia",
   "name": "julia",
   "version": "0.6.0"
  },
  "toc": {
   "colors": {
    "hover_highlight": "#DAA520",
    "running_highlight": "#FF0000",
    "selected_highlight": "#FFD700"
   },
   "moveMenuLeft": true,
   "nav_menu": {
    "height": "12px",
    "width": "252px"
   },
   "navigate_menu": true,
   "number_sections": true,
   "sideBar": true,
   "threshold": 4,
   "toc_cell": false,
   "toc_section_display": "block",
   "toc_window_display": false,
   "widenNotebook": false
  }
 },
 "nbformat": 4,
 "nbformat_minor": 2
}
