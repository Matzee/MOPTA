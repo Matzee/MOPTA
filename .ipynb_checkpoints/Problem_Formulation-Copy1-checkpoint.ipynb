{
 "cells": [
  {
   "cell_type": "markdown",
   "metadata": {
    "slideshow": {
     "slide_type": "slide"
    }
   },
   "source": [
    "# Vehicle Routing Problem"
   ]
  },
  {
   "cell_type": "markdown",
   "metadata": {},
   "source": [
    "# Beschreibung des Ausgangsproblems"
   ]
  },
  {
   "cell_type": "markdown",
   "metadata": {},
   "source": [
    "* im Gegensatz zum klassischen TSP handelt es sich um ein gerichtetes Problem\n",
    "* Hieraus folgt: $$ y_{ij}\\neq y_{ji} $$"
   ]
  },
  {
   "cell_type": "code",
   "execution_count": null,
   "metadata": {
    "collapsed": true
   },
   "outputs": [],
   "source": []
  },
  {
   "cell_type": "code",
   "execution_count": null,
   "metadata": {
    "collapsed": true
   },
   "outputs": [],
   "source": []
  },
  {
   "cell_type": "markdown",
   "metadata": {},
   "source": [
    "Parameters and sets \t\t\n",
    "n:\tnumber of medical imaging centers placing orders\t<br>\n",
    "V:\tthe set of all nodes in the network, V = {0,1,...,n}\t<br>\n",
    "Vc:\tthe set of all customer nodes in the network, Vc = {1, . . . , n}\t<br>\n",
    "E:\tthe set of arcs in the network, E = {(i,j) : ∀i,j ∈ V}\t<br>\n",
    "T:\tmaximum time a driver is allowed to drive during a day\t<br>\n",
    "N:\tmaximum number of available vehicles\t<br>\n",
    "Di:\tthe total number of doses ordered by imaging center i\t<br>\n",
    "F:\tfixed cost for dispatching a vehicle\t<br>\n",
    "cij:\tthe cost of traveling from node i to node j\t<br>\n",
    "dij:\tthe distance of traveling from node i to node j\t<br>\n",
    "tij:\tthe time of traveling from node i to node j\t<br>\n",
    "pi:\tthe time a vehicle must arrive at a customer prior to the injection time the service time needed by a driver to spend in an imaging center\t<br>\n",
    "si:\tthe service time needed by a driver to spend in an imaging center\t<br>\n",
    "WVEH:\tthe vehicle weight capacity of each available vehicle\t<br>\n",
    "WCON:\tthe weight of each container that seals a dose\t<br>\n",
    "Wi:\tthe weight of the total number of doses ordered by customer i\t<br>\n",
    "[ei,li]:\tthe time window a dose must arrive in an imaging center \t<br>\n",
    "Variables\t\t<br>\n",
    "wi:\tmeasures the weight a vehicle has delivered until it reaches customer i xi: the arrival time of a vehicle to customer site i \t<br>\n",
    "xi:\tthe arrival time of a vehicle to customer site i \t<br>\n",
    "yij: \t1, if node i is visited immediately before node j; 0 otherwise \t<br>"
   ]
  },
  {
   "cell_type": "markdown",
   "metadata": {},
   "source": [
    "## Zielfunktion"
   ]
  },
  {
   "cell_type": "markdown",
   "metadata": {},
   "source": [
    " $$ min  \\sum_{i\\in V}\\sum_{j\\in V} c_{ij}y_{ij}+F\\sum_{j\\in V_C} y_{0j}$$\n",
    " \n",
    " --> Variable Kosten der Fahrt + Fixkosten\n"
   ]
  },
  {
   "cell_type": "markdown",
   "metadata": {},
   "source": [
    "## Nebenbedingungen"
   ]
  },
  {
   "cell_type": "markdown",
   "metadata": {},
   "source": [
    "1)\n",
    "* Jeder Kunde muss ein mal besucht werden\n",
    "* Nachdem ein Kunde besucht wurde, kann nur ein nächster besucht werden"
   ]
  },
  {
   "cell_type": "markdown",
   "metadata": {},
   "source": [
    "$$ \\sum_{j=0, i \\neq j}^n y_{ji}=1, \\quad \\forall i \\in V_c \\quad\\quad\\quad  (1) $$  "
   ]
  },
  {
   "cell_type": "markdown",
   "metadata": {},
   "source": [
    "$$ \\sum_{j=0, i \\neq j}^n y_{ij}=1, \\quad \\forall i \\in V_c \\quad\\quad\\quad  (2)$$\n",
    "\n"
   ]
  },
  {
   "cell_type": "markdown",
   "metadata": {},
   "source": [
    "2) Maximale Anzahl an Fahrzeugen"
   ]
  },
  {
   "cell_type": "markdown",
   "metadata": {},
   "source": [
    "$$ \\sum_{j \\in V_C} y_{0j} \\leq N \\quad\\quad\\quad  (3)$$"
   ]
  },
  {
   "cell_type": "markdown",
   "metadata": {},
   "source": [
    "3) \n",
    "* Transportiertes Gewicht muss kleiner gleich der Kapazität der Fahrzeuge sein \n",
    "* Transportiertes Gewicht muss größer gleich der georderten Kapazität sein (evtl. überlegen, ob hier Relaxation sinnvoll sein kann) \n",
    "* Gleichung 5 behandelt den Fall, wenn das i-te Kundenzentrum das 1. besuchte Zentrum ist, also $y_{0i}=1$. In diesem Fall wird aus Gleichung 5 $w_i=W_{VEH}$ und folglich nach Gleichung 4 --> $ w_i=W_i $"
   ]
  },
  {
   "cell_type": "markdown",
   "metadata": {},
   "source": [
    "$$ W_i \\leq wi \\leq  W_{VEH}, \\quad \\forall i \\in V_c        \\quad\\quad\\quad  (4)$$"
   ]
  },
  {
   "cell_type": "markdown",
   "metadata": {},
   "source": [
    "$$ wi \\leq  W_{VEH} + y_{0i}  (W_i - W_{VEH}), \\quad \\forall i \\in V_c        \\quad\\quad\\quad  (5)$$"
   ]
  },
  {
   "cell_type": "markdown",
   "metadata": {},
   "source": [
    "4) \n",
    "The case where imaging center i is not the first one to be visited deserves special attention. This case is taken care of by constraint (6). In this case the value of the variable wi is equal to the weight of the orders of all the imaging centers that were visited between the pharmacy and the i-the center itself. For example, if center j is immediately after center i, then yij = 1 and yji = 0. As a result, constraint (6) becomes wj ≥ wi + Wj which means that the weight delivered to center j is at least equal to that delivered in center i plus the weight of the order of center i. If, on the other hand, center j is visited immediately before center i then we have yij = 0 and yji = 1, and constraint (6) becomes wj ≥ wi − Wi. This constraint states that the weight delivered between the pharmacy and the j-th imaging center is not less than the weight delivered between the pharmacy and the i-th imaging center. In addition if center j is visited immediately before center i, we can deduce that wi ≥ wj + Wi. Combining the last two inequalities we obtain the equation wi = wj + Wi. If centers i and j are not visited successively, then constraint (6) becomes wj ≥ wi +Wj −WV EH . By noting that the right hand side of the above constraint is always less than zero and by using the fact that Wi ≥ 0 and the constraint (4), we can deduce that (6) becomes redundant."
   ]
  },
  {
   "cell_type": "markdown",
   "metadata": {},
   "source": [
    "$$ wj \\geq  w_i + W_j − W_{VEH} + y_{ij}W_{VEH} +\n",
    "y_{ji}(W_{VEH} − W_j − W_i), \\quad \\forall i,j \\in V_c, i \\neq j       \\quad\\quad\\quad  (6)$$"
   ]
  },
  {
   "cell_type": "markdown",
   "metadata": {},
   "source": [
    "5) Berücksichtung des Zeitfensters der Medikamente "
   ]
  },
  {
   "cell_type": "markdown",
   "metadata": {},
   "source": [
    "$$ e_i \\leq x_i \\leq  l_i, \\quad \\forall i \\in V_c        \\quad\\quad\\quad  (7)$$\n"
   ]
  },
  {
   "cell_type": "markdown",
   "metadata": {},
   "source": [
    "$$ x_i \\geq e_i + y_{0i}(t_{0i}-e_i), \\quad \\forall i \\in V_c        \\quad\\quad\\quad  (8)$$\n",
    "\n"
   ]
  },
  {
   "cell_type": "markdown",
   "metadata": {},
   "source": [
    "6)\n",
    "Constraints (13) and (14) define tighter upper and lower bounds on the arrival time at a customer location taking into consideration the customer sites that precede or follow site i. We analyze first constraint (13), which sets an explicit upper bound on the arrival time at the last customer site visited in a route. That is, if the i-th imaging center is the last one visited in a route then yi0 = 1 and (13) becomes xi ≤ T −ti0 −si. On the other hand, constraint (14) connects the arrival time between two consecutive locations. For example, if customer i precedes customer j, then yij = 1 and (14) becomes xj ≥ xi + tij + si. Otherwise (i.e., when yij = 0), constraint (14) becomes xj ≥ xi − li which is redundant due to the constraint (11)."
   ]
  },
  {
   "cell_type": "markdown",
   "metadata": {},
   "source": [
    "$$ x_i \\leq y_{i0}(T −t_{i0} −s_i −l_i)+l_i, \\quad \\forall i \\in V_c        \\quad\\quad\\quad  (9)$$\n",
    "\n",
    "\n"
   ]
  },
  {
   "cell_type": "markdown",
   "metadata": {},
   "source": [
    "$$ x_j \\geq x_i−l_i+y_{ij}(l_i+t_{ij}+s_i), \\quad \\forall i,j \\in V_c        \\quad\\quad\\quad  (10)$$"
   ]
  },
  {
   "cell_type": "markdown",
   "metadata": {},
   "source": [
    "7) Beschreibung der Entscheidungsvariablen"
   ]
  },
  {
   "cell_type": "markdown",
   "metadata": {},
   "source": [
    "$$ x_i>0 , \\quad \\forall i \\in V_c        \\quad\\quad\\quad  (11) $$"
   ]
  },
  {
   "cell_type": "markdown",
   "metadata": {},
   "source": [
    "$$ wi \\geq 0, \\quad \\forall i \\in \\{ 1,2,...,N \\}        \\quad\\quad\\quad  (12)$$\n"
   ]
  },
  {
   "cell_type": "markdown",
   "metadata": {},
   "source": [
    "$$ y_{ij}  \\in \\{ 0,1 \\}, \\quad \\forall i,j \\in V        \\quad\\quad\\quad  (13)$$\n",
    "\n"
   ]
  },
  {
   "cell_type": "markdown",
   "metadata": {},
   "source": [
    "# Example Implementation of the TSP in Gurobi (from examples in gurobi folder)"
   ]
  },
  {
   "cell_type": "markdown",
   "metadata": {},
   "source": [
    "### ( Beispiel für die Verwendung von Lazy Constraints)"
   ]
  },
  {
   "cell_type": "markdown",
   "metadata": {},
   "source": [
    "Mathematical Description:\n",
    "    http://examples.gurobi.com/traveling-salesman-problem/"
   ]
  },
  {
   "cell_type": "code",
   "execution_count": 57,
   "metadata": {},
   "outputs": [
    {
     "name": "stdout",
     "output_type": "stream",
     "text": [
      "Changed value of parameter lazyConstraints to 1\n",
      "   Prev: 0  Min: 0  Max: 1  Default: 0\n",
      "Optimize a model with 10 rows, 45 columns and 90 nonzeros\n",
      "Variable types: 0 continuous, 45 integer (45 binary)\n",
      "Coefficient statistics:\n",
      "  Matrix range     [1e+00, 1e+00]\n",
      "  Objective range  [1e+01, 1e+02]\n",
      "  Bounds range     [1e+00, 1e+00]\n",
      "  RHS range        [2e+00, 2e+00]\n",
      "Found heuristic solution: objective 724.932\n",
      "Presolve time: 0.00s\n",
      "Presolved: 10 rows, 45 columns, 90 nonzeros\n",
      "Variable types: 0 continuous, 45 integer (45 binary)\n",
      "\n",
      "Root relaxation: objective 3.360275e+02, 18 iterations, 0.00 seconds\n",
      "\n",
      "    Nodes    |    Current Node    |     Objective Bounds      |     Work\n",
      " Expl Unexpl |  Obj  Depth IntInf | Incumbent    BestBd   Gap | It/Node Time\n",
      "\n",
      "*    0     0               0     348.1976399  348.19764  0.00%     -    0s\n",
      "\n",
      "Cutting planes:\n",
      "  Lazy constraints: 3\n",
      "\n",
      "Explored 0 nodes (21 simplex iterations) in 0.04 seconds\n",
      "Thread count was 4 (of 4 available processors)\n",
      "\n",
      "Solution count 2: 348.198 724.932 \n",
      "Pool objective bound 348.198\n",
      "\n",
      "Optimal solution found (tolerance 1.00e-04)\n",
      "Best objective 3.481976398931e+02, best bound 3.481976398931e+02, gap 0.0000%\n",
      "\n",
      "Optimal tour: [0, 7, 2, 4, 6, 9, 1, 5, 3, 8]\n",
      "Optimal cost: 348.198\n",
      "\n"
     ]
    }
   ],
   "source": [
    "#!/usr/bin/python\n",
    "\n",
    "# Copyright 2017, Gurobi Optimization, Inc.\n",
    "\n",
    "# Solve a traveling salesman problem on a randomly generated set of\n",
    "# points using lazy constraints.   The base MIP model only includes\n",
    "# 'degree-2' constraints, requiring each node to have exactly\n",
    "# two incident edges.  Solutions to this model may contain subtours -\n",
    "# tours that don't visit every city.  The lazy constraint callback\n",
    "# adds new constraints to cut them off.\n",
    "\n",
    "import sys\n",
    "import math\n",
    "import random\n",
    "import itertools\n",
    "from gurobipy import *\n",
    "\n",
    "# Callback - use lazy constraints to eliminate sub-tours\n",
    "\n",
    "def subtourelim(model, where):\n",
    "    if where == GRB.Callback.MIPSOL:\n",
    "        # make a list of edges selected in the solution\n",
    "        vals = model.cbGetSolution(model._vars)\n",
    "        selected = tuplelist((i,j) for i,j in model._vars.keys() if vals[i,j] > 0.5)\n",
    "        # find the shortest cycle in the selected edge list\n",
    "        tour = subtour(selected)\n",
    "        if len(tour) < n:\n",
    "            # add subtour elimination constraint for every pair of cities in tour\n",
    "            model.cbLazy(quicksum(model._vars[i,j]\n",
    "                                  for i,j in itertools.combinations(tour, 2))\n",
    "                         <= len(tour)-1)\n",
    "\n",
    "\n",
    "# Given a tuplelist of edges, find the shortest subtour\n",
    "\n",
    "def subtour(edges):\n",
    "    unvisited = list(range(n))\n",
    "    cycle = range(n+1) # initial length has 1 more city\n",
    "    while unvisited: # true if list is non-empty\n",
    "        thiscycle = []\n",
    "        neighbors = unvisited\n",
    "        while neighbors:\n",
    "            current = neighbors[0]\n",
    "            thiscycle.append(current)\n",
    "            unvisited.remove(current)\n",
    "            neighbors = [j for i,j in edges.select(current,'*') if j in unvisited]\n",
    "        if len(cycle) > len(thiscycle):\n",
    "            cycle = thiscycle\n",
    "    return cycle\n",
    "\n",
    "\n",
    "# Parse argument\n",
    "npoints=10\n",
    "#if len(sys.argv) < 2:\n",
    "'''\n",
    "if len(sys.argv) < 2:\n",
    "    print('Usage: tsp.py npoints')\n",
    "    exit(1)\n",
    "n = int(sys.argv[1])\n",
    "'''\n",
    "n=10\n",
    "\n",
    "# Create n random points\n",
    "\n",
    "random.seed(1)\n",
    "points = [(random.randint(0,100),random.randint(0,100)) for i in range(n)]\n",
    "\n",
    "# Dictionary of Euclidean distance between each pair of points\n",
    "\n",
    "dist = {(i,j) :\n",
    "    math.sqrt(sum((points[i][k]-points[j][k])**2 for k in range(2)))\n",
    "    for i in range(n) for j in range(i)}\n",
    "\n",
    "m = Model()\n",
    "\n",
    "# Create variables\n",
    "\n",
    "vars = m.addVars(dist.keys(), obj=dist, vtype=GRB.BINARY, name='e')\n",
    "for i,j in vars.keys():\n",
    "    vars[j,i] = vars[i,j] # edge in opposite direction\n",
    "\n",
    "# You could use Python looping constructs and m.addVar() to create\n",
    "# these decision variables instead.  The following would be equivalent\n",
    "# to the preceding m.addVars() call...\n",
    "#\n",
    "# vars = tupledict()\n",
    "# for i,j in dist.keys():\n",
    "#   vars[i,j] = m.addVar(obj=dist[i,j], vtype=GRB.BINARY,\n",
    "#                        name='e[%d,%d]'%(i,j))\n",
    "\n",
    "\n",
    "# Add degree-2 constraint\n",
    "\n",
    "m.addConstrs(vars.sum(i,'*') == 2 for i in range(n))\n",
    "\n",
    "# Using Python looping constructs, the preceding would be...\n",
    "#\n",
    "# for i in range(n):\n",
    "#   m.addConstr(sum(vars[i,j] for j in range(n)) == 2)\n",
    "\n",
    "# Optimize model\n",
    "\n",
    "m._vars = vars\n",
    "m.Params.lazyConstraints = 1\n",
    "m.optimize(subtourelim)\n",
    "\n",
    "vals = m.getAttr('x', vars)\n",
    "selected = tuplelist((i,j) for i,j in vals.keys() if vals[i,j] > 0.5)\n",
    "\n",
    "tour = subtour(selected)\n",
    "assert len(tour) == n\n",
    "\n",
    "print('')\n",
    "print('Optimal tour: %s' % tour)\n",
    "print('Optimal cost: %g' % m.objVal)\n",
    "print('')"
   ]
  },
  {
   "cell_type": "markdown",
   "metadata": {},
   "source": [
    "### Notwendige veränderungen des TSP zum Problem"
   ]
  },
  {
   "cell_type": "markdown",
   "metadata": {},
   "source": [
    "* Subtouren nicht zu vermeiden\n",
    "* Fester Startpunkt--> Lager\n",
    "* Berücksichtigung der Nachfrageseite "
   ]
  },
  {
   "cell_type": "markdown",
   "metadata": {},
   "source": [
    "# Anderes VRP-Beispiel von Gurobi.com"
   ]
  },
  {
   "cell_type": "markdown",
   "metadata": {},
   "source": [
    "### http://examples.gurobi.com/routing-tanker-trucks/"
   ]
  },
  {
   "cell_type": "code",
   "execution_count": null,
   "metadata": {
    "collapsed": true
   },
   "outputs": [],
   "source": [
    "from gurobipy import *\n",
    "\n",
    "siteNames = [\"Reno\", \"South Lake Tahoe\", \"Carson City\", \"Garnerville\",\n",
    "              \"Fernerly\", \"Tahoe City\", \"Incline Village\", \"Truckee\"]\n",
    "sites = range(len(siteNames))\n",
    "clients = sites[1:]\n",
    "demand = [ 1000, 1200, 1600, 1400, 1200, 1000, 1700]\n",
    "dist = [[0, 59.3, 31.6, 47.8, 34.2, 47.1, 36.1, 31.9],\n",
    "        [62.2, 0, 27.9, 21.0, 77.5, 30.0, 27.1, 44.7],\n",
    "        [32.2, 27.7, 0, 16.2, 50.0, 39.4, 24.9, 42.6],\n",
    "        [50.7, 21.0, 16.4, 0, 66.1, 49.7, 35.2, 52.9],\n",
    "        [34.4, 77.4, 49.6, 65.9, 0, 80.8, 67.1, 65.5],\n",
    "        [46.9, 30.1, 39.6, 49.7, 80.5, 0, 14.4, 15.0],\n",
    "        [36.9, 27.1, 25.2, 35.2, 67.1, 14.4, 0, 17.6],\n",
    "        [31.9, 44.7, 62.8, 52.8, 65.6, 15.0, 17.6, 0]]\n",
    "capacity = 4500\n",
    "\n",
    "model = Model('Diesel Fuel Delivery')\n",
    "\n",
    "x = {}\n",
    "for i in sites:\n",
    "    for j in sites:\n",
    "        x[i,j] = model.addVar(vtype=GRB.BINARY)\n",
    "\n",
    "u = {}\n",
    "for i in clients:\n",
    "    u[i] = model.addVar(lb=demand[i], ub=capacity)  #beschränkte Entscheidungsvariable\n",
    "\n",
    "model.update()\n",
    "\n",
    "obj = quicksum( dist[i][j]*x[i,j] for i in sites for j in sites if i != j )  #quicksum ist schneller als regul. sum(). Allerdings Zeit_Modelinitialisierung << Modelberechnung\n",
    "model.setObjective(obj)\n",
    "\n",
    "for j in clients:\n",
    "    model.addConstr(quicksum( x[i,j] for i in sites if i != j ) == 1)   #Ähnlich mathem. Schreibweise (sum(x_ij)=1 for all j \\in sites) nested in for loop\n",
    "for i in clients:\n",
    "    model.addConstr(quicksum( x[i,j] for j in sites if i != j ) == 1)\n",
    "\n",
    "for i in clients:\n",
    "    model.addConstr(u[i] <= capacity + (demand[i] - capacity)*x[0,i])\n",
    "\n",
    "for i in clients:  #mathematisch: \\forall i,j \\in clients       --> Daher 2 Loops notwendig\n",
    "    for j in clients:\n",
    "        if i != j:\n",
    "            model.addConstr(u[i] - u[j] + capacity*x[i,j] <= capacity - quant[j])\n",
    "\n",
    "model.optimize()"
   ]
  },
  {
   "cell_type": "code",
   "execution_count": null,
   "metadata": {
    "collapsed": true
   },
   "outputs": [],
   "source": []
  },
  {
   "cell_type": "code",
   "execution_count": 30,
   "metadata": {
    "scrolled": true
   },
   "outputs": [
    {
     "name": "stdout",
     "output_type": "stream",
     "text": [
      "a_m\n",
      "c\n",
      "c_PF\n",
      "cp\n",
      "J\n",
      "L_ij\n",
      "M_F\n",
      "m_t\n",
      "m_v\n",
      "P\n",
      "production_line_parameters\n",
      "S_j\n",
      "t\n",
      "T_ij\n",
      "V\n",
      "[[['5'], ['', ''], ['\\n']], [['0'], ['.'], ['8'], ['5'], ['\\n'], ['\\n'], ['\\n'], ['', ''], ['\\n']], [['3'], ['0'], ['0'], ['0']], [['1'], ['2'], ['0'], ['0'], ['', ''], ['\\n']], [['0'], ['', ''], ['B'], ['e'], ['t'], ['h'], ['l'], ['e'], ['h'], ['e'], ['m'], [','], ['', ''], ['P'], ['A'], ['\\n'], ['1'], ['', ''], ['R'], ['e'], ['a'], ['d'], ['i'], ['n'], ['g'], [','], ['', ''], ['P'], ['A'], ['\\n'], ['2'], ['', ''], ['P'], ['r'], ['i'], ['n'], ['c'], ['e'], ['t'], ['o'], ['n'], [','], ['', ''], ['N'], ['J'], ['\\n'], ['3'], ['', ''], ['N'], ['e'], ['w'], ['', ''], ['Y'], ['o'], ['r'], ['k'], [','], ['', ''], ['N'], ['Y'], ['\\n'], ['4'], ['', ''], ['P'], ['h'], ['i'], ['l'], ['a'], ['d'], ['e'], ['l'], ['p'], ['h'], ['i'], ['a'], [','], ['', ''], ['P'], ['A'], ['\\n'], ['5'], ['', ''], ['T'], ['r'], ['e'], ['n'], ['t'], ['o'], ['n'], [','], ['', ''], ['N'], ['J'], ['\\n'], ['6'], ['', ''], ['S'], ['c'], ['r'], ['a'], ['n'], ['t'], ['o'], ['n'], [','], ['', ''], ['P'], ['A'], ['\\n'], ['7'], ['', ''], ['H'], ['a'], ['r'], ['r'], ['i'], ['s'], ['b'], ['u'], ['r'], ['g'], [','], ['', ''], ['P'], ['A'], ['\\n']], [['i'], ['', ''], ['j'], ['', ''], ['L'], ['_'], ['i'], ['j'], ['\\n'], ['0'], ['', ''], ['1'], ['', ''], ['4'], ['7'], ['\\n'], ['0'], ['', ''], ['2'], ['', ''], ['5'], ['7'], ['\\n'], ['0'], ['', ''], ['3'], ['', ''], ['8'], ['3'], ['\\n'], ['0'], ['', ''], ['4'], ['', ''], ['7'], ['0'], ['\\n'], ['0'], ['', ''], ['5'], ['', ''], ['5'], ['3'], ['\\n'], ['0'], ['', ''], ['6'], ['', ''], ['7'], ['4'], ['\\n'], ['0'], ['', ''], ['7'], ['', ''], ['8'], ['9'], ['\\n'], ['1'], ['', ''], ['2'], ['', ''], ['9'], ['6'], ['\\n'], ['1'], ['', ''], ['3'], ['', ''], ['1'], ['2'], ['7'], ['\\n'], ['1'], ['', ''], ['4'], ['', ''], ['6'], ['3'], ['\\n'], ['1'], ['', ''], ['5'], ['', ''], ['8'], ['4'], ['\\n'], ['1'], ['', ''], ['6'], ['', ''], ['1'], ['0'], ['3'], ['\\n'], ['1'], ['', ''], ['7'], ['', ''], ['6'], ['4'], ['\\n'], ['2'], ['', ''], ['3'], ['', ''], ['5'], ['0'], ['\\n'], ['2'], ['', ''], ['4'], ['', ''], ['4'], ['5'], ['\\n'], ['2'], ['', ''], ['5'], ['', ''], ['1'], ['4'], ['\\n'], ['2'], ['', ''], ['6'], ['', ''], ['1'], ['1'], ['9'], ['\\n'], ['2'], ['', ''], ['7'], ['', ''], ['1'], ['3'], ['9'], ['\\n'], ['3'], ['', ''], ['4'], ['', ''], ['9'], ['4'], ['\\n'], ['3'], ['', ''], ['5'], ['', ''], ['6'], ['7'], ['\\n'], ['3'], ['', ''], ['6'], ['', ''], ['1'], ['2'], ['1'], ['\\n'], ['3'], ['', ''], ['7'], ['', ''], ['1'], ['6'], ['9'], ['\\n'], ['4'], ['', ''], ['5'], ['', ''], ['3'], ['3'], ['\\n'], ['4'], ['', ''], ['6'], ['', ''], ['1'], ['2'], ['5'], ['\\n'], ['4'], ['', ''], ['7'], ['', ''], ['1'], ['0'], ['7'], ['\\n'], ['5'], ['', ''], ['6'], ['', ''], ['1'], ['3'], ['8'], ['\\n'], ['5'], ['', ''], ['7'], ['', ''], ['1'], ['2'], ['7'], ['\\n'], ['6'], ['', ''], ['7'], ['', ''], ['1'], ['2'], ['1'], ['\\n']], [['1'], ['0'], ['0'], ['0'], ['', ''], ['\\n']], [['1'], ['0'], ['', ''], ['\\n']], [['5']], [['4'], ['', ''], ['\\n']], [['p'], ['_'], ['i'], ['', ''], ['', ''], ['', ''], ['', ''], ['', ''], ['b'], ['_'], ['i'], ['', ''], ['', ''], ['', ''], ['', ''], ['a'], ['_'], ['i'], ['\\n'], ['1'], ['5'], ['m'], ['i'], ['n'], ['', ''], ['', ''], ['', ''], ['1'], ['5'], ['0'], ['', ''], ['', ''], ['', ''], ['', ''], ['', ''], ['6'], ['0'], ['', ''], ['\\n'], ['3'], ['0'], ['m'], ['i'], ['n'], ['', ''], ['', ''], ['', ''], ['1'], ['0'], ['0'], ['', ''], ['', ''], ['', ''], ['', ''], ['', ''], ['1'], ['2'], ['0'], ['\\n'], ['6'], ['0'], ['m'], ['i'], ['n'], ['', ''], ['', ''], ['', ''], ['', ''], ['8'], ['0'], ['', ''], ['', ''], ['', ''], ['', ''], ['', ''], ['2'], ['5'], ['0'], ['\\n'], ['1'], ['2'], ['0'], ['m'], ['i'], ['n'], ['', ''], ['', ''], ['', ''], ['6'], ['0'], ['', ''], ['', ''], ['', ''], ['', ''], ['', ''], ['5'], ['0'], ['0'], ['\\n']], [['j'], ['', ''], ['', ''], ['', ''], ['S'], ['_'], ['j'], ['\\n'], ['0'], ['', ''], ['1'], ['5'], ['\\n'], ['1'], ['', ''], ['3'], ['0'], ['\\n'], ['2'], ['', ''], ['3'], ['0'], ['\\n'], ['3'], ['', ''], ['1'], ['5'], ['\\n'], ['4'], ['', ''], ['3'], ['0'], ['\\n'], ['5'], ['', ''], ['1'], ['5'], ['\\n'], ['6'], ['', ''], ['3'], ['0'], ['', ''], ['\\n'], ['7'], ['', ''], ['1'], ['5'], ['\\n']], [['j'], ['', ''], ['t'], ['_'], ['j'], [\"'\"], ['s'], ['\\n'], ['0'], ['', ''], ['8'], [':'], ['0'], ['0'], ['', ''], ['8'], [':'], ['1'], ['0'], ['', ''], ['8'], [':'], ['3'], ['0'], ['', ''], ['8'], [':'], ['4'], ['0'], ['', ''], ['9'], [':'], ['0'], ['0'], ['', ''], ['9'], [':'], ['1'], ['0'], ['', ''], ['9'], [':'], ['2'], ['0'], ['', ''], ['9'], [':'], ['3'], ['0'], ['', ''], ['1'], ['0'], [':'], ['0'], ['0'], ['', ''], ['1'], ['0'], [':'], ['2'], ['0'], ['', ''], ['1'], ['1'], [':'], ['0'], ['0'], ['', ''], ['1'], ['1'], [':'], ['2'], ['0'], ['', ''], ['1'], ['2'], [':'], ['0'], ['0'], ['', ''], ['1'], ['2'], [':'], ['2'], ['0'], ['', ''], ['1'], ['3'], [':'], ['0'], ['0'], ['', ''], ['1'], ['3'], [':'], ['2'], ['0'], ['', ''], ['1'], ['4'], [':'], ['0'], ['0'], ['', ''], ['1'], ['4'], [':'], ['3'], ['0'], ['', ''], ['1'], ['5'], [':'], ['0'], ['0'], ['', ''], ['1'], ['5'], [':'], ['3'], ['0'], ['', ''], ['1'], ['6'], [':'], ['1'], ['0'], ['', ''], ['1'], ['6'], [':'], ['3'], ['0'], ['\\n'], ['1'], ['', ''], ['7'], [':'], ['4'], ['0'], ['', ''], ['7'], [':'], ['5'], ['0'], ['', ''], ['8'], [':'], ['1'], ['5'], ['', ''], ['8'], [':'], ['3'], ['5'], ['', ''], ['8'], [':'], ['4'], ['5'], ['', ''], ['9'], [':'], ['0'], ['5'], ['', ''], ['9'], [':'], ['2'], ['0'], ['', ''], ['9'], [':'], ['2'], ['5'], ['', ''], ['9'], [':'], ['5'], ['0'], ['', ''], ['9'], [':'], ['5'], ['5'], ['', ''], ['1'], ['0'], [':'], ['1'], ['5'], ['', ''], ['1'], ['0'], [':'], ['4'], ['0'], ['', ''], ['1'], ['0'], [':'], ['4'], ['5'], ['', ''], ['1'], ['0'], [':'], ['5'], ['5'], ['', ''], ['1'], ['1'], [':'], ['2'], ['5'], ['', ''], ['1'], ['2'], [':'], ['2'], ['5'], ['', ''], ['1'], ['3'], [':'], ['4'], ['5'], ['', ''], ['1'], ['3'], [':'], ['5'], ['0'], ['', ''], ['1'], ['3'], [':'], ['5'], ['5'], ['', ''], ['1'], ['4'], [':'], ['0'], ['5'], ['', ''], ['1'], ['4'], [':'], ['3'], ['5'], ['', ''], ['1'], ['4'], [':'], ['4'], ['0'], ['', ''], ['1'], ['5'], [':'], ['0'], ['5'], ['', ''], ['1'], ['5'], [':'], ['1'], ['0'], ['', ''], ['1'], ['5'], [':'], ['1'], ['5'], ['', ''], ['1'], ['5'], [':'], ['2'], ['0'], ['', ''], ['1'], ['5'], [':'], ['2'], ['5'], ['', ''], ['1'], ['5'], [':'], ['3'], ['0'], ['', ''], ['1'], ['5'], [':'], ['5'], ['0'], ['', ''], ['1'], ['6'], [':'], ['3'], ['5'], ['', ''], ['1'], ['7'], [':'], ['2'], ['5'], ['', ''], ['\\n'], ['2'], ['', ''], ['7'], [':'], ['0'], ['0'], ['', ''], ['7'], [':'], ['0'], ['5'], ['', ''], ['7'], [':'], ['1'], ['0'], ['', ''], ['7'], [':'], ['3'], ['5'], ['', ''], ['8'], [':'], ['0'], ['0'], ['', ''], ['8'], [':'], ['3'], ['0'], ['', ''], ['8'], [':'], ['4'], ['5'], ['', ''], ['9'], [':'], ['1'], ['0'], ['', ''], ['9'], [':'], ['2'], ['5'], ['', ''], ['9'], [':'], ['3'], ['0'], ['', ''], ['9'], [':'], ['3'], ['5'], ['', ''], ['1'], ['0'], [':'], ['2'], ['0'], ['', ''], ['1'], ['0'], [':'], ['4'], ['5'], ['', ''], ['1'], ['0'], [':'], ['5'], ['5'], ['', ''], ['1'], ['1'], [':'], ['0'], ['0'], ['', ''], ['1'], ['1'], [':'], ['0'], ['5'], ['', ''], ['1'], ['1'], [':'], ['1'], ['5'], ['', ''], ['1'], ['1'], [':'], ['3'], ['0'], ['', ''], ['1'], ['1'], [':'], ['4'], ['0'], ['', ''], ['1'], ['1'], [':'], ['5'], ['0'], ['', ''], ['1'], ['2'], [':'], ['0'], ['5'], ['', ''], ['1'], ['2'], [':'], ['1'], ['0'], ['', ''], ['1'], ['2'], [':'], ['1'], ['5'], ['', ''], ['1'], ['2'], [':'], ['2'], ['5'], ['', ''], ['1'], ['2'], [':'], ['5'], ['0'], ['', ''], ['1'], ['2'], [':'], ['5'], ['5'], ['', ''], ['1'], ['3'], [':'], ['2'], ['0'], ['', ''], ['1'], ['3'], [':'], ['3'], ['5'], ['', ''], ['1'], ['3'], [':'], ['5'], ['0'], ['', ''], ['1'], ['3'], [':'], ['5'], ['5'], ['', ''], ['1'], ['4'], [':'], ['0'], ['0'], ['', ''], ['1'], ['4'], [':'], ['1'], ['0'], ['', ''], ['1'], ['4'], [':'], ['1'], ['5'], ['', ''], ['1'], ['4'], [':'], ['4'], ['0'], ['', ''], ['1'], ['4'], [':'], ['4'], ['5'], ['', ''], ['1'], ['4'], [':'], ['5'], ['0'], ['', ''], ['1'], ['5'], [':'], ['2'], ['5'], ['', ''], ['1'], ['6'], [':'], ['0'], ['0'], ['', ''], ['1'], ['6'], [':'], ['0'], ['5'], ['', ''], ['1'], ['6'], [':'], ['1'], ['0'], ['', ''], ['1'], ['7'], [':'], ['0'], ['0'], ['', ''], ['1'], ['7'], [':'], ['0'], ['5'], ['', ''], ['1'], ['7'], [':'], ['1'], ['0'], ['', ''], ['1'], ['7'], [':'], ['3'], ['5'], ['', ''], ['1'], ['7'], [':'], ['5'], ['0'], ['', ''], ['\\n'], ['3'], ['', ''], ['7'], [':'], ['2'], ['0'], ['', ''], ['8'], [':'], ['3'], ['0'], ['', ''], ['8'], [':'], ['4'], ['5'], ['', ''], ['8'], [':'], ['5'], ['0'], ['', ''], ['9'], [':'], ['3'], ['0'], ['', ''], ['1'], ['0'], [':'], ['0'], ['0'], ['', ''], ['1'], ['0'], [':'], ['0'], ['5'], ['', ''], ['1'], ['0'], [':'], ['1'], ['0'], ['', ''], ['1'], ['0'], [':'], ['3'], ['5'], ['', ''], ['1'], ['0'], [':'], ['4'], ['0'], ['', ''], ['1'], ['0'], [':'], ['4'], ['5'], ['', ''], ['1'], ['0'], [':'], ['5'], ['5'], ['', ''], ['1'], ['1'], [':'], ['0'], ['0'], ['', ''], ['1'], ['1'], [':'], ['3'], ['0'], ['', ''], ['1'], ['1'], [':'], ['4'], ['5'], ['', ''], ['1'], ['2'], [':'], ['0'], ['0'], ['', ''], ['1'], ['2'], [':'], ['1'], ['0'], ['', ''], ['1'], ['2'], [':'], ['2'], ['5'], ['', ''], ['1'], ['3'], [':'], ['0'], ['0'], ['', ''], ['1'], ['3'], [':'], ['2'], ['0'], ['', ''], ['1'], ['3'], [':'], ['5'], ['0'], ['', ''], ['1'], ['4'], [':'], ['0'], ['0'], ['', ''], ['1'], ['4'], [':'], ['1'], ['5'], ['', ''], ['1'], ['4'], [':'], ['4'], ['5'], ['', ''], ['1'], ['5'], [':'], ['0'], ['5'], ['', ''], ['1'], ['5'], [':'], ['1'], ['5'], ['', ''], ['1'], ['5'], [':'], ['3'], ['0'], ['', ''], ['1'], ['5'], [':'], ['4'], ['0'], ['', ''], ['1'], ['5'], [':'], ['4'], ['5'], ['', ''], ['1'], ['5'], [':'], ['5'], ['0'], ['', ''], ['1'], ['6'], [':'], ['2'], ['5'], ['', ''], ['1'], ['6'], [':'], ['4'], ['0'], ['', ''], ['1'], ['6'], [':'], ['5'], ['0'], ['', ''], ['1'], ['6'], [':'], ['5'], ['5'], ['', ''], ['1'], ['7'], [':'], ['0'], ['0'], ['', ''], ['1'], ['7'], [':'], ['0'], ['5'], ['', ''], ['1'], ['7'], [':'], ['4'], ['5'], ['', ''], ['\\n'], ['4'], ['', ''], ['7'], [':'], ['0'], ['5'], ['', ''], ['7'], [':'], ['1'], ['0'], ['', ''], ['7'], [':'], ['2'], ['5'], ['', ''], ['7'], [':'], ['3'], ['5'], ['', ''], ['7'], [':'], ['5'], ['5'], ['', ''], ['8'], [':'], ['1'], ['0'], ['', ''], ['8'], [':'], ['2'], ['0'], ['', ''], ['8'], [':'], ['5'], ['0'], ['', ''], ['9'], [':'], ['0'], ['0'], ['', ''], ['9'], [':'], ['1'], ['0'], ['', ''], ['9'], [':'], ['2'], ['5'], ['', ''], ['9'], [':'], ['3'], ['5'], ['', ''], ['9'], [':'], ['4'], ['0'], ['', ''], ['9'], [':'], ['4'], ['5'], ['', ''], ['1'], ['0'], [':'], ['2'], ['0'], ['', ''], ['1'], ['0'], [':'], ['4'], ['0'], ['', ''], ['1'], ['1'], [':'], ['0'], ['5'], ['', ''], ['1'], ['1'], [':'], ['1'], ['0'], ['', ''], ['1'], ['1'], [':'], ['2'], ['0'], ['', ''], ['1'], ['1'], [':'], ['3'], ['0'], ['', ''], ['1'], ['1'], [':'], ['4'], ['5'], ['', ''], ['1'], ['2'], [':'], ['0'], ['0'], ['', ''], ['1'], ['2'], [':'], ['0'], ['5'], ['', ''], ['1'], ['2'], [':'], ['1'], ['0'], ['', ''], ['1'], ['3'], [':'], ['0'], ['0'], ['', ''], ['1'], ['3'], [':'], ['1'], ['0'], ['', ''], ['1'], ['3'], [':'], ['1'], ['5'], ['', ''], ['1'], ['3'], [':'], ['4'], ['0'], ['', ''], ['1'], ['3'], [':'], ['4'], ['5'], ['', ''], ['1'], ['3'], [':'], ['5'], ['0'], ['', ''], ['1'], ['4'], [':'], ['0'], ['0'], ['', ''], ['1'], ['4'], [':'], ['0'], ['5'], ['', ''], ['1'], ['4'], [':'], ['2'], ['0'], ['', ''], ['1'], ['4'], [':'], ['4'], ['0'], ['', ''], ['1'], ['5'], [':'], ['1'], ['0'], ['', ''], ['1'], ['5'], [':'], ['1'], ['5'], ['', ''], ['1'], ['5'], [':'], ['4'], ['0'], ['', ''], ['1'], ['5'], [':'], ['4'], ['5'], ['', ''], ['1'], ['6'], [':'], ['2'], ['5'], ['', ''], ['1'], ['6'], [':'], ['3'], ['0'], ['', ''], ['1'], ['6'], [':'], ['5'], ['5'], ['', ''], ['1'], ['7'], [':'], ['1'], ['0'], ['', ''], ['1'], ['7'], [':'], ['3'], ['0'], ['', ''], ['1'], ['7'], [':'], ['4'], ['0'], ['', ''], ['1'], ['7'], [':'], ['5'], ['0'], ['', ''], ['\\n'], ['5'], ['', ''], ['7'], [':'], ['0'], ['0'], ['', ''], ['7'], [':'], ['1'], ['0'], ['', ''], ['7'], [':'], ['1'], ['5'], ['', ''], ['7'], [':'], ['2'], ['0'], ['', ''], ['7'], [':'], ['2'], ['5'], ['', ''], ['7'], [':'], ['3'], ['0'], ['', ''], ['7'], [':'], ['4'], ['0'], ['', ''], ['7'], [':'], ['4'], ['5'], ['', ''], ['7'], [':'], ['5'], ['0'], ['', ''], ['8'], [':'], ['4'], ['5'], ['', ''], ['8'], [':'], ['5'], ['0'], ['', ''], ['8'], [':'], ['5'], ['5'], ['', ''], ['9'], [':'], ['0'], ['5'], ['', ''], ['1'], ['0'], [':'], ['0'], ['0'], ['', ''], ['1'], ['0'], [':'], ['1'], ['5'], ['', ''], ['1'], ['1'], [':'], ['0'], ['5'], ['', ''], ['1'], ['1'], [':'], ['1'], ['5'], ['', ''], ['1'], ['1'], [':'], ['2'], ['0'], ['', ''], ['1'], ['1'], [':'], ['3'], ['5'], ['', ''], ['1'], ['2'], [':'], ['0'], ['0'], ['', ''], ['1'], ['2'], [':'], ['0'], ['5'], ['', ''], ['1'], ['2'], [':'], ['1'], ['0'], ['', ''], ['1'], ['2'], [':'], ['2'], ['5'], ['', ''], ['1'], ['2'], [':'], ['4'], ['0'], ['', ''], ['1'], ['2'], [':'], ['4'], ['5'], ['', ''], ['1'], ['2'], [':'], ['5'], ['0'], ['', ''], ['1'], ['3'], [':'], ['0'], ['0'], ['', ''], ['1'], ['3'], [':'], ['0'], ['5'], ['', ''], ['1'], ['3'], [':'], ['1'], ['0'], ['', ''], ['1'], ['3'], [':'], ['4'], ['5'], ['', ''], ['1'], ['3'], [':'], ['5'], ['0'], ['', ''], ['1'], ['4'], [':'], ['0'], ['5'], ['', ''], ['1'], ['4'], [':'], ['2'], ['5'], ['', ''], ['1'], ['4'], [':'], ['3'], ['5'], ['', ''], ['1'], ['4'], [':'], ['5'], ['0'], ['', ''], ['1'], ['4'], [':'], ['5'], ['5'], ['', ''], ['1'], ['5'], [':'], ['0'], ['0'], ['', ''], ['1'], ['5'], [':'], ['1'], ['0'], ['', ''], ['1'], ['5'], [':'], ['3'], ['5'], ['', ''], ['1'], ['5'], [':'], ['5'], ['5'], ['', ''], ['1'], ['6'], [':'], ['2'], ['5'], ['', ''], ['1'], ['6'], [':'], ['3'], ['0'], ['', ''], ['1'], ['6'], [':'], ['3'], ['5'], ['', ''], ['1'], ['6'], [':'], ['4'], ['5'], ['', ''], ['1'], ['7'], [':'], ['1'], ['0'], ['', ''], ['1'], ['7'], [':'], ['2'], ['5'], ['', ''], ['1'], ['7'], [':'], ['4'], ['5'], ['', ''], ['1'], ['7'], [':'], ['5'], ['5'], ['', ''], ['\\n'], ['6'], ['', ''], ['7'], [':'], ['2'], ['0'], ['', ''], ['7'], [':'], ['3'], ['5'], ['', ''], ['7'], [':'], ['4'], ['5'], ['', ''], ['8'], [':'], ['1'], ['5'], ['', ''], ['8'], [':'], ['2'], ['0'], ['', ''], ['8'], [':'], ['2'], ['5'], ['', ''], ['8'], [':'], ['3'], ['5'], ['', ''], ['8'], [':'], ['4'], ['5'], ['', ''], ['9'], [':'], ['2'], ['0'], ['', ''], ['9'], [':'], ['2'], ['5'], ['', ''], ['9'], [':'], ['3'], ['5'], ['', ''], ['9'], [':'], ['4'], ['5'], ['', ''], ['1'], ['0'], [':'], ['1'], ['0'], ['', ''], ['1'], ['0'], [':'], ['1'], ['5'], ['', ''], ['1'], ['0'], [':'], ['3'], ['0'], ['', ''], ['1'], ['0'], [':'], ['3'], ['5'], ['', ''], ['1'], ['0'], [':'], ['4'], ['0'], ['', ''], ['1'], ['0'], [':'], ['4'], ['5'], ['', ''], ['1'], ['0'], [':'], ['5'], ['5'], ['', ''], ['1'], ['1'], [':'], ['1'], ['0'], ['', ''], ['1'], ['1'], [':'], ['4'], ['0'], ['', ''], ['1'], ['2'], [':'], ['0'], ['5'], ['', ''], ['1'], ['2'], [':'], ['1'], ['5'], ['', ''], ['1'], ['2'], [':'], ['3'], ['5'], ['', ''], ['1'], ['2'], [':'], ['4'], ['0'], ['', ''], ['1'], ['3'], [':'], ['0'], ['0'], ['', ''], ['1'], ['3'], [':'], ['1'], ['0'], ['', ''], ['1'], ['3'], [':'], ['5'], ['0'], ['', ''], ['1'], ['3'], [':'], ['5'], ['5'], ['', ''], ['1'], ['4'], [':'], ['2'], ['0'], ['', ''], ['1'], ['4'], [':'], ['4'], ['0'], ['', ''], ['1'], ['4'], [':'], ['4'], ['5'], ['', ''], ['1'], ['4'], [':'], ['5'], ['5'], ['', ''], ['1'], ['5'], [':'], ['0'], ['5'], ['', ''], ['1'], ['5'], [':'], ['1'], ['0'], ['', ''], ['1'], ['5'], [':'], ['2'], ['0'], ['', ''], ['1'], ['5'], [':'], ['3'], ['0'], ['', ''], ['1'], ['5'], [':'], ['4'], ['5'], ['', ''], ['1'], ['5'], [':'], ['5'], ['0'], ['', ''], ['1'], ['6'], [':'], ['1'], ['5'], ['', ''], ['1'], ['6'], [':'], ['3'], ['5'], ['', ''], ['1'], ['6'], [':'], ['4'], ['0'], ['', ''], ['1'], ['6'], [':'], ['4'], ['5'], ['', ''], ['1'], ['7'], [':'], ['0'], ['5'], ['', ''], ['1'], ['7'], [':'], ['1'], ['5'], ['', ''], ['1'], ['7'], [':'], ['3'], ['5'], ['', ''], ['1'], ['7'], [':'], ['5'], ['0'], ['', ''], ['\\n'], ['7'], ['', ''], ['7'], [':'], ['2'], ['0'], ['', ''], ['7'], [':'], ['2'], ['5'], ['', ''], ['7'], [':'], ['3'], ['0'], ['', ''], ['8'], [':'], ['1'], ['0'], ['', ''], ['8'], [':'], ['1'], ['5'], ['', ''], ['8'], [':'], ['3'], ['0'], ['', ''], ['1'], ['0'], [':'], ['0'], ['0'], ['', ''], ['1'], ['0'], [':'], ['2'], ['0'], ['', ''], ['1'], ['0'], [':'], ['2'], ['5'], ['', ''], ['1'], ['0'], [':'], ['3'], ['0'], ['', ''], ['1'], ['0'], [':'], ['4'], ['0'], ['', ''], ['1'], ['0'], [':'], ['4'], ['5'], ['', ''], ['1'], ['0'], [':'], ['5'], ['0'], ['', ''], ['1'], ['1'], [':'], ['0'], ['0'], ['', ''], ['1'], ['1'], [':'], ['1'], ['5'], ['', ''], ['1'], ['1'], [':'], ['2'], ['0'], ['', ''], ['1'], ['1'], [':'], ['3'], ['0'], ['', ''], ['1'], ['1'], [':'], ['4'], ['5'], ['', ''], ['1'], ['2'], [':'], ['0'], ['0'], ['', ''], ['1'], ['2'], [':'], ['1'], ['0'], ['', ''], ['1'], ['2'], [':'], ['1'], ['5'], ['', ''], ['1'], ['3'], [':'], ['1'], ['5'], ['', ''], ['1'], ['3'], [':'], ['3'], ['0'], ['', ''], ['1'], ['3'], [':'], ['4'], ['5'], ['', ''], ['1'], ['4'], [':'], ['0'], ['5'], ['', ''], ['1'], ['4'], [':'], ['1'], ['0'], ['', ''], ['1'], ['4'], [':'], ['2'], ['0'], ['', ''], ['1'], ['4'], [':'], ['5'], ['0'], ['', ''], ['1'], ['4'], [':'], ['5'], ['5'], ['', ''], ['1'], ['5'], [':'], ['0'], ['5'], ['', ''], ['1'], ['5'], [':'], ['2'], ['5'], ['', ''], ['1'], ['5'], [':'], ['5'], ['0'], ['', ''], ['1'], ['6'], [':'], ['2'], ['5'], ['', ''], ['1'], ['6'], [':'], ['3'], ['0'], ['', ''], ['1'], ['6'], [':'], ['5'], ['0'], ['', ''], ['1'], ['7'], [':'], ['0'], ['0'], ['', ''], ['1'], ['7'], [':'], ['2'], ['0'], ['', ''], ['1'], ['7'], [':'], ['3'], ['0'], ['', ''], ['1'], ['7'], [':'], ['3'], ['5'], ['', ''], ['1'], ['7'], [':'], ['4'], ['5'], ['', ''], ['\\n']], [['i'], ['', ''], ['j'], ['', ''], ['L'], ['_'], ['i'], ['j'], ['\\n'], ['0'], ['', ''], ['1'], ['', ''], ['0'], ['h'], ['', ''], ['5'], ['9'], ['m'], ['i'], ['n'], ['\\n'], ['0'], ['', ''], ['2'], ['', ''], ['1'], ['h'], ['', ''], ['2'], ['0'], ['m'], ['i'], ['n'], ['\\n'], ['0'], ['', ''], ['3'], ['', ''], ['1'], ['h'], ['', ''], ['2'], ['8'], ['m'], ['i'], ['n'], ['\\n'], ['0'], ['', ''], ['4'], ['', ''], ['1'], ['h'], ['', ''], ['1'], ['5'], ['m'], ['i'], ['n'], ['\\n'], ['0'], ['', ''], ['5'], ['', ''], ['1'], ['h'], ['', ''], ['2'], ['6'], ['m'], ['i'], ['n'], ['\\n'], ['0'], ['', ''], ['6'], ['', ''], ['1'], ['h'], ['', ''], ['1'], ['5'], ['m'], ['i'], ['n'], ['\\n'], ['0'], ['', ''], ['7'], ['', ''], ['1'], ['h'], ['', ''], ['2'], ['7'], ['m'], ['i'], ['n'], ['\\n'], ['1'], ['', ''], ['2'], ['', ''], ['1'], ['h'], ['', ''], ['3'], ['6'], ['m'], ['i'], ['n'], ['\\n'], ['1'], ['', ''], ['3'], ['', ''], ['2'], ['h'], ['', ''], ['1'], ['4'], ['m'], ['i'], ['n'], ['\\n'], ['1'], ['', ''], ['4'], ['', ''], ['1'], ['h'], ['', ''], ['0'], ['5'], ['m'], ['i'], ['n'], ['\\n'], ['1'], ['', ''], ['5'], ['', ''], ['1'], ['h'], ['', ''], ['2'], ['2'], ['m'], ['i'], ['n'], ['\\n'], ['1'], ['', ''], ['6'], ['', ''], ['1'], ['h'], ['', ''], ['5'], ['2'], ['m'], ['i'], ['n'], ['\\n'], ['1'], ['', ''], ['7'], ['', ''], ['1'], ['h'], ['', ''], ['0'], ['6'], ['m'], ['i'], ['n'], ['\\n'], ['2'], ['', ''], ['3'], ['', ''], ['1'], ['h'], ['', ''], ['1'], ['0'], ['m'], ['i'], ['n'], ['\\n'], ['2'], ['', ''], ['4'], ['', ''], ['0'], ['h'], ['', ''], ['5'], ['2'], ['m'], ['i'], ['n'], ['\\n'], ['2'], ['', ''], ['5'], ['', ''], ['0'], ['h'], ['', ''], ['2'], ['4'], ['m'], ['i'], ['n'], ['\\n'], ['2'], ['', ''], ['6'], ['', ''], ['2'], ['h'], ['', ''], ['1'], ['3'], ['m'], ['i'], ['n'], ['\\n'], ['2'], ['', ''], ['7'], ['', ''], ['2'], ['h'], ['', ''], ['1'], ['6'], ['m'], ['i'], ['n'], ['\\n'], ['3'], ['', ''], ['4'], ['', ''], ['1'], ['h'], ['', ''], ['4'], ['0'], ['m'], ['i'], ['n'], ['\\n'], ['3'], ['', ''], ['5'], ['', ''], ['1'], ['h'], ['', ''], ['1'], ['6'], ['m'], ['i'], ['n'], ['\\n'], ['3'], ['', ''], ['6'], ['', ''], ['2'], ['h'], ['', ''], ['0'], ['9'], ['m'], ['i'], ['n'], ['\\n'], ['3'], ['', ''], ['7'], ['', ''], ['2'], ['h'], ['', ''], ['4'], ['8'], ['m'], ['i'], ['n'], ['\\n'], ['4'], ['', ''], ['5'], ['', ''], ['0'], ['h'], ['', ''], ['3'], ['9'], ['m'], ['i'], ['n'], ['\\n'], ['4'], ['', ''], ['6'], ['', ''], ['2'], ['h'], ['', ''], ['0'], ['4'], ['m'], ['i'], ['n'], ['\\n'], ['4'], ['', ''], ['7'], ['', ''], ['1'], ['h'], ['', ''], ['4'], ['7'], ['m'], ['i'], ['n'], ['\\n'], ['5'], ['', ''], ['6'], ['', ''], ['2'], ['h'], ['', ''], ['1'], ['5'], ['m'], ['i'], ['n'], ['\\n'], ['5'], ['', ''], ['7'], ['', ''], ['2'], ['h'], ['', ''], ['0'], ['3'], ['m'], ['i'], ['n'], ['\\n'], ['6'], ['', ''], ['7'], ['', ''], ['1'], ['h'], ['', ''], ['5'], ['8'], ['m'], ['i'], ['n'], ['\\n']], [['6'], ['', ''], ['\\n']]]\n"
     ]
    }
   ],
   "source": [
    "import os\n",
    "used_vars=[]\n",
    "for file in os.listdir(os.getcwd()):\n",
    "    if file.endswith(\".txt\"):\n",
    "        print file.split(\".txt\")[0]\n",
    "        var_name =file.split(\".txt\")[0]\n",
    "        name = []\n",
    "                \n",
    "        file = open(file, 'r') \n",
    "        file_cont= file.read() \n",
    "        for line in file_cont:\n",
    "            name.append(line.split(' '))\n",
    "        file.close()\n",
    "        used_vars.append(name)\n",
    "print(used_vars)\n",
    "\n",
    "\n"
   ]
  },
  {
   "cell_type": "code",
   "execution_count": null,
   "metadata": {
    "collapsed": true
   },
   "outputs": [],
   "source": []
  }
 ],
 "metadata": {
  "celltoolbar": "Raw Cell Format",
  "kernelspec": {
   "display_name": "Python 2",
   "language": "python",
   "name": "python2"
  },
  "language_info": {
   "codemirror_mode": {
    "name": "ipython",
    "version": 2
   },
   "file_extension": ".py",
   "mimetype": "text/x-python",
   "name": "python",
   "nbconvert_exporter": "python",
   "pygments_lexer": "ipython2",
   "version": "2.7.13"
  }
 },
 "nbformat": 4,
 "nbformat_minor": 2
}
