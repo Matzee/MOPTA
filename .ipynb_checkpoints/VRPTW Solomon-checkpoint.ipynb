{
 "cells": [
  {
   "cell_type": "code",
   "execution_count": 1,
   "metadata": {
    "collapsed": true
   },
   "outputs": [],
   "source": [
    "import pandas as pd \n",
    "import numpy as np"
   ]
  },
  {
   "cell_type": "code",
   "execution_count": 2,
   "metadata": {
    "collapsed": true
   },
   "outputs": [],
   "source": [
    "url = 'https://www.sintef.no/contentassets/adf48e65e3a84dd6871eb7586707675d/c101.txt'"
   ]
  },
  {
   "cell_type": "code",
   "execution_count": 47,
   "metadata": {
    "scrolled": true
   },
   "outputs": [
    {
     "name": "stderr",
     "output_type": "stream",
     "text": [
      "/Users/matthiaszech/anaconda/lib/python2.7/site-packages/ipykernel_launcher.py:2: ParserWarning: Falling back to the 'python' engine because the 'c' engine does not support regex separators (separators > 1 char and different from '\\s+' are interpreted as regex); you can avoid this warning by specifying engine='python'.\n",
      "  \n"
     ]
    },
    {
     "data": {
      "text/html": [
       "<div>\n",
       "<style>\n",
       "    .dataframe thead tr:only-child th {\n",
       "        text-align: right;\n",
       "    }\n",
       "\n",
       "    .dataframe thead th {\n",
       "        text-align: left;\n",
       "    }\n",
       "\n",
       "    .dataframe tbody tr th {\n",
       "        vertical-align: top;\n",
       "    }\n",
       "</style>\n",
       "<table border=\"1\" class=\"dataframe\">\n",
       "  <thead>\n",
       "    <tr style=\"text-align: right;\">\n",
       "      <th></th>\n",
       "      <th>Cust</th>\n",
       "      <th>X</th>\n",
       "      <th>Y</th>\n",
       "      <th>demand</th>\n",
       "      <th>readytime</th>\n",
       "      <th>duedate</th>\n",
       "      <th>servicetime</th>\n",
       "    </tr>\n",
       "  </thead>\n",
       "  <tbody>\n",
       "    <tr>\n",
       "      <th>0</th>\n",
       "      <td>0</td>\n",
       "      <td>40</td>\n",
       "      <td>50</td>\n",
       "      <td>0</td>\n",
       "      <td>0</td>\n",
       "      <td>1236</td>\n",
       "      <td>0</td>\n",
       "    </tr>\n",
       "    <tr>\n",
       "      <th>1</th>\n",
       "      <td>1</td>\n",
       "      <td>45</td>\n",
       "      <td>68</td>\n",
       "      <td>10</td>\n",
       "      <td>912</td>\n",
       "      <td>967</td>\n",
       "      <td>90</td>\n",
       "    </tr>\n",
       "    <tr>\n",
       "      <th>2</th>\n",
       "      <td>2</td>\n",
       "      <td>45</td>\n",
       "      <td>70</td>\n",
       "      <td>30</td>\n",
       "      <td>825</td>\n",
       "      <td>870</td>\n",
       "      <td>90</td>\n",
       "    </tr>\n",
       "    <tr>\n",
       "      <th>3</th>\n",
       "      <td>3</td>\n",
       "      <td>42</td>\n",
       "      <td>66</td>\n",
       "      <td>10</td>\n",
       "      <td>65</td>\n",
       "      <td>146</td>\n",
       "      <td>90</td>\n",
       "    </tr>\n",
       "    <tr>\n",
       "      <th>4</th>\n",
       "      <td>4</td>\n",
       "      <td>42</td>\n",
       "      <td>68</td>\n",
       "      <td>10</td>\n",
       "      <td>727</td>\n",
       "      <td>782</td>\n",
       "      <td>90</td>\n",
       "    </tr>\n",
       "  </tbody>\n",
       "</table>\n",
       "</div>"
      ],
      "text/plain": [
       "   Cust   X   Y  demand  readytime  duedate  servicetime\n",
       "0     0  40  50       0          0     1236            0\n",
       "1     1  45  68      10        912      967           90\n",
       "2     2  45  70      30        825      870           90\n",
       "3     3  42  66      10         65      146           90\n",
       "4     4  42  68      10        727      782           90"
      ]
     },
     "execution_count": 47,
     "metadata": {},
     "output_type": "execute_result"
    }
   ],
   "source": [
    "df = pd.read_table('in/c101.txt',skiprows=8, delimiter=  \"      \", \n",
    "              header = None, names = ['Cust', 'X', 'Y', 'demand', 'readytime', 'duedate', 'servicetime'] )\n",
    "df.head()"
   ]
  },
  {
   "cell_type": "code",
   "execution_count": 53,
   "metadata": {
    "collapsed": true
   },
   "outputs": [],
   "source": [
    "from scipy.spatial.distance import pdist, squareform\n",
    "\n",
    "dist_condensed = pdist(zip(*[df.X,df.Y]))\n",
    "dist = squareform(dist_condensed)"
   ]
  },
  {
   "cell_type": "code",
   "execution_count": 69,
   "metadata": {},
   "outputs": [
    {
     "data": {
      "text/plain": [
       "array([  0.        ,  18.68154169,  20.61552813,  16.1245155 ,\n",
       "        18.11077028,  15.13274595,  19.        ,  16.        ,\n",
       "        18.11077028,  20.09975124,  16.76305461,  19.6468827 ,\n",
       "        38.07886553,  30.8058436 ,  39.35733731,  36.05551275,\n",
       "        40.31128874,  33.30165161,  35.35533906,  39.05124838,\n",
       "        10.        ,  10.19803903,  12.16552506,  13.        ,\n",
       "        15.        ,  15.13274595,  15.8113883 ,  17.11724277,\n",
       "        17.72004515,  20.        ,  20.61552813,  33.54101966,\n",
       "        31.6227766 ,  33.52610923,  32.38826948,  38.07886553,\n",
       "        35.35533906,  39.29376541,  41.23105626,  40.31128874,\n",
       "        20.61552813,  18.68154169,  19.31320792,  16.55294536,\n",
       "        21.54065923,  22.36067977,  20.59126028,  18.02775638,\n",
       "        23.32380758,  19.20937271,  22.8035085 ,  25.        ,\n",
       "        21.21320344,  45.17742799,  40.04996879,  35.05709629,\n",
       "        45.        ,  35.        ,  45.04442252,  35.05709629,\n",
       "        45.27692569,  22.36067977,  18.02775638,  14.14213562,\n",
       "        21.54065923,  12.80624847,  16.55294536,  12.20655562,\n",
       "        20.61552813,  15.8113883 ,  58.52349955,  57.00877125,\n",
       "        23.85372088,  55.71355311,  19.84943324,  15.8113883 ,\n",
       "        52.20153254,  52.        ,  50.28916384,  51.07837116,\n",
       "        51.4781507 ,  47.4341649 ,  35.35533906,  32.38826948,\n",
       "        31.04834939,  29.73213749,  26.47640459,  25.49509757,\n",
       "        26.92582404,  24.35159132,  20.61552813,  22.36067977,\n",
       "        44.20407221,  43.01162634,  40.60788101,  37.20215048,\n",
       "        36.05551275,  40.31128874,  30.8058436 ,  33.54101966,  38.07886553])"
      ]
     },
     "execution_count": 69,
     "metadata": {},
     "output_type": "execute_result"
    }
   ],
   "source": [
    "dist[0]"
   ]
  },
  {
   "cell_type": "code",
   "execution_count": 82,
   "metadata": {
    "scrolled": true
   },
   "outputs": [],
   "source": [
    "dist = np.insert(dist,101,dist[0],axis = 1)"
   ]
  },
  {
   "cell_type": "code",
   "execution_count": 83,
   "metadata": {
    "collapsed": true
   },
   "outputs": [],
   "source": [
    "V = df.Cust.values"
   ]
  },
  {
   "cell_type": "code",
   "execution_count": 84,
   "metadata": {},
   "outputs": [],
   "source": [
    "a_min = df.readytime.values\n",
    "a_max = df.duedate.values\n",
    "s_i = df.servicetime.values"
   ]
  },
  {
   "cell_type": "code",
   "execution_count": 101,
   "metadata": {},
   "outputs": [
    {
     "data": {
      "text/plain": [
       "array([   0,  912,  825,   65,  727,   15,  621,  170,  255,  534,  357,\n",
       "        448,  652,   30,  567,  384,  475,   99,  179,  278,   10,  914,\n",
       "        812,  732,   65,  169,  622,  261,  546,  358,  449,  200,   31,\n",
       "         87,  751,  283,  665,  383,  479,  567,  264,  166,   68,   16,\n",
       "        359,  541,  448, 1054,  632, 1001,  815,  725,  912,  286,  186,\n",
       "         95,  385,   35,  471,  651,  562,  531,  262,  171,  632,   76,\n",
       "        826,   12,  734,  916,  387,  293,  450,  478,  353,  997,  203,\n",
       "        574,  109,  668,  769,   47,  369,  265,  458,  555,  173,   85,\n",
       "        645,  737,   20,  836,  368,  475,  285,  196,   95,  561,   30,\n",
       "        743,  647])"
      ]
     },
     "execution_count": 101,
     "metadata": {},
     "output_type": "execute_result"
    }
   ],
   "source": [
    "a_min"
   ]
  },
  {
   "cell_type": "code",
   "execution_count": 109,
   "metadata": {},
   "outputs": [
    {
     "data": {
      "text/plain": [
       "array([ 38.07886553,  19.72308292,  18.02775638,  23.02172887,\n",
       "        21.40093456,  23.85372088,  21.9317122 ,  24.20743687,\n",
       "        24.04163056,  22.6715681 ,  27.58622845,  25.61249695,\n",
       "        30.        ,  34.4818793 ,  33.        ,  35.35533906,\n",
       "        35.        ,  38.32753579,  41.23105626,  40.31128874,\n",
       "        43.01162634,  41.40048309,  42.63801121,  40.36087214,\n",
       "        46.09772229,  44.59820624,  42.42640687,  45.96737974,\n",
       "        43.8634244 ,  49.49747468,  46.09772229,  67.26812024,\n",
       "        63.63961031,  65.06919394,  61.7170965 ,  70.71067812,\n",
       "        64.03124237,  69.52697318,  71.06335202,  68.00735254,\n",
       "        58.52349955,  56.64803615,  57.38466694,  54.62600113,\n",
       "        59.61543424,  60.41522987,  58.6003413 ,  55.90169944,\n",
       "        61.26989473,  56.82429058,  60.41522987,  62.64982043,\n",
       "        58.30951895,  80.75270893,  76.11832894,  71.19691005,\n",
       "        81.39410298,  71.58910532,  81.78630692,  72.03471385,\n",
       "        82.46211251,  55.22680509,  50.24937811,  45.27692569,\n",
       "        55.4436651 ,  45.54119015,  50.6359556 ,  45.70557953,\n",
       "        55.90169944,  50.99019514,  68.00735254,  64.03124237,\n",
       "        55.03635162,  66.28725368,  50.03998401,  22.36067977,\n",
       "        61.03277808,  64.14047084,  59.9082632 ,  63.63175308,\n",
       "        67.08203932,  58.30951895,  36.05551275,  34.4818793 ,\n",
       "        30.88689042,  28.17800561,  31.95309062,  31.6227766 ,\n",
       "        26.92582404,  28.16025568,  30.41381265,  25.49509757,\n",
       "        12.        ,  10.        ,  10.44030651,   8.60232527,\n",
       "         7.07106781,   5.        ,  10.44030651,   5.        ,\n",
       "         0.        ,  38.07886553])"
      ]
     },
     "execution_count": 109,
     "metadata": {},
     "output_type": "execute_result"
    }
   ],
   "source": [
    "dist[100]"
   ]
  },
  {
   "cell_type": "code",
   "execution_count": 118,
   "metadata": {},
   "outputs": [
    {
     "name": "stdout",
     "output_type": "stream",
     "text": [
      "Optimize a model with 183009 rows, 61812 columns and 483012 nonzeros\n",
      "Variable types: 606 continuous, 61206 integer (61206 binary)\n",
      "Coefficient statistics:\n",
      "  Matrix range     [1e+00, 1e+04]\n",
      "  Objective range  [1e+00, 1e+02]\n",
      "  Bounds range     [1e+00, 1e+00]\n",
      "  RHS range        [1e+00, 1e+04]\n",
      "Presolve removed 180112 rows and 50978 columns\n",
      "Presolve time: 1.70s\n",
      "Presolved: 2897 rows, 10834 columns, 31307 nonzeros\n",
      "Variable types: 201 continuous, 10633 integer (10633 binary)\n",
      "Found heuristic solution: objective 228.4731932\n",
      "\n",
      "Root relaxation: cutoff, 46 iterations, 0.01 seconds\n",
      "\n",
      "    Nodes    |    Current Node    |     Objective Bounds      |     Work\n",
      " Expl Unexpl |  Obj  Depth IntInf | Incumbent    BestBd   Gap | It/Node Time\n",
      "\n",
      "     0     0     cutoff    0       228.47319  228.47319  0.00%     -    2s\n",
      "\n",
      "Explored 0 nodes (46 simplex iterations) in 2.46 seconds\n",
      "Thread count was 4 (of 4 available processors)\n",
      "\n",
      "Solution count 1: 228.473 \n",
      "\n",
      "Optimal solution found (tolerance 1.00e-04)\n",
      "Best objective 2.284731931759e+02, best bound 2.284731931759e+02, gap 0.0000%\n",
      "IIS runtime: 2.05 seconds\n"
     ]
    },
    {
     "ename": "GurobiError",
     "evalue": "Cannot compute IIS on a feasible model",
     "output_type": "error",
     "traceback": [
      "\u001b[0;31m---------------------------------------------------------------------------\u001b[0m",
      "\u001b[0;31mGurobiError\u001b[0m                               Traceback (most recent call last)",
      "\u001b[0;32m<ipython-input-118-3519953851e7>\u001b[0m in \u001b[0;36m<module>\u001b[0;34m()\u001b[0m\n\u001b[1;32m     97\u001b[0m \u001b[0mm\u001b[0m\u001b[0;34m.\u001b[0m\u001b[0moptimize\u001b[0m\u001b[0;34m(\u001b[0m\u001b[0;34m)\u001b[0m\u001b[0;34m\u001b[0m\u001b[0m\n\u001b[1;32m     98\u001b[0m \u001b[0;34m\u001b[0m\u001b[0m\n\u001b[0;32m---> 99\u001b[0;31m \u001b[0mm\u001b[0m\u001b[0;34m.\u001b[0m\u001b[0mcomputeIIS\u001b[0m\u001b[0;34m(\u001b[0m\u001b[0;34m)\u001b[0m\u001b[0;34m\u001b[0m\u001b[0m\n\u001b[0m\u001b[1;32m    100\u001b[0m \u001b[0;32mfor\u001b[0m \u001b[0mc\u001b[0m \u001b[0;32min\u001b[0m \u001b[0mm\u001b[0m\u001b[0;34m.\u001b[0m\u001b[0mgetConstrs\u001b[0m\u001b[0;34m(\u001b[0m\u001b[0;34m)\u001b[0m\u001b[0;34m:\u001b[0m\u001b[0;34m\u001b[0m\u001b[0m\n\u001b[1;32m    101\u001b[0m     \u001b[0;32mif\u001b[0m \u001b[0mc\u001b[0m\u001b[0;34m.\u001b[0m\u001b[0mIISConstr\u001b[0m\u001b[0;34m:\u001b[0m\u001b[0;34m\u001b[0m\u001b[0m\n",
      "\u001b[0;32mmodel.pxi\u001b[0m in \u001b[0;36mgurobipy.Model.computeIIS (../../src/python/gurobipy.c:54958)\u001b[0;34m()\u001b[0m\n",
      "\u001b[0;31mGurobiError\u001b[0m: Cannot compute IIS on a feasible model"
     ]
    }
   ],
   "source": [
    "from gurobipy import *\n",
    "\n",
    "\n",
    "m = Model()\n",
    "\n",
    "K = 3\n",
    "routes = 2\n",
    "n = len(V)-1\n",
    "bigM = 10000\n",
    "vars = {}\n",
    "for i in range(n+1):\n",
    "    for j in range(0,n+1):\n",
    "        if i!=j: #same index would mean nothing--> decreases amount of variables\n",
    "            for r in range(routes):\n",
    "                for k in range(K):\n",
    "                    vars[i, j,  k, r] = m.addVar(vtype=GRB.BINARY, name='x_'+str(i)+'_'+str(j)+'_'+str(k)+'_'+str(r))\n",
    "#m.update()\n",
    "\n",
    "yvar = {}\n",
    "for i in range(n+1):\n",
    "    #for njob in range(nJobs):\n",
    "        for r in range(routes):\n",
    "            for k in range(K):\n",
    "                yvar[i, k,  r] = m.addVar(vtype=GRB.BINARY,  name='y_'+str(i)+'_'+ str(k)+'_'+str(r)) #lb=K, ub=L, vtype=GRB.INTEGER, name='u_'+str(i))\n",
    "\n",
    "tvar = {}\n",
    "for i in range(n+1):\n",
    "    for r in range(routes): #R+1 ist wichtig fü\n",
    "        for k in range(K): \n",
    "            tvar[i, k, r] = m.addVar(vtype=GRB.CONTINUOUS,  name='t_'+str(i)+'_'+str(k) + \"_\" + str(r))\n",
    "\n",
    "\n",
    "for r in range(routes): # all routes start point -> 0\n",
    "    for k in range(K):\n",
    "        m.addConstr(quicksum(vars[0, i, k, r] for i in range(1, n+1)) == 1,'1st')\n",
    "\n",
    "for r in range(routes): # all routes end point -> n+1\n",
    "    for k in range(K):\n",
    "        m.addConstr(quicksum(vars[i, n, k, r] for i in range(0, n)) == 1, '2nd') #!!!!! Python range(0,3)-> 0,1,2 ; n means here n+1\n",
    "\n",
    "        \n",
    "\n",
    "'''\n",
    "m.addConstr(quicksum(vars[0, i, k, r] for i in range(1, n+1) for k in range(K) \n",
    "                     for r in range(routes)) <= K, '2nd') #!!!!! Python range(0,3)-> 0,1,2 ; n means here n+1\n",
    "'''\n",
    "\n",
    "for h in range(1,n): # all arcs in = all arcs out\n",
    "    for r in range(routes):\n",
    "        for k in range(K):\n",
    "            m.addConstr(quicksum(vars[i, h, k, r] for i in range(n) if i != h ) -\n",
    "                        quicksum(vars[h, j, k, r] for j in range(0,n+1) if j != h )  == 0 , '3rd')\n",
    "\n",
    "for i in range(0,n): #specifies if job $njob$ from node $i$ is in route $r,k$ \n",
    "    for r in range(routes):\n",
    "        for k in range(K):\n",
    "            m.addConstr(quicksum(vars[i, j, k,  r] for j in range(0, n+1) if i !=j  ) -\n",
    "                    yvar[i, k, r]   == 0 , '5th')\n",
    "            \n",
    "\n",
    "#### time constraints ##############################################\n",
    "\n",
    "for i in range(0,n+1): \n",
    "    for j in range(0,n+1):\n",
    "        if i!=j:\n",
    "            for r in range(routes):\n",
    "                for k in range(K):\n",
    "                    m.addConstr(tvar[i, k, r] + dist[i][j]  - bigM *(1 - vars[i, j,k, r] ) <= tvar[j, k, r], '6th')\n",
    "                    m.addConstr(tvar[i, k, r]  <= a_max[i], 'sth')\n",
    "                    m.addConstr(tvar[i, k, r]  >= a_min[i], '4th')\n",
    "                \n",
    "for r in range(routes-1):\n",
    "    for k in range(K):\n",
    "        m.addConstr(tvar[n,k,r] <= tvar[0,k,r+1],\"20th\")\n",
    "\n",
    "\n",
    "m.update()\n",
    "\n",
    "obj = ( \n",
    "    \n",
    "    ######## Distribution ###############################################################\n",
    "    quicksum( dist[i][j] * vars[i,j,k,r] for i in range(n)  # Entfernungskosten\n",
    "                    for j in range(1,n+1) for r in range(routes) for k in range(K) if i!=j)\n",
    "    \n",
    "    )\n",
    "     \n",
    "m.setObjective(obj)\n",
    "\n",
    "\n",
    "################### Run Model ############################################################################\n",
    "\n",
    "m._vars = vars\n",
    "\n",
    "\n",
    "############ Solver Strategy\n",
    "#m.Params.MIPFocus=1 #best objectie bound is moving slowly\n",
    "m.optimize()\n",
    "\n",
    "m.computeIIS()\n",
    "for c in m.getConstrs():\n",
    "    if c.IISConstr:\n",
    "        print('%s' % c.constrName)\n",
    "\n",
    "m.write('infeasible.ilp')      "
   ]
  },
  {
   "cell_type": "markdown",
   "metadata": {},
   "source": [
    "## sub problem"
   ]
  },
  {
   "cell_type": "markdown",
   "metadata": {},
   "source": [
    "###### Elementary shortest path"
   ]
  },
  {
   "cell_type": "markdown",
   "metadata": {},
   "source": [
    "$$ \\hat {c} $$"
   ]
  },
  {
   "cell_type": "code",
   "execution_count": 124,
   "metadata": {},
   "outputs": [
    {
     "ename": "KeyError",
     "evalue": "(0,)",
     "output_type": "error",
     "traceback": [
      "\u001b[0;31m---------------------------------------------------------------------------\u001b[0m",
      "\u001b[0;31mKeyError\u001b[0m                                  Traceback (most recent call last)",
      "\u001b[0;32m<ipython-input-124-45726d8b5736>\u001b[0m in \u001b[0;36m<module>\u001b[0;34m()\u001b[0m\n\u001b[1;32m     50\u001b[0m             \u001b[0;32mfor\u001b[0m \u001b[0mr\u001b[0m \u001b[0;32min\u001b[0m \u001b[0mrange\u001b[0m\u001b[0;34m(\u001b[0m\u001b[0mroutes\u001b[0m\u001b[0;34m)\u001b[0m\u001b[0;34m:\u001b[0m\u001b[0;34m\u001b[0m\u001b[0m\n\u001b[1;32m     51\u001b[0m                 \u001b[0;32mfor\u001b[0m \u001b[0mk\u001b[0m \u001b[0;32min\u001b[0m \u001b[0mrange\u001b[0m\u001b[0;34m(\u001b[0m\u001b[0mK\u001b[0m\u001b[0;34m)\u001b[0m\u001b[0;34m:\u001b[0m\u001b[0;34m\u001b[0m\u001b[0m\n\u001b[0;32m---> 52\u001b[0;31m                     \u001b[0mm\u001b[0m\u001b[0;34m.\u001b[0m\u001b[0maddConstr\u001b[0m\u001b[0;34m(\u001b[0m\u001b[0mtvar\u001b[0m\u001b[0;34m[\u001b[0m\u001b[0mi\u001b[0m\u001b[0;34m,\u001b[0m\u001b[0;34m]\u001b[0m \u001b[0;34m+\u001b[0m \u001b[0mdist\u001b[0m\u001b[0;34m[\u001b[0m\u001b[0mi\u001b[0m\u001b[0;34m]\u001b[0m\u001b[0;34m[\u001b[0m\u001b[0mj\u001b[0m\u001b[0;34m]\u001b[0m  \u001b[0;34m-\u001b[0m \u001b[0mbigM\u001b[0m \u001b[0;34m*\u001b[0m\u001b[0;34m(\u001b[0m\u001b[0;36m1\u001b[0m \u001b[0;34m-\u001b[0m \u001b[0mvars\u001b[0m\u001b[0;34m[\u001b[0m\u001b[0mi\u001b[0m\u001b[0;34m,\u001b[0m \u001b[0mj\u001b[0m\u001b[0;34m,\u001b[0m\u001b[0mk\u001b[0m\u001b[0;34m,\u001b[0m \u001b[0mr\u001b[0m\u001b[0;34m]\u001b[0m \u001b[0;34m)\u001b[0m \u001b[0;34m<=\u001b[0m \u001b[0mtvar\u001b[0m\u001b[0;34m[\u001b[0m\u001b[0mj\u001b[0m\u001b[0;34m]\u001b[0m\u001b[0;34m,\u001b[0m \u001b[0;34m'6th'\u001b[0m\u001b[0;34m)\u001b[0m\u001b[0;34m\u001b[0m\u001b[0m\n\u001b[0m\u001b[1;32m     53\u001b[0m                     \u001b[0mm\u001b[0m\u001b[0;34m.\u001b[0m\u001b[0maddConstr\u001b[0m\u001b[0;34m(\u001b[0m\u001b[0mtvar\u001b[0m\u001b[0;34m[\u001b[0m\u001b[0mi\u001b[0m\u001b[0;34m]\u001b[0m  \u001b[0;34m<=\u001b[0m \u001b[0ma_max\u001b[0m\u001b[0;34m[\u001b[0m\u001b[0mi\u001b[0m\u001b[0;34m]\u001b[0m\u001b[0;34m,\u001b[0m \u001b[0;34m'sth'\u001b[0m\u001b[0;34m)\u001b[0m\u001b[0;34m\u001b[0m\u001b[0m\n\u001b[1;32m     54\u001b[0m                     \u001b[0mm\u001b[0m\u001b[0;34m.\u001b[0m\u001b[0maddConstr\u001b[0m\u001b[0;34m(\u001b[0m\u001b[0mtvar\u001b[0m\u001b[0;34m[\u001b[0m\u001b[0mi\u001b[0m\u001b[0;34m]\u001b[0m  \u001b[0;34m>=\u001b[0m \u001b[0ma_min\u001b[0m\u001b[0;34m[\u001b[0m\u001b[0mi\u001b[0m\u001b[0;34m]\u001b[0m\u001b[0;34m,\u001b[0m \u001b[0;34m'4th'\u001b[0m\u001b[0;34m)\u001b[0m\u001b[0;34m\u001b[0m\u001b[0m\n",
      "\u001b[0;31mKeyError\u001b[0m: (0,)"
     ]
    }
   ],
   "source": [
    "from gurobipy import *\n",
    "\n",
    "\n",
    "m = Model()\n",
    "\n",
    "K = 3\n",
    "routes = 2\n",
    "n = len(V)-1\n",
    "bigM = 10000\n",
    "\n",
    "\n",
    "vars = {}\n",
    "for i in range(n+1):\n",
    "    for j in range(0,n+1):\n",
    "        if i!=j: #same index would mean nothing--> decreases amount of variables\n",
    "            vars[i, j] = m.addVar(vtype=GRB.BINARY, name='x_'+str(i)+'_'+str(j))\n",
    "tvar = {}\n",
    "for i in range(n+1):\n",
    "    for r in range(routes): #R+1 ist wichtig fü\n",
    "        for k in range(K): \n",
    "            tvar[i] = m.addVar(vtype=GRB.CONTINUOUS,  name='t_'+str(i))\n",
    "\n",
    "            \n",
    "            \n",
    "            \n",
    "            \n",
    "            \n",
    "\n",
    "for r in range(routes): # all routes start point -> 0\n",
    "    for k in range(K):\n",
    "        m.addConstr(quicksum(vars[0, i] for i in range(1, n+1)) == 1,'1st')\n",
    "\n",
    "for r in range(routes): # all routes end point -> n+1\n",
    "    for k in range(K):\n",
    "        m.addConstr(quicksum(vars[i, n] for i in range(0, n)) == 1, '2nd') #!!!!! Python range(0,3)-> 0,1,2 ; n means here n+1\n",
    "\n",
    "        \n",
    "\n",
    "for h in range(1,n): # all arcs in = all arcs out\n",
    "\n",
    "            m.addConstr(quicksum(vars[i, h] for i in range(n) if i != h ) -\n",
    "                        quicksum(vars[h, j] for j in range(0,n+1) if j != h )  == 0 , '3rd')\n",
    "\n",
    "\n",
    "#### time constraints ##############################################\n",
    "\n",
    "for i in range(0,n+1): \n",
    "    for j in range(0,n+1):\n",
    "        if i!=j:\n",
    "            for r in range(routes):\n",
    "                for k in range(K):\n",
    "                    m.addConstr(tvar[i,] + dist[i][j]  - bigM *(1 - vars[i, j,k, r] ) <= tvar[j], '6th')\n",
    "                    m.addConstr(tvar[i]  <= a_max[i], 'sth')\n",
    "                    m.addConstr(tvar[i]  >= a_min[i], '4th')\n",
    "                \n",
    "\n",
    "m.update()\n",
    "\n",
    "obj = ( \n",
    "    \n",
    "    ######## Distribution ###############################################################\n",
    "    quicksum( dist[i][j] * vars[i,j] for i in range(n)  # Entfernungskosten\n",
    "                    for j in range(1,n+1) if i!=j)\n",
    "    \n",
    "    )\n",
    "     \n",
    "m.setObjective(obj)\n",
    "\n",
    "\n",
    "################### Run Model ############################################################################\n",
    "\n",
    "m._vars = vars\n",
    "\n",
    "\n",
    "############ Solver Strategy\n",
    "#m.Params.MIPFocus=1 #best objectie bound is moving slowly\n",
    "m.optimize()\n",
    "\n",
    "m.computeIIS()\n",
    "for c in m.getConstrs():\n",
    "    if c.IISConstr:\n",
    "        print('%s' % c.constrName)\n",
    "\n",
    "m.write('infeasible.ilp')      "
   ]
  },
  {
   "cell_type": "code",
   "execution_count": 122,
   "metadata": {},
   "outputs": [],
   "source": [
    "EPS = 1.e-6\n",
    "LOG = True"
   ]
  },
  {
   "cell_type": "markdown",
   "metadata": {},
   "source": [
    "* master relax\n",
    "* master solve\n",
    "* get duals from master\n"
   ]
  },
  {
   "cell_type": "code",
   "execution_count": null,
   "metadata": {
    "collapsed": true
   },
   "outputs": [],
   "source": []
  }
 ],
 "metadata": {
  "kernelspec": {
   "display_name": "Python 2",
   "language": "python",
   "name": "python2"
  },
  "language_info": {
   "codemirror_mode": {
    "name": "ipython",
    "version": 2
   },
   "file_extension": ".py",
   "mimetype": "text/x-python",
   "name": "python",
   "nbconvert_exporter": "python",
   "pygments_lexer": "ipython2",
   "version": "2.7.13"
  },
  "toc": {
   "colors": {
    "hover_highlight": "#DAA520",
    "running_highlight": "#FF0000",
    "selected_highlight": "#FFD700"
   },
   "moveMenuLeft": true,
   "nav_menu": {
    "height": "30px",
    "width": "252px"
   },
   "navigate_menu": true,
   "number_sections": true,
   "sideBar": true,
   "threshold": 4,
   "toc_cell": false,
   "toc_section_display": "block",
   "toc_window_display": false,
   "widenNotebook": false
  }
 },
 "nbformat": 4,
 "nbformat_minor": 2
}
