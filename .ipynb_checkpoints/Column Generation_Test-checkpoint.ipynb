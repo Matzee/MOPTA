{
 "cells": [
  {
   "cell_type": "code",
   "execution_count": 3,
   "metadata": {
    "collapsed": true
   },
   "outputs": [],
   "source": [
    "using JuMP\n",
    "using GLPKMathProgInterface\n",
    "\n"
   ]
  },
  {
   "cell_type": "code",
   "execution_count": 35,
   "metadata": {},
   "outputs": [
    {
     "data": {
      "text/plain": [
       "1-element Array{UnitRange{Int64},1}:\n",
       " 1:5"
      ]
     },
     "execution_count": 35,
     "metadata": {},
     "output_type": "execute_result"
    }
   ],
   "source": [
    "Jprime"
   ]
  },
  {
   "cell_type": "code",
   "execution_count": 39,
   "metadata": {},
   "outputs": [
    {
     "data": {
      "text/plain": [
       "5"
      ]
     },
     "execution_count": 39,
     "metadata": {},
     "output_type": "execute_result"
    }
   ],
   "source": [
    "cardinalityM"
   ]
  },
  {
   "cell_type": "code",
   "execution_count": 40,
   "metadata": {},
   "outputs": [
    {
     "name": "stdout",
     "output_type": "stream",
     "text": [
      "1:5"
     ]
    }
   ],
   "source": [
    "for j in Jprime\n",
    "print(j)\n",
    "end"
   ]
  },
  {
   "cell_type": "code",
   "execution_count": 50,
   "metadata": {},
   "outputs": [
    {
     "data": {
      "text/plain": [
       "1:5"
      ]
     },
     "execution_count": 50,
     "metadata": {},
     "output_type": "execute_result"
    }
   ],
   "source": [
    "i=1:cardinalityM"
   ]
  },
  {
   "cell_type": "code",
   "execution_count": 53,
   "metadata": {},
   "outputs": [
    {
     "data": {
      "text/plain": [
       "0.0"
      ]
     },
     "execution_count": 53,
     "metadata": {},
     "output_type": "execute_result"
    }
   ],
   "source": [
    "A[1,3]"
   ]
  },
  {
   "cell_type": "code",
   "execution_count": 78,
   "metadata": {},
   "outputs": [
    {
     "data": {
      "text/plain": [
       "1-element Array{UnitRange{Int64},1}:\n",
       " 1:5"
      ]
     },
     "execution_count": 78,
     "metadata": {},
     "output_type": "execute_result"
    }
   ],
   "source": [
    "Jprime"
   ]
  },
  {
   "cell_type": "code",
   "execution_count": 77,
   "metadata": {},
   "outputs": [
    {
     "name": "stdout",
     "output_type": "stream",
     "text": [
      "1\n",
      "2\n",
      "3\n",
      "4\n",
      "5\n"
     ]
    }
   ],
   "source": [
    "for a in 1:5\n",
    "    println(a)\n",
    "end"
   ]
  },
  {
   "cell_type": "code",
   "execution_count": 89,
   "metadata": {},
   "outputs": [
    {
     "name": "stdout",
     "output_type": "stream",
     "text": [
      "1:5"
     ]
    }
   ],
   "source": [
    "for j in Jprime\n",
    "    print(i)\n",
    "end"
   ]
  },
  {
   "cell_type": "code",
   "execution_count": 95,
   "metadata": {},
   "outputs": [
    {
     "ename": "LoadError",
     "evalue": "\u001b[91mFailed attempt to index JuMPArray along dimension 1: 2 ∉ UnitRange{Int64}[1:5]\u001b[39m",
     "output_type": "error",
     "traceback": [
      "\u001b[91mFailed attempt to index JuMPArray along dimension 1: 2 ∉ UnitRange{Int64}[1:5]\u001b[39m",
      "",
      "Stacktrace:",
      " [1] \u001b[1mmacro expansion\u001b[22m\u001b[22m at \u001b[1m/Users/matthiaszech/.julia/v0.6/JuMP/src/JuMPArray.jl:91\u001b[22m\u001b[22m [inlined]",
      " [2] \u001b[1mgetindex\u001b[22m\u001b[22m\u001b[1m(\u001b[22m\u001b[22m::JuMP.JuMPArray{JuMP.Variable,1,Tuple{Array{UnitRange{Int64},1}}}, ::Int64\u001b[1m)\u001b[22m\u001b[22m at \u001b[1m/Users/matthiaszech/.julia/v0.6/JuMP/src/JuMPArray.jl:40\u001b[22m\u001b[22m",
      " [3] \u001b[1minclude_string\u001b[22m\u001b[22m\u001b[1m(\u001b[22m\u001b[22m::String, ::String\u001b[1m)\u001b[22m\u001b[22m at \u001b[1m./loading.jl:515\u001b[22m\u001b[22m"
     ]
    }
   ],
   "source": [
    "x[2]"
   ]
  },
  {
   "cell_type": "code",
   "execution_count": 91,
   "metadata": {
    "scrolled": false
   },
   "outputs": [
    {
     "ename": "LoadError",
     "evalue": "\u001b[91mFailed attempt to index JuMPArray along dimension 1: 1 ∉ UnitRange{Int64}[1:5]\u001b[39m",
     "output_type": "error",
     "traceback": [
      "\u001b[91mFailed attempt to index JuMPArray along dimension 1: 1 ∉ UnitRange{Int64}[1:5]\u001b[39m",
      "",
      "Stacktrace:",
      " [1] \u001b[1mmacro expansion\u001b[22m\u001b[22m at \u001b[1m/Users/matthiaszech/.julia/v0.6/JuMP/src/JuMPArray.jl:91\u001b[22m\u001b[22m [inlined]",
      " [2] \u001b[1mgetindex\u001b[22m\u001b[22m\u001b[1m(\u001b[22m\u001b[22m::JuMP.JuMPArray{JuMP.Variable,1,Tuple{Array{UnitRange{Int64},1}}}, ::Int64\u001b[1m)\u001b[22m\u001b[22m at \u001b[1m/Users/matthiaszech/.julia/v0.6/JuMP/src/JuMPArray.jl:40\u001b[22m\u001b[22m",
      " [3] \u001b[1mmacro expansion\u001b[22m\u001b[22m at \u001b[1m/Users/matthiaszech/.julia/v0.6/JuMP/src/parseExpr_staged.jl:343\u001b[22m\u001b[22m [inlined]",
      " [4] \u001b[1mmacro expansion\u001b[22m\u001b[22m at \u001b[1m/Users/matthiaszech/.julia/v0.6/JuMP/src/macros.jl:422\u001b[22m\u001b[22m [inlined]",
      " [5] \u001b[1manonymous\u001b[22m\u001b[22m at \u001b[1m./<missing>:?\u001b[22m\u001b[22m",
      " [6] \u001b[1minclude_string\u001b[22m\u001b[22m\u001b[1m(\u001b[22m\u001b[22m::String, ::String\u001b[1m)\u001b[22m\u001b[22m at \u001b[1m./loading.jl:515\u001b[22m\u001b[22m"
     ]
    }
   ],
   "source": [
    "@constraint(cutstockMain, consRef[i=1:cardinalityM], sum{A[i,j] * x[j], j =1} == b[i]) # Adding the constraints\n",
    "\n"
   ]
  },
  {
   "cell_type": "code",
   "execution_count": 98,
   "metadata": {},
   "outputs": [
    {
     "data": {
      "text/latex": [
       "$$ x_{1:5} $$"
      ],
      "text/plain": [
       "x[1:5]"
      ]
     },
     "execution_count": 98,
     "metadata": {},
     "output_type": "execute_result"
    }
   ],
   "source": [
    "x[1:5]"
   ]
  },
  {
   "cell_type": "code",
   "execution_count": 99,
   "metadata": {},
   "outputs": [
    {
     "data": {
      "text/plain": [
       "1:5"
      ]
     },
     "execution_count": 99,
     "metadata": {},
     "output_type": "execute_result"
    }
   ],
   "source": [
    "1:5"
   ]
  },
  {
   "cell_type": "code",
   "execution_count": 101,
   "metadata": {},
   "outputs": [
    {
     "data": {
      "text/plain": [
       "1-element Array{UnitRange{Int64},1}:\n",
       " 1:5"
      ]
     },
     "execution_count": 101,
     "metadata": {},
     "output_type": "execute_result"
    }
   ],
   "source": [
    "[1:size(A,2)] "
   ]
  },
  {
   "cell_type": "code",
   "execution_count": 116,
   "metadata": {},
   "outputs": [
    {
     "ename": "LoadError",
     "evalue": "\u001b[91mThe operators <=, >=, and == can only be used to specify scalar constraints. If you are trying to add a vectorized constraint, use the element-wise dot comparison operators (.<=, .>=, or .==) instead\u001b[39m",
     "output_type": "error",
     "traceback": [
      "\u001b[91mThe operators <=, >=, and == can only be used to specify scalar constraints. If you are trying to add a vectorized constraint, use the element-wise dot comparison operators (.<=, .>=, or .==) instead\u001b[39m",
      "",
      "Stacktrace:",
      " [1] \u001b[1maddconstraint\u001b[22m\u001b[22m\u001b[1m(\u001b[22m\u001b[22m::JuMP.Model, ::Array{JuMP.GenericRangeConstraint{JuMP.GenericAffExpr{Float64,JuMP.Variable}},1}\u001b[1m)\u001b[22m\u001b[22m at \u001b[1m/Users/matthiaszech/.julia/v0.6/JuMP/src/affexpr.jl:188\u001b[22m\u001b[22m",
      " [2] \u001b[1mmacro expansion\u001b[22m\u001b[22m at \u001b[1m/Users/matthiaszech/.julia/v0.6/JuMP/src/macros.jl:423\u001b[22m\u001b[22m [inlined]",
      " [3] \u001b[1manonymous\u001b[22m\u001b[22m at \u001b[1m./<missing>:?\u001b[22m\u001b[22m",
      " [4] \u001b[1minclude_string\u001b[22m\u001b[22m\u001b[1m(\u001b[22m\u001b[22m::String, ::String\u001b[1m)\u001b[22m\u001b[22m at \u001b[1m./loading.jl:515\u001b[22m\u001b[22m"
     ]
    }
   ],
   "source": [
    "@constraint(cutstockMain, consRef[i=1:cardinalityM], sum{A[i,j] * x[j], j in Jprime} == b[i]) # Adding the constraints\n",
    "\n"
   ]
  },
  {
   "cell_type": "code",
   "execution_count": 113,
   "metadata": {},
   "outputs": [
    {
     "name": "stdout",
     "output_type": "stream",
     "text": [
      "HALLO\n",
      "LOLaaOL\n"
     ]
    },
    {
     "ename": "LoadError",
     "evalue": "\u001b[91mThe operators <=, >=, and == can only be used to specify scalar constraints. If you are trying to add a vectorized constraint, use the element-wise dot comparison operators (.<=, .>=, or .==) instead\u001b[39m",
     "output_type": "error",
     "traceback": [
      "\u001b[91mThe operators <=, >=, and == can only be used to specify scalar constraints. If you are trying to add a vectorized constraint, use the element-wise dot comparison operators (.<=, .>=, or .==) instead\u001b[39m",
      "",
      "Stacktrace:",
      " [1] \u001b[1maddconstraint\u001b[22m\u001b[22m\u001b[1m(\u001b[22m\u001b[22m::JuMP.Model, ::Array{JuMP.GenericRangeConstraint{JuMP.GenericAffExpr{Float64,JuMP.Variable}},1}\u001b[1m)\u001b[22m\u001b[22m at \u001b[1m/Users/matthiaszech/.julia/v0.6/JuMP/src/affexpr.jl:188\u001b[22m\u001b[22m",
      " [2] \u001b[1mmacro expansion\u001b[22m\u001b[22m at \u001b[1m/Users/matthiaszech/.julia/v0.6/JuMP/src/macros.jl:423\u001b[22m\u001b[22m [inlined]",
      " [3] \u001b[1manonymous\u001b[22m\u001b[22m at \u001b[1m./<missing>:?\u001b[22m\u001b[22m",
      " [4] \u001b[1minclude_string\u001b[22m\u001b[22m\u001b[1m(\u001b[22m\u001b[22m::String, ::String\u001b[1m)\u001b[22m\u001b[22m at \u001b[1m./loading.jl:515\u001b[22m\u001b[22m"
     ]
    }
   ],
   "source": [
    "# Verfied to be working:\n",
    "\n",
    "# Uploading the packages:\n",
    "# -----------------------\n",
    "\n",
    "using JuMP\n",
    "using GLPKMathProgInterface\n",
    "\n",
    "                                     # Input preliminary data for starting the problem\n",
    "                                                # ----------------------\n",
    "\n",
    "W=100\n",
    "cardinalityM=5\n",
    "M=[1:cardinalityM]\n",
    "A=eye(cardinalityM)\n",
    "p=zeros(5)\n",
    "b=[45; 38; 25; 11; 12]\n",
    "w=[22; 42; 52; 53; 78]\n",
    "\n",
    "#@time begin \n",
    "    println(\"HALLO\")\n",
    "                                         # Solve the master problem with the initial data\n",
    "                                                    #----------------------\n",
    "\n",
    "    cutstockMain = Model() # Model for the master problem\n",
    "    Jprime=[1:size(A,2)] # Intial number of variables\n",
    "    @variable(cutstockMain, 0 <= x[Jprime] <= 1000000) # Defining the variables\n",
    "\n",
    "    @objective(cutstockMain, Min, sum{1*x[j],j in Jprime}) # Setting the objective\n",
    "    println(\"LOLaaOL\")\n",
    "\n",
    "    @constraint(cutstockMain, consRef[i=1:cardinalityM], sum{A[i,j] * x[j], j in Jprime} == b[i]) # Adding the constraints\n",
    "    # Here the second argument consRef[i=1:cardinalityM] means that the i-th constraint aᵢᵀx = bᵢ has \n",
    "    # the corresponding constraint reference consRef[i]\n",
    "    println(\"GEILOO\")\n",
    "    solve(cutstockMain)\n",
    "\n",
    "    #Collect the dual variables for the equality constraints and store them in an array p\n",
    "    getDual(consRef)\n",
    "    for i in M\n",
    "        p[i] = getDual(consRef)[i] # These p[i] are the input data for the subproblem\n",
    "    end \n",
    "\n",
    "                                                 # Solve the sub problem\n",
    "                                                    # -------------------\n",
    "\n",
    "    cutstockSub=Model() # Model for the subproblem\n",
    "    @variable(cutstockSub, 0 <= Ajstar[M] <= 1000000, Int )\n",
    "    @objective(cutstockSub, Min, 1-sum{p[i]*Ajstar[i],i in M})\n",
    "    @constraint(cutstockSub, sum{w[i]*Ajstar[i], i in M} <= W)\n",
    "    solve(cutstockSub)\n",
    "    minReducedCost=getObjectiveValue(cutstockSub)\n",
    "\n",
    "    println(\"HIER AUCH\")\n",
    "    Anew=Float64[] # This Anew correspond to the newly added column to the A matrix\n",
    "    for (i in 1:cardinalityM)\n",
    "        push!(Anew, getValue(Ajstar)[i])\n",
    "    end\n",
    "\n",
    "    xNewArray=Variable[] # The newly added variables by flow control will be pushed to the new array of variables xNewArray\n",
    "\n",
    "    k=1 # Counter for the while loop\n",
    "\n",
    "    # Flow control\n",
    "    # ------------\n",
    "\n",
    "    while (minReducedCost < 0) #while (current solution of the master problem is suboptimal, i.e., subproblem objective value < 0)\n",
    "        # Solve the master problem by adding the new column Anew to the old A matrix\n",
    "        @variable(\n",
    "             cutstockMain, # Model to be modified\n",
    "             0 <= xNew <= 1000000, # New variable to be added\n",
    "             objective=1, # cost coefficient of new varaible in the objective\n",
    "             inconstraints=consRef,  # constraints to be modified\n",
    "             coefficients=Anew # the coefficients of the variable in those constraints\n",
    "        ) \n",
    "        \n",
    "        # The line above adds the column (aᵢⱼ*)ᵢ=Aⱼ* to A <br>\n",
    "        # and add a corresponding new variable xⱼ* to the list of variable\n",
    "        push!(xNewArray, xNew) # Pushing the new variable in the array of new variables\n",
    "        setName(xNew, string(\"x[\",size(A,2)+k,\"]\")) # Changing the name of the variable \n",
    "                                               # otherwise all the newly added variables will have name xNew!\n",
    "        k=k+1 # Increasing k by 1\n",
    "        statusControlFlow=solve(cutstockMain)\n",
    "\n",
    "        #Collect the dual variables for the equality constraints and store them in an array p\n",
    "        getDual(consRef)\n",
    "        for i in M\n",
    "            p[i] = getDual(consRef)[i] \n",
    "        end \n",
    "\n",
    "        # Solving the modified sub problem        \n",
    "        @variable(cutstockSub, 0 <= Ajstar[M] <= 1000000, Int )\n",
    "        @objective(cutstockSub, Min, 1-sum{p[i]*Ajstar[i],i in M})\n",
    "        @constraint(cutstockSub, sum{w[i]*Ajstar[i], i in M} <= W)\n",
    "        solve(cutstockSub)\n",
    "        minReducedCost=getObjectiveValue(cutstockSub)\n",
    "\n",
    "        #Store the components of the solution of current subproblem into the column Anew    \n",
    "        Anew=Float64[]\n",
    "        for (i in 1:cardinalityM)\n",
    "            push!(Anew, getValue(Ajstar)[i])\n",
    "        end\n",
    "    end # While loop ends\n",
    "    \n",
    "#end # time measurement ends\n",
    "\n",
    "                                  # Print the results\n",
    "                                  # -----------------\n",
    "\n",
    "println(\"Objective value: \", getObjectiveValue(cutstockMain))\n",
    "println(\"Current Solution is: \", getValue(x))\n",
    "println(\"With \", length(xNewArray), \" variables added by flow control:\")\n",
    "\n",
    "for i in 1:length(xNewArray)\n",
    "    println(\"[\",size(A,2)+i,\"] = \",getValue(xNewArray[i]))\n",
    "end\n",
    "println(\"Reduced cost of the current solution is \", getObjectiveValue(cutstockSub))"
   ]
  },
  {
   "cell_type": "code",
   "execution_count": null,
   "metadata": {
    "collapsed": true
   },
   "outputs": [],
   "source": []
  }
 ],
 "metadata": {
  "kernelspec": {
   "display_name": "Julia 0.6.0",
   "language": "julia",
   "name": "julia-0.6"
  },
  "language_info": {
   "file_extension": ".jl",
   "mimetype": "application/julia",
   "name": "julia",
   "version": "0.6.0"
  },
  "toc": {
   "colors": {
    "hover_highlight": "#DAA520",
    "running_highlight": "#FF0000",
    "selected_highlight": "#FFD700"
   },
   "moveMenuLeft": true,
   "nav_menu": {
    "height": "12px",
    "width": "252px"
   },
   "navigate_menu": true,
   "number_sections": true,
   "sideBar": true,
   "threshold": 4,
   "toc_cell": false,
   "toc_section_display": "block",
   "toc_window_display": false,
   "widenNotebook": false
  }
 },
 "nbformat": 4,
 "nbformat_minor": 2
}
