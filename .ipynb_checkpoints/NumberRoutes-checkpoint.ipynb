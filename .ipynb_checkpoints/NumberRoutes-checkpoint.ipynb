{
 "cells": [
  {
   "cell_type": "code",
   "execution_count": 21,
   "metadata": {
    "collapsed": true,
    "slideshow": {
     "slide_type": "slide"
    }
   },
   "outputs": [],
   "source": [
    "import pandas as pd\n",
    "import scipy.stats\n",
    "import numpy as np"
   ]
  },
  {
   "cell_type": "code",
   "execution_count": 97,
   "metadata": {
    "slideshow": {
     "slide_type": "skip"
    }
   },
   "outputs": [
    {
     "name": "stdout",
     "output_type": "stream",
     "text": [
      "[('1',), ('2',), ('3',)]\n",
      "[('1', '2'), ('1', '3'), ('2', '1'), ('2', '3'), ('3', '1'), ('3', '2')]\n",
      "[('1', '2', '3'), ('1', '3', '2'), ('2', '1', '3'), ('2', '3', '1'), ('3', '1', '2'), ('3', '2', '1')]\n"
     ]
    },
    {
     "data": {
      "text/plain": [
       "15"
      ]
     },
     "execution_count": 97,
     "metadata": {},
     "output_type": "execute_result"
    }
   ],
   "source": [
    "from itertools import combinations,permutations\n",
    "a=[]\n",
    "b=0\n",
    "lis=list('123')\n",
    "\n",
    "for i in xrange(1, len(lis) + 1):  #  xrange will return the values 1,2,3,4 in this loop\n",
    "    print list(permutations(lis, i))\n",
    "    b=b+(len(list(permutations(lis, i))))\n",
    "    \n",
    "    lol = []\n",
    "    for d in list(permutations(lis, i)):\n",
    "        for c in (d):\n",
    "            lol.append(c)\n",
    "    a.append(list(permutations(lis, i)))\n",
    "b"
   ]
  },
  {
   "cell_type": "code",
   "execution_count": 96,
   "metadata": {},
   "outputs": [
    {
     "data": {
      "text/plain": [
       "16"
      ]
     },
     "execution_count": 96,
     "metadata": {},
     "output_type": "execute_result"
    }
   ],
   "source": [
    "import math\n",
    "\n",
    "def get_routes(routes):\n",
    "    res = 0\n",
    "    k = int(routes)\n",
    "    for n in range(1,routes+1):\n",
    "        res=res + math.factorial(k)/math.factorial(k-n)\n",
    "    res=res+1\n",
    "    return res\n",
    "get_routes(3)"
   ]
  },
  {
   "cell_type": "code",
   "execution_count": 41,
   "metadata": {
    "collapsed": true
   },
   "outputs": [],
   "source": [
    "## cnt = 0\n",
    "liste = []\n",
    "for c in a:\n",
    "    for d in c:\n",
    "        cnt = cnt + 1\n",
    "        liste.append((list(('0',)+d)))"
   ]
  },
  {
   "cell_type": "code",
   "execution_count": 24,
   "metadata": {
    "collapsed": true
   },
   "outputs": [],
   "source": [
    "cnt = 0\n",
    "liste = []\n",
    "for c in a:\n",
    "    for d in c:\n",
    "        cnt = cnt +1\n",
    "        liste.append(list(d))"
   ]
  },
  {
   "cell_type": "code",
   "execution_count": 25,
   "metadata": {},
   "outputs": [
    {
     "data": {
      "text/plain": [
       "13699"
      ]
     },
     "execution_count": 25,
     "metadata": {},
     "output_type": "execute_result"
    }
   ],
   "source": [
    "len(liste)"
   ]
  },
  {
   "cell_type": "code",
   "execution_count": 149,
   "metadata": {
    "collapsed": true
   },
   "outputs": [],
   "source": [
    "T_ij = np.array([[   0.,   59.,   80.,   88.,   75.,   86.,   75.,   87.,    0.],\n",
    "       [  59.,    0.,   96.,  134.,   65.,   82.,  112.,   66.,   59.],\n",
    "       [  80.,   96.,    0.,   70.,   52.,   24.,  133.,  136.,   80.],\n",
    "       [  88.,  134.,   70.,    0.,  100.,   76.,  129.,  168.,   88.],\n",
    "       [  75.,   65.,   52.,  100.,    0.,   39.,  124.,  107.,   75.],\n",
    "       [  86.,   82.,   24.,   76.,   39.,    0.,  135.,  123.,   86.],\n",
    "       [  75.,  112.,  133.,  129.,  124.,  135.,    0.,  118.,   75.],\n",
    "       [  87.,   66.,  136.,  168.,  107.,  123.,  118.,    0.,   87.],\n",
    "       [   0.,   59.,   80.,   88.,   75.,   86.,   75.,   87.,    0.]])    "
   ]
  },
  {
   "cell_type": "code",
   "execution_count": 178,
   "metadata": {},
   "outputs": [
    {
     "data": {
      "text/plain": [
       "array([['1'], ['2'], ['3'], ['4'], ['5'], ['6'], ['7'], ['1', '2'],\n",
       "       ['1', '3'], ['1', '4'], ['1', '5'], ['1', '6'], ['1', '7'],\n",
       "       ['2', '1'], ['2', '3'], ['2', '4'], ['2', '5'], ['2', '6'],\n",
       "       ['2', '7'], ['3', '1'], ['3', '2'], ['3', '4'], ['3', '5'],\n",
       "       ['3', '6'], ['3', '7'], ['4', '1'], ['4', '2'], ['4', '3'],\n",
       "       ['4', '5'], ['4', '6'], ['4', '7'], ['5', '1'], ['5', '2'],\n",
       "       ['5', '3'], ['5', '4'], ['5', '6'], ['5', '7'], ['6', '1'],\n",
       "       ['6', '2'], ['6', '3'], ['6', '4'], ['6', '5'], ['6', '7'],\n",
       "       ['7', '1'], ['7', '2'], ['7', '3'], ['7', '4'], ['7', '5'],\n",
       "       ['7', '6'], ['1', '2', '3'], ['1', '2', '4'], ['1', '2', '5'],\n",
       "       ['1', '4', '2'], ['1', '4', '3'], ['1', '4', '5'], ['1', '4', '6'],\n",
       "       ['1', '4', '7'], ['1', '5', '2'], ['1', '5', '3'], ['1', '5', '4'],\n",
       "       ['1', '7', '2'], ['1', '7', '4'], ['1', '7', '5'], ['1', '7', '6'],\n",
       "       ['2', '1', '4'], ['2', '1', '5'], ['2', '1', '7'], ['2', '3', '4'],\n",
       "       ['2', '3', '5'], ['2', '3', '6'], ['2', '4', '1'], ['2', '4', '3'],\n",
       "       ['2', '4', '5'], ['2', '4', '6'], ['2', '4', '7'], ['2', '5', '1'],\n",
       "       ['2', '5', '3'], ['2', '5', '4'], ['2', '5', '6'], ['2', '5', '7'],\n",
       "       ['2', '7', '1'], ['3', '1', '4'], ['3', '1', '7'], ['3', '2', '1'],\n",
       "       ['3', '2', '4'], ['3', '2', '5'], ['3', '2', '6'], ['3', '4', '1'],\n",
       "       ['3', '4', '2'], ['3', '4', '5'], ['3', '5', '1'], ['3', '5', '2'],\n",
       "       ['3', '5', '4'], ['3', '5', '7'], ['4', '1', '2'], ['4', '1', '3'],\n",
       "       ['4', '1', '5'], ['4', '1', '6'], ['4', '1', '7'], ['4', '2', '1'],\n",
       "       ['4', '2', '3'], ['4', '2', '5'], ['4', '2', '6'], ['4', '2', '7'],\n",
       "       ['4', '3', '2'], ['4', '3', '5'], ['4', '5', '1'], ['4', '5', '2'],\n",
       "       ['4', '5', '3'], ['4', '5', '6'], ['4', '5', '7'], ['4', '7', '1'],\n",
       "       ['5', '1', '2'], ['5', '1', '4'], ['5', '1', '6'], ['5', '1', '7'],\n",
       "       ['5', '2', '1'], ['5', '2', '3'], ['5', '2', '4'], ['5', '2', '6'],\n",
       "       ['5', '2', '7'], ['5', '3', '2'], ['5', '3', '4'], ['5', '4', '1'],\n",
       "       ['5', '4', '2'], ['5', '4', '3'], ['5', '4', '6'], ['5', '4', '7'],\n",
       "       ['5', '7', '1'], ['6', '1', '4'], ['6', '1', '5'], ['6', '1', '7'],\n",
       "       ['6', '2', '3'], ['6', '2', '4'], ['6', '2', '5'], ['6', '3', '2'],\n",
       "       ['6', '4', '1'], ['6', '4', '2'], ['6', '4', '5'], ['6', '5', '2'],\n",
       "       ['6', '5', '4'], ['6', '7', '1'], ['7', '1', '2'], ['7', '1', '3'],\n",
       "       ['7', '1', '4'], ['7', '1', '5'], ['7', '1', '6'], ['7', '2', '4'],\n",
       "       ['7', '2', '5'], ['7', '4', '1'], ['7', '4', '2'], ['7', '4', '5'],\n",
       "       ['7', '5', '2'], ['7', '5', '3'], ['7', '5', '4'],\n",
       "       ['1', '2', '4', '5'], ['1', '2', '5', '3'], ['1', '2', '5', '4'],\n",
       "       ['1', '4', '2', '3'], ['1', '4', '2', '5'], ['1', '4', '5', '2'],\n",
       "       ['1', '4', '5', '3'], ['1', '5', '2', '3'], ['1', '5', '2', '4'],\n",
       "       ['1', '5', '4', '2'], ['2', '1', '4', '5'], ['2', '3', '5', '4'],\n",
       "       ['2', '4', '1', '5'], ['2', '4', '1', '7'], ['2', '4', '5', '1'],\n",
       "       ['2', '4', '5', '3'], ['2', '5', '1', '4'], ['2', '5', '1', '7'],\n",
       "       ['2', '5', '3', '4'], ['2', '5', '4', '1'], ['2', '5', '4', '3'],\n",
       "       ['2', '5', '4', '6'], ['2', '5', '4', '7'], ['3', '2', '4', '1'],\n",
       "       ['3', '2', '4', '5'], ['3', '2', '5', '1'], ['3', '2', '5', '4'],\n",
       "       ['3', '4', '2', '5'], ['3', '4', '5', '2'], ['3', '5', '2', '1'],\n",
       "       ['3', '5', '2', '4'], ['3', '5', '4', '1'], ['3', '5', '4', '2'],\n",
       "       ['4', '1', '2', '5'], ['4', '1', '5', '2'], ['4', '2', '3', '5'],\n",
       "       ['4', '2', '5', '1'], ['4', '2', '5', '3'], ['4', '2', '5', '7'],\n",
       "       ['4', '3', '2', '5'], ['4', '3', '5', '2'], ['4', '5', '1', '7'],\n",
       "       ['4', '5', '2', '1'], ['4', '5', '2', '3'], ['4', '5', '2', '6'],\n",
       "       ['4', '5', '2', '7'], ['4', '5', '3', '2'], ['5', '1', '4', '2'],\n",
       "       ['5', '2', '1', '4'], ['5', '2', '1', '7'], ['5', '2', '3', '4'],\n",
       "       ['5', '2', '4', '1'], ['5', '2', '4', '3'], ['5', '2', '4', '6'],\n",
       "       ['5', '2', '4', '7'], ['5', '3', '2', '4'], ['5', '4', '1', '2'],\n",
       "       ['5', '4', '1', '7'], ['5', '4', '2', '1'], ['5', '4', '2', '3'],\n",
       "       ['6', '2', '5', '4'], ['6', '4', '2', '5'], ['6', '4', '5', '2'],\n",
       "       ['7', '1', '2', '5'], ['7', '1', '4', '2'], ['7', '1', '4', '5'],\n",
       "       ['7', '1', '5', '2'], ['7', '1', '5', '4'], ['7', '2', '5', '4'],\n",
       "       ['7', '4', '2', '5'], ['7', '4', '5', '2'], ['7', '5', '2', '4'],\n",
       "       ['1', '4', '5', '2', '3'], ['2', '5', '4', '1', '7'],\n",
       "       ['3', '2', '5', '4', '1'], ['7', '1', '4', '5', '2']], dtype=object)"
      ]
     },
     "execution_count": 178,
     "metadata": {},
     "output_type": "execute_result"
    }
   ],
   "source": [
    "sum_list = []\n",
    "for listele in liste:\n",
    "    summe = 0\n",
    "    for cnt,d in enumerate(listele):\n",
    "        if cnt > 0:\n",
    "            summe = summe + T_ij[int(old_val)][int(d)]\n",
    "\n",
    "        old_val = d[:]\n",
    "    sum_list.append(summe)\n",
    "sum_arr = np.array(sum_list[:])\n",
    "perms = np.array(liste)\n",
    "perms[sum_arr<204]\n"
   ]
  },
  {
   "cell_type": "code",
   "execution_count": 52,
   "metadata": {},
   "outputs": [],
   "source": [
    "import math\n",
    "\n",
    "def get_routes(routes):\n",
    "    res = 0\n",
    "    k = int(routes)\n",
    "    for n in range(0,routes):\n",
    "        res=res + math.factorial(k)/math.factorial(k-n)\n",
    "    res=res+1\n",
    "    return res\n"
   ]
  },
  {
   "cell_type": "code",
   "execution_count": 54,
   "metadata": {},
   "outputs": [
    {
     "data": {
      "text/plain": [
       "11"
      ]
     },
     "execution_count": 54,
     "metadata": {},
     "output_type": "execute_result"
    }
   ],
   "source": [
    "get_routes(3)"
   ]
  },
  {
   "cell_type": "code",
   "execution_count": 173,
   "metadata": {},
   "outputs": [
    {
     "data": {
      "text/plain": [
       "231"
      ]
     },
     "execution_count": 173,
     "metadata": {},
     "output_type": "execute_result"
    }
   ],
   "source": [
    "sum_arr = np.array(sum_list[:])\n",
    "len(sum_arr[sum_arr<204])"
   ]
  },
  {
   "cell_type": "code",
   "execution_count": 177,
   "metadata": {},
   "outputs": [
    {
     "data": {
      "text/plain": [
       "array([['1'], ['2'], ['3'], ['4'], ['5'], ['6'], ['7'], ['1', '2'],\n",
       "       ['1', '3'], ['1', '4'], ['1', '5'], ['1', '6'], ['1', '7'],\n",
       "       ['2', '1'], ['2', '3'], ['2', '4'], ['2', '5'], ['2', '6'],\n",
       "       ['2', '7'], ['3', '1'], ['3', '2'], ['3', '4'], ['3', '5'],\n",
       "       ['3', '6'], ['3', '7'], ['4', '1'], ['4', '2'], ['4', '3'],\n",
       "       ['4', '5'], ['4', '6'], ['4', '7'], ['5', '1'], ['5', '2'],\n",
       "       ['5', '3'], ['5', '4'], ['5', '6'], ['5', '7'], ['6', '1'],\n",
       "       ['6', '2'], ['6', '3'], ['6', '4'], ['6', '5'], ['6', '7'],\n",
       "       ['7', '1'], ['7', '2'], ['7', '3'], ['7', '4'], ['7', '5'],\n",
       "       ['7', '6'], ['1', '2', '3'], ['1', '2', '4'], ['1', '2', '5'],\n",
       "       ['1', '4', '2'], ['1', '4', '3'], ['1', '4', '5'], ['1', '4', '6'],\n",
       "       ['1', '4', '7'], ['1', '5', '2'], ['1', '5', '3'], ['1', '5', '4'],\n",
       "       ['1', '7', '2'], ['1', '7', '4'], ['1', '7', '5'], ['1', '7', '6'],\n",
       "       ['2', '1', '4'], ['2', '1', '5'], ['2', '1', '7'], ['2', '3', '4'],\n",
       "       ['2', '3', '5'], ['2', '3', '6'], ['2', '4', '1'], ['2', '4', '3'],\n",
       "       ['2', '4', '5'], ['2', '4', '6'], ['2', '4', '7'], ['2', '5', '1'],\n",
       "       ['2', '5', '3'], ['2', '5', '4'], ['2', '5', '6'], ['2', '5', '7'],\n",
       "       ['2', '7', '1'], ['3', '1', '4'], ['3', '1', '7'], ['3', '2', '1'],\n",
       "       ['3', '2', '4'], ['3', '2', '5'], ['3', '2', '6'], ['3', '4', '1'],\n",
       "       ['3', '4', '2'], ['3', '4', '5'], ['3', '5', '1'], ['3', '5', '2'],\n",
       "       ['3', '5', '4'], ['3', '5', '7'], ['4', '1', '2'], ['4', '1', '3'],\n",
       "       ['4', '1', '5'], ['4', '1', '6'], ['4', '1', '7'], ['4', '2', '1'],\n",
       "       ['4', '2', '3'], ['4', '2', '5'], ['4', '2', '6'], ['4', '2', '7'],\n",
       "       ['4', '3', '2'], ['4', '3', '5'], ['4', '5', '1'], ['4', '5', '2'],\n",
       "       ['4', '5', '3'], ['4', '5', '6'], ['4', '5', '7'], ['4', '7', '1'],\n",
       "       ['5', '1', '2'], ['5', '1', '4'], ['5', '1', '6'], ['5', '1', '7'],\n",
       "       ['5', '2', '1'], ['5', '2', '3'], ['5', '2', '4'], ['5', '2', '6'],\n",
       "       ['5', '2', '7'], ['5', '3', '2'], ['5', '3', '4'], ['5', '4', '1'],\n",
       "       ['5', '4', '2'], ['5', '4', '3'], ['5', '4', '6'], ['5', '4', '7'],\n",
       "       ['5', '7', '1'], ['6', '1', '4'], ['6', '1', '5'], ['6', '1', '7'],\n",
       "       ['6', '2', '3'], ['6', '2', '4'], ['6', '2', '5'], ['6', '3', '2'],\n",
       "       ['6', '4', '1'], ['6', '4', '2'], ['6', '4', '5'], ['6', '5', '2'],\n",
       "       ['6', '5', '4'], ['6', '7', '1'], ['7', '1', '2'], ['7', '1', '3'],\n",
       "       ['7', '1', '4'], ['7', '1', '5'], ['7', '1', '6'], ['7', '2', '4'],\n",
       "       ['7', '2', '5'], ['7', '4', '1'], ['7', '4', '2'], ['7', '4', '5'],\n",
       "       ['7', '5', '2'], ['7', '5', '3'], ['7', '5', '4'],\n",
       "       ['1', '2', '4', '5'], ['1', '2', '5', '3'], ['1', '2', '5', '4'],\n",
       "       ['1', '4', '2', '3'], ['1', '4', '2', '5'], ['1', '4', '5', '2'],\n",
       "       ['1', '4', '5', '3'], ['1', '5', '2', '3'], ['1', '5', '2', '4'],\n",
       "       ['1', '5', '4', '2'], ['2', '1', '4', '5'], ['2', '3', '5', '4'],\n",
       "       ['2', '4', '1', '5'], ['2', '4', '1', '7'], ['2', '4', '5', '1'],\n",
       "       ['2', '4', '5', '3'], ['2', '5', '1', '4'], ['2', '5', '1', '7'],\n",
       "       ['2', '5', '3', '4'], ['2', '5', '4', '1'], ['2', '5', '4', '3'],\n",
       "       ['2', '5', '4', '6'], ['2', '5', '4', '7'], ['3', '2', '4', '1'],\n",
       "       ['3', '2', '4', '5'], ['3', '2', '5', '1'], ['3', '2', '5', '4'],\n",
       "       ['3', '4', '2', '5'], ['3', '4', '5', '2'], ['3', '5', '2', '1'],\n",
       "       ['3', '5', '2', '4'], ['3', '5', '4', '1'], ['3', '5', '4', '2'],\n",
       "       ['4', '1', '2', '5'], ['4', '1', '5', '2'], ['4', '2', '3', '5'],\n",
       "       ['4', '2', '5', '1'], ['4', '2', '5', '3'], ['4', '2', '5', '7'],\n",
       "       ['4', '3', '2', '5'], ['4', '3', '5', '2'], ['4', '5', '1', '7'],\n",
       "       ['4', '5', '2', '1'], ['4', '5', '2', '3'], ['4', '5', '2', '6'],\n",
       "       ['4', '5', '2', '7'], ['4', '5', '3', '2'], ['5', '1', '4', '2'],\n",
       "       ['5', '2', '1', '4'], ['5', '2', '1', '7'], ['5', '2', '3', '4'],\n",
       "       ['5', '2', '4', '1'], ['5', '2', '4', '3'], ['5', '2', '4', '6'],\n",
       "       ['5', '2', '4', '7'], ['5', '3', '2', '4'], ['5', '4', '1', '2'],\n",
       "       ['5', '4', '1', '7'], ['5', '4', '2', '1'], ['5', '4', '2', '3'],\n",
       "       ['6', '2', '5', '4'], ['6', '4', '2', '5'], ['6', '4', '5', '2'],\n",
       "       ['7', '1', '2', '5'], ['7', '1', '4', '2'], ['7', '1', '4', '5'],\n",
       "       ['7', '1', '5', '2'], ['7', '1', '5', '4'], ['7', '2', '5', '4'],\n",
       "       ['7', '4', '2', '5'], ['7', '4', '5', '2'], ['7', '5', '2', '4'],\n",
       "       ['1', '4', '5', '2', '3'], ['2', '5', '4', '1', '7'],\n",
       "       ['3', '2', '5', '4', '1'], ['7', '1', '4', '5', '2']], dtype=object)"
      ]
     },
     "execution_count": 177,
     "metadata": {},
     "output_type": "execute_result"
    }
   ],
   "source": [
    "ad = np.array(liste)\n",
    "ad[sum_arr<204]"
   ]
  },
  {
   "cell_type": "markdown",
   "metadata": {},
   "source": [
    " $$ x_{ij} \\in \\mathbb{R}^{*} \\Leftrightarrow  \\sum_{i,j} {x_{ij} * distance_{ij} } \\leq upperlimit-lowerlimit \\approx 204 $$"
   ]
  },
  {
   "cell_type": "markdown",
   "metadata": {},
   "source": [
    "$$\n",
    " \\begin{array}{cc}\n",
    "\\begin{pmatrix}\n",
    "bin_{11} & bin_{12} & bin_{1i} \\\\\n",
    "bin_{21} & bin_{22} &  bin_{2i} \\\\\n",
    "bin_{31} & bin_{32} &  bin_{ri}\n",
    "\\end{pmatrix}\n",
    "\\end{array} \n",
    "%\n",
    "\\begin{array}{cc}\n",
    "\\begin{pmatrix}\n",
    "d_{11} & d_{12} & d_{ij} \\\\\n",
    "d_{21} & d_{22} & d_{2j} \\\\\n",
    "d_{1j} & d_{2j} & d_{ij}\n",
    "\\end{pmatrix}\n",
    "\\end{array} \n",
    "$$  \n",
    " "
   ]
  },
  {
   "cell_type": "markdown",
   "metadata": {
    "slideshow": {
     "slide_type": "fragment"
    }
   },
   "source": [
    "$$\\sum_k^n k* \\binom{n}{k} + 1$$ "
   ]
  },
  {
   "cell_type": "code",
   "execution_count": 76,
   "metadata": {
    "collapsed": true
   },
   "outputs": [],
   "source": [
    "import math\n",
    "\n",
    "def get_routes(routes):\n",
    "    res = 0\n",
    "    for a in range(1,routes):\n",
    "        res=res + math.factorial(a)\n",
    "    res=res+1\n",
    "    return res"
   ]
  },
  {
   "cell_type": "code",
   "execution_count": 78,
   "metadata": {},
   "outputs": [
    {
     "data": {
      "text/plain": [
       "10"
      ]
     },
     "execution_count": 78,
     "metadata": {},
     "output_type": "execute_result"
    }
   ],
   "source": [
    "get_routes(3)"
   ]
  },
  {
   "cell_type": "code",
   "execution_count": 79,
   "metadata": {
    "collapsed": true,
    "slideshow": {
     "slide_type": "subslide"
    }
   },
   "outputs": [],
   "source": [
    "import scipy.special\n",
    "\n",
    "def get_routes(routes):\n",
    "    res = 0\n",
    "    for a in range(routes):\n",
    "        res=res + scipy.special.binom(routes, a)\n",
    "    res=res+1\n",
    "    return res"
   ]
  },
  {
   "cell_type": "code",
   "execution_count": 81,
   "metadata": {},
   "outputs": [
    {
     "data": {
      "text/plain": [
       "16.0"
      ]
     },
     "execution_count": 81,
     "metadata": {},
     "output_type": "execute_result"
    }
   ],
   "source": [
    "get_routes(4)"
   ]
  },
  {
   "cell_type": "code",
   "execution_count": 18,
   "metadata": {},
   "outputs": [
    {
     "data": {
      "text/plain": [
       "5912"
      ]
     },
     "execution_count": 18,
     "metadata": {},
     "output_type": "execute_result"
    }
   ],
   "source": [
    "import math\n",
    "\n",
    "math.factorial (7)+math.factorial (6)+math.factorial (5)+math.factorial (4)+math.factorial (3)+math.factorial (2)"
   ]
  },
  {
   "cell_type": "code",
   "execution_count": 20,
   "metadata": {
    "scrolled": true
   },
   "outputs": [
    {
     "data": {
      "text/plain": [
       "128.0"
      ]
     },
     "execution_count": 20,
     "metadata": {},
     "output_type": "execute_result"
    }
   ],
   "source": [
    "get_routes((7))"
   ]
  },
  {
   "cell_type": "code",
   "execution_count": 103,
   "metadata": {},
   "outputs": [
    {
     "data": {
      "text/plain": [
       "100"
      ]
     },
     "execution_count": 103,
     "metadata": {},
     "output_type": "execute_result"
    }
   ],
   "source": [
    "10*10"
   ]
  },
  {
   "cell_type": "code",
   "execution_count": 112,
   "metadata": {
    "slideshow": {
     "slide_type": "slide"
    }
   },
   "outputs": [
    {
     "data": {
      "image/png": "[encoded data removed]",
      "text/plain": [
       "<matplotlib.figure.Figure at 0x1123f3110>"
      ]
     },
     "metadata": {},
     "output_type": "display_data"
    }
   ],
   "source": [
    "import matplotlib.pyplot as plt\n",
    "import numpy as np\n",
    "\n",
    "vals= []\n",
    "vals2= []\n",
    "for a in range(6):\n",
    "    vals.append(get_routes(a))\n",
    "    vals2.append(a*(a-1))\n",
    "plt.plot((np.array(vals)))\n",
    "plt.plot((np.array(vals2)))\n",
    "plt.xlabel(\"Anzahl der Knoten\")\n",
    "plt.ylabel(\"Moeglichkeiten\")\n",
    "plt.show()"
   ]
  },
  {
   "cell_type": "code",
   "execution_count": 126,
   "metadata": {},
   "outputs": [],
   "source": [
    "lines = pd.DataFrame(vals)\n",
    "lines[''] =vals2\n",
    "lines.columns = ['Pfade','Wege']\n",
    "\n",
    "lines.plot()\n",
    "plt.xlabel(\"Anzahl der Knoten\")\n",
    "plt.ylabel(\"Moeglichkeiten\")\n",
    "plt.show()"
   ]
  },
  {
   "cell_type": "code",
   "execution_count": 132,
   "metadata": {},
   "outputs": [
    {
     "data": {
      "image/png": "[encoded data removed]",
      "text/plain": [
       "<matplotlib.figure.Figure at 0x112301c50>"
      ]
     },
     "metadata": {},
     "output_type": "display_data"
    },
    {
     "data": {
      "image/png": "[encoded data removed]",
      "text/plain": [
       "<matplotlib.figure.Figure at 0x112e25d90>"
      ]
     },
     "metadata": {},
     "output_type": "display_data"
    }
   ],
   "source": [
    "lines.plot()\n",
    "plt.show()"
   ]
  },
  {
   "cell_type": "code",
   "execution_count": 1,
   "metadata": {},
   "outputs": [
    {
     "ename": "KeyboardInterrupt",
     "evalue": "",
     "output_type": "error",
     "traceback": [
      "\u001b[0;31m---------------------------------------------------------------------------\u001b[0m",
      "\u001b[0;31mKeyboardInterrupt\u001b[0m                         Traceback (most recent call last)",
      "\u001b[0;32m<ipython-input-1-7cfcd2fe3674>\u001b[0m in \u001b[0;36m<module>\u001b[0;34m()\u001b[0m\n\u001b[1;32m      6\u001b[0m         \u001b[0mfp\u001b[0m\u001b[0;34m.\u001b[0m\u001b[0mwrite\u001b[0m\u001b[0;34m(\u001b[0m\u001b[0;34m','\u001b[0m\u001b[0;34m.\u001b[0m\u001b[0mjoin\u001b[0m\u001b[0;34m(\u001b[0m\u001b[0;34m[\u001b[0m\u001b[0;34m'0'\u001b[0m\u001b[0;34m,\u001b[0m\u001b[0;34m'1'\u001b[0m\u001b[0;34m]\u001b[0m\u001b[0;34m)\u001b[0m\u001b[0;34m)\u001b[0m\u001b[0;34m\u001b[0m\u001b[0m\n\u001b[1;32m      7\u001b[0m         \u001b[0mfp\u001b[0m\u001b[0;34m.\u001b[0m\u001b[0mwrite\u001b[0m\u001b[0;34m(\u001b[0m\u001b[0;34m'\\n'\u001b[0m\u001b[0;34m)\u001b[0m\u001b[0;34m\u001b[0m\u001b[0m\n\u001b[0;32m----> 8\u001b[0;31m     \u001b[0msleep\u001b[0m\u001b[0;34m(\u001b[0m\u001b[0;36m0.010\u001b[0m\u001b[0;34m)\u001b[0m\u001b[0;34m\u001b[0m\u001b[0m\n\u001b[0m",
      "\u001b[0;31mKeyboardInterrupt\u001b[0m: "
     ]
    }
   ],
   "source": [
    "from time import sleep\n",
    "import random\n",
    "\n",
    "while(True):\n",
    "    plt.plt)\n",
    "    sleep(0.010)\n"
   ]
  },
  {
   "cell_type": "code",
   "execution_count": 20,
   "metadata": {
    "collapsed": true
   },
   "outputs": [],
   "source": [
    "import numpy as np\n",
    "from bokeh.plotting import figure, curdoc\n",
    "from bokeh.models.sources import ColumnDataSource\n",
    "from bokeh.client import push_session\n",
    "from bokeh.driving import linear\n",
    " \n",
    "antialias = 10\n",
    "N = 10\n",
    "x = np.linspace(0, N, N*antialias)\n",
    "y1 = np.sin(x)\n",
    "y2 = np.cos(x)\n",
    " \n",
    "myfigure = figure(plot_width=800, plot_height=400)\n",
    "datacoords = ColumnDataSource(data=dict(x=x, y1=y1, y2=y2))\n",
    "linea = myfigure.line(\"x\", \"y1\", source=datacoords)\n",
    "lineb = myfigure.line(\"x\", \"y2\", source=datacoords)\n",
    " \n",
    "@linear(m=0.05, b=0) #step will increment by 0.05 every time\n",
    "def update(step):\n",
    "    new_x = np.linspace(step, N+step, N*antialias)\n",
    "    new_y1 = np.sin(new_x)\n",
    "    new_y2 = np.cos(new_x)\n",
    " \n",
    "    linea.data_source.data[\"x\"] = new_x\n",
    "    linea.data_source.data[\"y1\"] = new_y1\n",
    "    lineb.data_source.data[\"y2\"] = new_y2\n",
    "    \n",
    "session = push_session(curdoc())\n",
    "curdoc().add_periodic_callback(update, 10) #period in ms\n",
    "session.show()\n",
    "session.loop_until_closed()"
   ]
  },
  {
   "cell_type": "code",
   "execution_count": 27,
   "metadata": {
    "collapsed": true
   },
   "outputs": [],
   "source": [
    "import dash\n",
    "from dash.dependencies import Input, Output\n",
    "import dash_core_components as dcc\n",
    "import dash_html_components as html\n",
    "\n",
    "from datetime import datetime as dt\n",
    "\n",
    "app = dash.Dash('Hello World')\n",
    "\n",
    "\n",
    "if __name__ == '__main__':\n",
    "    app.run_server()\n"
   ]
  },
  {
   "cell_type": "code",
   "execution_count": 25,
   "metadata": {},
   "outputs": [
    {
     "ename": "ImportError",
     "evalue": "No module named dash_renderer",
     "output_type": "error",
     "traceback": [
      "\u001b[0;31m---------------------------------------------------------------------------\u001b[0m",
      "\u001b[0;31mImportError\u001b[0m                               Traceback (most recent call last)",
      "\u001b[0;32m<ipython-input-25-784ee840efd8>\u001b[0m in \u001b[0;36m<module>\u001b[0;34m()\u001b[0m\n\u001b[0;32m----> 1\u001b[0;31m \u001b[0;32mimport\u001b[0m \u001b[0mdash\u001b[0m\u001b[0;34m\u001b[0m\u001b[0m\n\u001b[0m",
      "\u001b[0;32m/Users/matthiaszech/anaconda/lib/python2.7/site-packages/dash/__init__.py\u001b[0m in \u001b[0;36m<module>\u001b[0;34m()\u001b[0m\n\u001b[0;32m----> 1\u001b[0;31m \u001b[0;32mfrom\u001b[0m \u001b[0;34m.\u001b[0m\u001b[0mdash\u001b[0m \u001b[0;32mimport\u001b[0m \u001b[0mDash\u001b[0m  \u001b[0;31m# noqa: F401\u001b[0m\u001b[0;34m\u001b[0m\u001b[0m\n\u001b[0m\u001b[1;32m      2\u001b[0m \u001b[0;32mfrom\u001b[0m \u001b[0;34m.\u001b[0m \u001b[0;32mimport\u001b[0m \u001b[0mdevelopment\u001b[0m  \u001b[0;31m# noqa: F401\u001b[0m\u001b[0;34m\u001b[0m\u001b[0m\n\u001b[1;32m      3\u001b[0m \u001b[0;32mfrom\u001b[0m \u001b[0;34m.\u001b[0m\u001b[0mversion\u001b[0m \u001b[0;32mimport\u001b[0m \u001b[0m__version__\u001b[0m  \u001b[0;31m# noqa: F401\u001b[0m\u001b[0;34m\u001b[0m\u001b[0m\n",
      "\u001b[0;32m/Users/matthiaszech/anaconda/lib/python2.7/site-packages/dash/dash.py\u001b[0m in \u001b[0;36m<module>\u001b[0;34m()\u001b[0m\n\u001b[1;32m     11\u001b[0m \u001b[0;32mimport\u001b[0m \u001b[0mre\u001b[0m\u001b[0;34m\u001b[0m\u001b[0m\n\u001b[1;32m     12\u001b[0m \u001b[0;34m\u001b[0m\u001b[0m\n\u001b[0;32m---> 13\u001b[0;31m \u001b[0;32mimport\u001b[0m \u001b[0mdash_renderer\u001b[0m\u001b[0;34m\u001b[0m\u001b[0m\n\u001b[0m\u001b[1;32m     14\u001b[0m \u001b[0;34m\u001b[0m\u001b[0m\n\u001b[1;32m     15\u001b[0m \u001b[0;32mfrom\u001b[0m \u001b[0;34m.\u001b[0m\u001b[0mdependencies\u001b[0m \u001b[0;32mimport\u001b[0m \u001b[0mEvent\u001b[0m\u001b[0;34m,\u001b[0m \u001b[0mInput\u001b[0m\u001b[0;34m,\u001b[0m \u001b[0mOutput\u001b[0m\u001b[0;34m,\u001b[0m \u001b[0mState\u001b[0m\u001b[0;34m\u001b[0m\u001b[0m\n",
      "\u001b[0;31mImportError\u001b[0m: No module named dash_renderer"
     ]
    }
   ],
   "source": [
    "import dash"
   ]
  },
  {
   "cell_type": "code",
   "execution_count": 29,
   "metadata": {},
   "outputs": [
    {
     "data": {
      "text/plain": [
       "(array([ 2.        ,  0.14142136]), array([ 0, 13]))"
      ]
     },
     "execution_count": 29,
     "metadata": {},
     "output_type": "execute_result"
    }
   ],
   "source": [
    "from scipy import spatial\n",
    "\n",
    "\n",
    "x, y = np.mgrid[0:5, 2:8]\n",
    "tree = spatial.KDTree(zip(x.ravel(), y.ravel()))\n",
    "pts = np.array([[0, 0], [2.1, 2.9]])\n",
    "tree.query(pts)"
   ]
  },
  {
   "cell_type": "code",
   "execution_count": null,
   "metadata": {
    "collapsed": true
   },
   "outputs": [],
   "source": []
  }
 ],
 "metadata": {
  "celltoolbar": "Slideshow",
  "kernelspec": {
   "display_name": "Python 2",
   "language": "python",
   "name": "python2"
  },
  "language_info": {
   "codemirror_mode": {
    "name": "ipython",
    "version": 2
   },
   "file_extension": ".py",
   "mimetype": "text/x-python",
   "name": "python",
   "nbconvert_exporter": "python",
   "pygments_lexer": "ipython2",
   "version": "2.7.13"
  },
  "toc": {
   "colors": {
    "hover_highlight": "#DAA520",
    "running_highlight": "#FF0000",
    "selected_highlight": "#FFD700"
   },
   "moveMenuLeft": true,
   "nav_menu": {
    "height": "12px",
    "width": "252px"
   },
   "navigate_menu": true,
   "number_sections": true,
   "sideBar": true,
   "threshold": 4,
   "toc_cell": false,
   "toc_section_display": "block",
   "toc_window_display": false,
   "widenNotebook": false
  }
 },
 "nbformat": 4,
 "nbformat_minor": 2
}
