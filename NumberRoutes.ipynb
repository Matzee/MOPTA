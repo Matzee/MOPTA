{
 "cells": [
  {
   "cell_type": "code",
   "execution_count": 21,
   "metadata": {
    "collapsed": true,
    "slideshow": {
     "slide_type": "slide"
    }
   },
   "outputs": [],
   "source": [
    "import pandas as pd\n",
    "import scipy.stats\n",
    "import numpy as np"
   ]
  },
  {
   "cell_type": "code",
   "execution_count": 97,
   "metadata": {
    "slideshow": {
     "slide_type": "skip"
    }
   },
   "outputs": [
    {
     "name": "stdout",
     "output_type": "stream",
     "text": [
      "[('1',), ('2',), ('3',)]\n",
      "[('1', '2'), ('1', '3'), ('2', '1'), ('2', '3'), ('3', '1'), ('3', '2')]\n",
      "[('1', '2', '3'), ('1', '3', '2'), ('2', '1', '3'), ('2', '3', '1'), ('3', '1', '2'), ('3', '2', '1')]\n"
     ]
    },
    {
     "data": {
      "text/plain": [
       "15"
      ]
     },
     "execution_count": 97,
     "metadata": {},
     "output_type": "execute_result"
    }
   ],
   "source": [
    "from itertools import combinations,permutations\n",
    "a=[]\n",
    "b=0\n",
    "lis=list('123')\n",
    "\n",
    "for i in xrange(1, len(lis) + 1):  #  xrange will return the values 1,2,3,4 in this loop\n",
    "    print list(permutations(lis, i))\n",
    "    b=b+(len(list(permutations(lis, i))))\n",
    "    \n",
    "    lol = []\n",
    "    for d in list(permutations(lis, i)):\n",
    "        for c in (d):\n",
    "            lol.append(c)\n",
    "    a.append(list(permutations(lis, i)))\n",
    "b"
   ]
  },
  {
   "cell_type": "code",
   "execution_count": 96,
   "metadata": {},
   "outputs": [
    {
     "data": {
      "text/plain": [
       "16"
      ]
     },
     "execution_count": 96,
     "metadata": {},
     "output_type": "execute_result"
    }
   ],
   "source": [
    "import math\n",
    "\n",
    "def get_routes(routes):\n",
    "    res = 0\n",
    "    k = int(routes)\n",
    "    for n in range(1,routes+1):\n",
    "        res=res + math.factorial(k)/math.factorial(k-n)\n",
    "    res=res+1\n",
    "    return res\n",
    "get_routes(3)"
   ]
  },
  {
   "cell_type": "code",
   "execution_count": 41,
   "metadata": {
    "collapsed": true
   },
   "outputs": [],
   "source": [
    "## cnt = 0\n",
    "liste = []\n",
    "for c in a:\n",
    "    for d in c:\n",
    "        cnt = cnt + 1\n",
    "        liste.append((list(('0',)+d)))"
   ]
  },
  {
   "cell_type": "code",
   "execution_count": 24,
   "metadata": {
    "collapsed": true
   },
   "outputs": [],
   "source": [
    "cnt = 0\n",
    "liste = []\n",
    "for c in a:\n",
    "    for d in c:\n",
    "        cnt = cnt +1\n",
    "        liste.append(list(d))"
   ]
  },
  {
   "cell_type": "code",
   "execution_count": 25,
   "metadata": {},
   "outputs": [
    {
     "data": {
      "text/plain": [
       "13699"
      ]
     },
     "execution_count": 25,
     "metadata": {},
     "output_type": "execute_result"
    }
   ],
   "source": [
    "len(liste)"
   ]
  },
  {
   "cell_type": "code",
   "execution_count": 149,
   "metadata": {
    "collapsed": true
   },
   "outputs": [],
   "source": [
    "T_ij = np.array([[   0.,   59.,   80.,   88.,   75.,   86.,   75.,   87.,    0.],\n",
    "       [  59.,    0.,   96.,  134.,   65.,   82.,  112.,   66.,   59.],\n",
    "       [  80.,   96.,    0.,   70.,   52.,   24.,  133.,  136.,   80.],\n",
    "       [  88.,  134.,   70.,    0.,  100.,   76.,  129.,  168.,   88.],\n",
    "       [  75.,   65.,   52.,  100.,    0.,   39.,  124.,  107.,   75.],\n",
    "       [  86.,   82.,   24.,   76.,   39.,    0.,  135.,  123.,   86.],\n",
    "       [  75.,  112.,  133.,  129.,  124.,  135.,    0.,  118.,   75.],\n",
    "       [  87.,   66.,  136.,  168.,  107.,  123.,  118.,    0.,   87.],\n",
    "       [   0.,   59.,   80.,   88.,   75.,   86.,   75.,   87.,    0.]])    "
   ]
  },
  {
   "cell_type": "code",
   "execution_count": 178,
   "metadata": {},
   "outputs": [
    {
     "data": {
      "text/plain": [
       "array([['1'], ['2'], ['3'], ['4'], ['5'], ['6'], ['7'], ['1', '2'],\n",
       "       ['1', '3'], ['1', '4'], ['1', '5'], ['1', '6'], ['1', '7'],\n",
       "       ['2', '1'], ['2', '3'], ['2', '4'], ['2', '5'], ['2', '6'],\n",
       "       ['2', '7'], ['3', '1'], ['3', '2'], ['3', '4'], ['3', '5'],\n",
       "       ['3', '6'], ['3', '7'], ['4', '1'], ['4', '2'], ['4', '3'],\n",
       "       ['4', '5'], ['4', '6'], ['4', '7'], ['5', '1'], ['5', '2'],\n",
       "       ['5', '3'], ['5', '4'], ['5', '6'], ['5', '7'], ['6', '1'],\n",
       "       ['6', '2'], ['6', '3'], ['6', '4'], ['6', '5'], ['6', '7'],\n",
       "       ['7', '1'], ['7', '2'], ['7', '3'], ['7', '4'], ['7', '5'],\n",
       "       ['7', '6'], ['1', '2', '3'], ['1', '2', '4'], ['1', '2', '5'],\n",
       "       ['1', '4', '2'], ['1', '4', '3'], ['1', '4', '5'], ['1', '4', '6'],\n",
       "       ['1', '4', '7'], ['1', '5', '2'], ['1', '5', '3'], ['1', '5', '4'],\n",
       "       ['1', '7', '2'], ['1', '7', '4'], ['1', '7', '5'], ['1', '7', '6'],\n",
       "       ['2', '1', '4'], ['2', '1', '5'], ['2', '1', '7'], ['2', '3', '4'],\n",
       "       ['2', '3', '5'], ['2', '3', '6'], ['2', '4', '1'], ['2', '4', '3'],\n",
       "       ['2', '4', '5'], ['2', '4', '6'], ['2', '4', '7'], ['2', '5', '1'],\n",
       "       ['2', '5', '3'], ['2', '5', '4'], ['2', '5', '6'], ['2', '5', '7'],\n",
       "       ['2', '7', '1'], ['3', '1', '4'], ['3', '1', '7'], ['3', '2', '1'],\n",
       "       ['3', '2', '4'], ['3', '2', '5'], ['3', '2', '6'], ['3', '4', '1'],\n",
       "       ['3', '4', '2'], ['3', '4', '5'], ['3', '5', '1'], ['3', '5', '2'],\n",
       "       ['3', '5', '4'], ['3', '5', '7'], ['4', '1', '2'], ['4', '1', '3'],\n",
       "       ['4', '1', '5'], ['4', '1', '6'], ['4', '1', '7'], ['4', '2', '1'],\n",
       "       ['4', '2', '3'], ['4', '2', '5'], ['4', '2', '6'], ['4', '2', '7'],\n",
       "       ['4', '3', '2'], ['4', '3', '5'], ['4', '5', '1'], ['4', '5', '2'],\n",
       "       ['4', '5', '3'], ['4', '5', '6'], ['4', '5', '7'], ['4', '7', '1'],\n",
       "       ['5', '1', '2'], ['5', '1', '4'], ['5', '1', '6'], ['5', '1', '7'],\n",
       "       ['5', '2', '1'], ['5', '2', '3'], ['5', '2', '4'], ['5', '2', '6'],\n",
       "       ['5', '2', '7'], ['5', '3', '2'], ['5', '3', '4'], ['5', '4', '1'],\n",
       "       ['5', '4', '2'], ['5', '4', '3'], ['5', '4', '6'], ['5', '4', '7'],\n",
       "       ['5', '7', '1'], ['6', '1', '4'], ['6', '1', '5'], ['6', '1', '7'],\n",
       "       ['6', '2', '3'], ['6', '2', '4'], ['6', '2', '5'], ['6', '3', '2'],\n",
       "       ['6', '4', '1'], ['6', '4', '2'], ['6', '4', '5'], ['6', '5', '2'],\n",
       "       ['6', '5', '4'], ['6', '7', '1'], ['7', '1', '2'], ['7', '1', '3'],\n",
       "       ['7', '1', '4'], ['7', '1', '5'], ['7', '1', '6'], ['7', '2', '4'],\n",
       "       ['7', '2', '5'], ['7', '4', '1'], ['7', '4', '2'], ['7', '4', '5'],\n",
       "       ['7', '5', '2'], ['7', '5', '3'], ['7', '5', '4'],\n",
       "       ['1', '2', '4', '5'], ['1', '2', '5', '3'], ['1', '2', '5', '4'],\n",
       "       ['1', '4', '2', '3'], ['1', '4', '2', '5'], ['1', '4', '5', '2'],\n",
       "       ['1', '4', '5', '3'], ['1', '5', '2', '3'], ['1', '5', '2', '4'],\n",
       "       ['1', '5', '4', '2'], ['2', '1', '4', '5'], ['2', '3', '5', '4'],\n",
       "       ['2', '4', '1', '5'], ['2', '4', '1', '7'], ['2', '4', '5', '1'],\n",
       "       ['2', '4', '5', '3'], ['2', '5', '1', '4'], ['2', '5', '1', '7'],\n",
       "       ['2', '5', '3', '4'], ['2', '5', '4', '1'], ['2', '5', '4', '3'],\n",
       "       ['2', '5', '4', '6'], ['2', '5', '4', '7'], ['3', '2', '4', '1'],\n",
       "       ['3', '2', '4', '5'], ['3', '2', '5', '1'], ['3', '2', '5', '4'],\n",
       "       ['3', '4', '2', '5'], ['3', '4', '5', '2'], ['3', '5', '2', '1'],\n",
       "       ['3', '5', '2', '4'], ['3', '5', '4', '1'], ['3', '5', '4', '2'],\n",
       "       ['4', '1', '2', '5'], ['4', '1', '5', '2'], ['4', '2', '3', '5'],\n",
       "       ['4', '2', '5', '1'], ['4', '2', '5', '3'], ['4', '2', '5', '7'],\n",
       "       ['4', '3', '2', '5'], ['4', '3', '5', '2'], ['4', '5', '1', '7'],\n",
       "       ['4', '5', '2', '1'], ['4', '5', '2', '3'], ['4', '5', '2', '6'],\n",
       "       ['4', '5', '2', '7'], ['4', '5', '3', '2'], ['5', '1', '4', '2'],\n",
       "       ['5', '2', '1', '4'], ['5', '2', '1', '7'], ['5', '2', '3', '4'],\n",
       "       ['5', '2', '4', '1'], ['5', '2', '4', '3'], ['5', '2', '4', '6'],\n",
       "       ['5', '2', '4', '7'], ['5', '3', '2', '4'], ['5', '4', '1', '2'],\n",
       "       ['5', '4', '1', '7'], ['5', '4', '2', '1'], ['5', '4', '2', '3'],\n",
       "       ['6', '2', '5', '4'], ['6', '4', '2', '5'], ['6', '4', '5', '2'],\n",
       "       ['7', '1', '2', '5'], ['7', '1', '4', '2'], ['7', '1', '4', '5'],\n",
       "       ['7', '1', '5', '2'], ['7', '1', '5', '4'], ['7', '2', '5', '4'],\n",
       "       ['7', '4', '2', '5'], ['7', '4', '5', '2'], ['7', '5', '2', '4'],\n",
       "       ['1', '4', '5', '2', '3'], ['2', '5', '4', '1', '7'],\n",
       "       ['3', '2', '5', '4', '1'], ['7', '1', '4', '5', '2']], dtype=object)"
      ]
     },
     "execution_count": 178,
     "metadata": {},
     "output_type": "execute_result"
    }
   ],
   "source": [
    "sum_list = []\n",
    "for listele in liste:\n",
    "    summe = 0\n",
    "    for cnt,d in enumerate(listele):\n",
    "        if cnt > 0:\n",
    "            summe = summe + T_ij[int(old_val)][int(d)]\n",
    "\n",
    "        old_val = d[:]\n",
    "    sum_list.append(summe)\n",
    "sum_arr = np.array(sum_list[:])\n",
    "perms = np.array(liste)\n",
    "perms[sum_arr<204]\n"
   ]
  },
  {
   "cell_type": "code",
   "execution_count": 52,
   "metadata": {
    "collapsed": true
   },
   "outputs": [],
   "source": [
    "import math\n",
    "\n",
    "def get_routes(routes):\n",
    "    res = 0\n",
    "    k = int(routes)\n",
    "    for n in range(0,routes):\n",
    "        res=res + math.factorial(k)/math.factorial(k-n)\n",
    "    res=res+1\n",
    "    return res\n"
   ]
  },
  {
   "cell_type": "code",
   "execution_count": 54,
   "metadata": {},
   "outputs": [
    {
     "data": {
      "text/plain": [
       "11"
      ]
     },
     "execution_count": 54,
     "metadata": {},
     "output_type": "execute_result"
    }
   ],
   "source": [
    "get_routes(3)"
   ]
  },
  {
   "cell_type": "code",
   "execution_count": 173,
   "metadata": {},
   "outputs": [
    {
     "data": {
      "text/plain": [
       "231"
      ]
     },
     "execution_count": 173,
     "metadata": {},
     "output_type": "execute_result"
    }
   ],
   "source": [
    "sum_arr = np.array(sum_list[:])\n",
    "len(sum_arr[sum_arr<204])"
   ]
  },
  {
   "cell_type": "code",
   "execution_count": 177,
   "metadata": {},
   "outputs": [
    {
     "data": {
      "text/plain": [
       "array([['1'], ['2'], ['3'], ['4'], ['5'], ['6'], ['7'], ['1', '2'],\n",
       "       ['1', '3'], ['1', '4'], ['1', '5'], ['1', '6'], ['1', '7'],\n",
       "       ['2', '1'], ['2', '3'], ['2', '4'], ['2', '5'], ['2', '6'],\n",
       "       ['2', '7'], ['3', '1'], ['3', '2'], ['3', '4'], ['3', '5'],\n",
       "       ['3', '6'], ['3', '7'], ['4', '1'], ['4', '2'], ['4', '3'],\n",
       "       ['4', '5'], ['4', '6'], ['4', '7'], ['5', '1'], ['5', '2'],\n",
       "       ['5', '3'], ['5', '4'], ['5', '6'], ['5', '7'], ['6', '1'],\n",
       "       ['6', '2'], ['6', '3'], ['6', '4'], ['6', '5'], ['6', '7'],\n",
       "       ['7', '1'], ['7', '2'], ['7', '3'], ['7', '4'], ['7', '5'],\n",
       "       ['7', '6'], ['1', '2', '3'], ['1', '2', '4'], ['1', '2', '5'],\n",
       "       ['1', '4', '2'], ['1', '4', '3'], ['1', '4', '5'], ['1', '4', '6'],\n",
       "       ['1', '4', '7'], ['1', '5', '2'], ['1', '5', '3'], ['1', '5', '4'],\n",
       "       ['1', '7', '2'], ['1', '7', '4'], ['1', '7', '5'], ['1', '7', '6'],\n",
       "       ['2', '1', '4'], ['2', '1', '5'], ['2', '1', '7'], ['2', '3', '4'],\n",
       "       ['2', '3', '5'], ['2', '3', '6'], ['2', '4', '1'], ['2', '4', '3'],\n",
       "       ['2', '4', '5'], ['2', '4', '6'], ['2', '4', '7'], ['2', '5', '1'],\n",
       "       ['2', '5', '3'], ['2', '5', '4'], ['2', '5', '6'], ['2', '5', '7'],\n",
       "       ['2', '7', '1'], ['3', '1', '4'], ['3', '1', '7'], ['3', '2', '1'],\n",
       "       ['3', '2', '4'], ['3', '2', '5'], ['3', '2', '6'], ['3', '4', '1'],\n",
       "       ['3', '4', '2'], ['3', '4', '5'], ['3', '5', '1'], ['3', '5', '2'],\n",
       "       ['3', '5', '4'], ['3', '5', '7'], ['4', '1', '2'], ['4', '1', '3'],\n",
       "       ['4', '1', '5'], ['4', '1', '6'], ['4', '1', '7'], ['4', '2', '1'],\n",
       "       ['4', '2', '3'], ['4', '2', '5'], ['4', '2', '6'], ['4', '2', '7'],\n",
       "       ['4', '3', '2'], ['4', '3', '5'], ['4', '5', '1'], ['4', '5', '2'],\n",
       "       ['4', '5', '3'], ['4', '5', '6'], ['4', '5', '7'], ['4', '7', '1'],\n",
       "       ['5', '1', '2'], ['5', '1', '4'], ['5', '1', '6'], ['5', '1', '7'],\n",
       "       ['5', '2', '1'], ['5', '2', '3'], ['5', '2', '4'], ['5', '2', '6'],\n",
       "       ['5', '2', '7'], ['5', '3', '2'], ['5', '3', '4'], ['5', '4', '1'],\n",
       "       ['5', '4', '2'], ['5', '4', '3'], ['5', '4', '6'], ['5', '4', '7'],\n",
       "       ['5', '7', '1'], ['6', '1', '4'], ['6', '1', '5'], ['6', '1', '7'],\n",
       "       ['6', '2', '3'], ['6', '2', '4'], ['6', '2', '5'], ['6', '3', '2'],\n",
       "       ['6', '4', '1'], ['6', '4', '2'], ['6', '4', '5'], ['6', '5', '2'],\n",
       "       ['6', '5', '4'], ['6', '7', '1'], ['7', '1', '2'], ['7', '1', '3'],\n",
       "       ['7', '1', '4'], ['7', '1', '5'], ['7', '1', '6'], ['7', '2', '4'],\n",
       "       ['7', '2', '5'], ['7', '4', '1'], ['7', '4', '2'], ['7', '4', '5'],\n",
       "       ['7', '5', '2'], ['7', '5', '3'], ['7', '5', '4'],\n",
       "       ['1', '2', '4', '5'], ['1', '2', '5', '3'], ['1', '2', '5', '4'],\n",
       "       ['1', '4', '2', '3'], ['1', '4', '2', '5'], ['1', '4', '5', '2'],\n",
       "       ['1', '4', '5', '3'], ['1', '5', '2', '3'], ['1', '5', '2', '4'],\n",
       "       ['1', '5', '4', '2'], ['2', '1', '4', '5'], ['2', '3', '5', '4'],\n",
       "       ['2', '4', '1', '5'], ['2', '4', '1', '7'], ['2', '4', '5', '1'],\n",
       "       ['2', '4', '5', '3'], ['2', '5', '1', '4'], ['2', '5', '1', '7'],\n",
       "       ['2', '5', '3', '4'], ['2', '5', '4', '1'], ['2', '5', '4', '3'],\n",
       "       ['2', '5', '4', '6'], ['2', '5', '4', '7'], ['3', '2', '4', '1'],\n",
       "       ['3', '2', '4', '5'], ['3', '2', '5', '1'], ['3', '2', '5', '4'],\n",
       "       ['3', '4', '2', '5'], ['3', '4', '5', '2'], ['3', '5', '2', '1'],\n",
       "       ['3', '5', '2', '4'], ['3', '5', '4', '1'], ['3', '5', '4', '2'],\n",
       "       ['4', '1', '2', '5'], ['4', '1', '5', '2'], ['4', '2', '3', '5'],\n",
       "       ['4', '2', '5', '1'], ['4', '2', '5', '3'], ['4', '2', '5', '7'],\n",
       "       ['4', '3', '2', '5'], ['4', '3', '5', '2'], ['4', '5', '1', '7'],\n",
       "       ['4', '5', '2', '1'], ['4', '5', '2', '3'], ['4', '5', '2', '6'],\n",
       "       ['4', '5', '2', '7'], ['4', '5', '3', '2'], ['5', '1', '4', '2'],\n",
       "       ['5', '2', '1', '4'], ['5', '2', '1', '7'], ['5', '2', '3', '4'],\n",
       "       ['5', '2', '4', '1'], ['5', '2', '4', '3'], ['5', '2', '4', '6'],\n",
       "       ['5', '2', '4', '7'], ['5', '3', '2', '4'], ['5', '4', '1', '2'],\n",
       "       ['5', '4', '1', '7'], ['5', '4', '2', '1'], ['5', '4', '2', '3'],\n",
       "       ['6', '2', '5', '4'], ['6', '4', '2', '5'], ['6', '4', '5', '2'],\n",
       "       ['7', '1', '2', '5'], ['7', '1', '4', '2'], ['7', '1', '4', '5'],\n",
       "       ['7', '1', '5', '2'], ['7', '1', '5', '4'], ['7', '2', '5', '4'],\n",
       "       ['7', '4', '2', '5'], ['7', '4', '5', '2'], ['7', '5', '2', '4'],\n",
       "       ['1', '4', '5', '2', '3'], ['2', '5', '4', '1', '7'],\n",
       "       ['3', '2', '5', '4', '1'], ['7', '1', '4', '5', '2']], dtype=object)"
      ]
     },
     "execution_count": 177,
     "metadata": {},
     "output_type": "execute_result"
    }
   ],
   "source": [
    "ad = np.array(liste)\n",
    "ad[sum_arr<204]"
   ]
  },
  {
   "cell_type": "markdown",
   "metadata": {},
   "source": [
    " $$ x_{ij} \\in \\mathbb{R}^{*} \\Leftrightarrow  \\sum_{i,j} {x_{ij} * distance_{ij} } \\leq upperlimit-lowerlimit \\approx 204 $$"
   ]
  },
  {
   "cell_type": "markdown",
   "metadata": {},
   "source": [
    "$$\n",
    " \\begin{array}{cc}\n",
    "\\begin{pmatrix}\n",
    "bin_{11} & bin_{12} & bin_{1i} \\\\\n",
    "bin_{21} & bin_{22} &  bin_{2i} \\\\\n",
    "bin_{31} & bin_{32} &  bin_{ri}\n",
    "\\end{pmatrix}\n",
    "\\end{array} \n",
    "%\n",
    "\\begin{array}{cc}\n",
    "\\begin{pmatrix}\n",
    "d_{11} & d_{12} & d_{ij} \\\\\n",
    "d_{21} & d_{22} & d_{2j} \\\\\n",
    "d_{1j} & d_{2j} & d_{ij}\n",
    "\\end{pmatrix}\n",
    "\\end{array} \n",
    "$$  \n",
    " "
   ]
  },
  {
   "cell_type": "code",
   "execution_count": 112,
   "metadata": {
    "slideshow": {
     "slide_type": "slide"
    }
   },
   "outputs": [
    {
     "data": {
      "image/png": "[encoded data removed]",
      "text/plain": [
       "<matplotlib.figure.Figure at 0x1123f3110>"
      ]
     },
     "metadata": {},
     "output_type": "display_data"
    }
   ],
   "source": [
    "import matplotlib.pyplot as plt\n",
    "import numpy as np\n",
    "\n",
    "vals= []\n",
    "vals2= []\n",
    "for a in range(6):\n",
    "    vals.append(get_routes(a))\n",
    "    vals2.append(a*(a-1))\n",
    "plt.plot((np.array(vals)))\n",
    "plt.plot((np.array(vals2)))\n",
    "plt.xlabel(\"Anzahl der Knoten\")\n",
    "plt.ylabel(\"Moeglichkeiten\")\n",
    "plt.show()"
   ]
  },
  {
   "cell_type": "code",
   "execution_count": 145,
   "metadata": {},
   "outputs": [
    {
     "data": {
      "image/png": "[encoded data removed]",
      "text/plain": [
       "<matplotlib.figure.Figure at 0x1132b0210>"
      ]
     },
     "metadata": {},
     "output_type": "display_data"
    }
   ],
   "source": [
    "lines = pd.DataFrame(vals)\n",
    "lines[''] =vals2\n",
    "lines.columns = ['Pfade= $ \\sum_{k \\in \\{1,2,3..,n_{nodes} \\}}{\\frac{n!}{(n-k)!}} + 1 $','Wege']\n",
    "\n",
    "lines.plot()\n",
    "plt.xlabel(\"Anzahl der Knoten\")\n",
    "plt.ylabel(\"Moeglichkeiten\")\n",
    "plt.show()"
   ]
  },
  {
   "cell_type": "code",
   "execution_count": 148,
   "metadata": {},
   "outputs": [
    {
     "name": "stdout",
     "output_type": "stream",
     "text": [
      "$ 2+ a_j $ \n"
     ]
    }
   ],
   "source": [
    "print('$ 2+ a_j $ ')"
   ]
  },
  {
   "cell_type": "code",
   "execution_count": 132,
   "metadata": {},
   "outputs": [
    {
     "data": {
      "image/png": "[encoded data removed]",
      "text/plain": [
       "<matplotlib.figure.Figure at 0x112301c50>"
      ]
     },
     "metadata": {},
     "output_type": "display_data"
    },
    {
     "data": {
      "image/png": "[encoded data removed]",
      "text/plain": [
       "<matplotlib.figure.Figure at 0x112e25d90>"
      ]
     },
     "metadata": {},
     "output_type": "display_data"
    }
   ],
   "source": [
    "lines.plot()\n",
    "plt.show()"
   ]
  }
 ],
 "metadata": {
  "celltoolbar": "Slideshow",
  "kernelspec": {
   "display_name": "Python 2",
   "language": "python",
   "name": "python2"
  },
  "language_info": {
   "codemirror_mode": {
    "name": "ipython",
    "version": 2
   },
   "file_extension": ".py",
   "mimetype": "text/x-python",
   "name": "python",
   "nbconvert_exporter": "python",
   "pygments_lexer": "ipython2",
   "version": "2.7.13"
  },
  "toc": {
   "colors": {
    "hover_highlight": "#DAA520",
    "running_highlight": "#FF0000",
    "selected_highlight": "#FFD700"
   },
   "moveMenuLeft": true,
   "nav_menu": {
    "height": "12px",
    "width": "252px"
   },
   "navigate_menu": true,
   "number_sections": true,
   "sideBar": true,
   "threshold": 4,
   "toc_cell": false,
   "toc_section_display": "block",
   "toc_window_display": false,
   "widenNotebook": false
  }
 },
 "nbformat": 4,
 "nbformat_minor": 2
}
